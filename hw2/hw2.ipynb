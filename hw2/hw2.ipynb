{
 "cells": [
  {
   "cell_type": "code",
   "execution_count": 636,
   "id": "d998586d",
   "metadata": {},
   "outputs": [],
   "source": [
    "import random\n",
    "from sklearn import linear_model\n",
    "from matplotlib import pyplot as plt\n",
    "from collections import defaultdict\n",
    "import gzip\n",
    "import numpy as np\n",
    "from sklearn import metrics\n",
    "import pandas as pd\n",
    "\n",
    "import warnings\n",
    "warnings.filterwarnings('ignore')"
   ]
  },
  {
   "cell_type": "code",
   "execution_count": 637,
   "id": "f17a95c1",
   "metadata": {},
   "outputs": [],
   "source": [
    "def assertFloat(x):\n",
    "    assert type(float(x)) == float\n",
    "\n",
    "def assertFloatList(items, N):\n",
    "    assert len(items) == N\n",
    "    assert [type(float(x)) for x in items] == [float]*N"
   ]
  },
  {
   "cell_type": "code",
   "execution_count": 638,
   "id": "4a87f98f-715c-4bc5-9b06-ac92e1ad7a22",
   "metadata": {},
   "outputs": [],
   "source": [
    "answers = {}"
   ]
  },
  {
   "cell_type": "code",
   "execution_count": 639,
   "id": "a851f13d-134a-4ce4-8bd2-df5f606ac9dd",
   "metadata": {},
   "outputs": [],
   "source": [
    "def parseData(fname):\n",
    "    for l in open(fname):\n",
    "        yield eval(l)"
   ]
  },
  {
   "cell_type": "code",
   "execution_count": 640,
   "id": "ba796d3e-294d-403c-8b81-b3f4a85523d4",
   "metadata": {},
   "outputs": [],
   "source": [
    "data = list(parseData(\"data/beer_50000.json\"))"
   ]
  },
  {
   "cell_type": "code",
   "execution_count": 641,
   "id": "6100b434-b50d-4dff-b986-61ce07aa6a39",
   "metadata": {},
   "outputs": [],
   "source": [
    "random.seed(0)\n",
    "random.shuffle(data)"
   ]
  },
  {
   "cell_type": "code",
   "execution_count": 642,
   "id": "a6e9582d-279e-4a0d-bcad-e85018bd4ffb",
   "metadata": {},
   "outputs": [],
   "source": [
    "dataTrain = data[:25000]\n",
    "dataValid = data[25000:37500]\n",
    "dataTest = data[37500:]"
   ]
  },
  {
   "cell_type": "code",
   "execution_count": 643,
   "id": "d3b17174-8ad6-4a98-ac3f-1a431c730cfd",
   "metadata": {},
   "outputs": [],
   "source": [
    "yTrain = [d['beer/ABV'] > 7 for d in dataTrain]\n",
    "yValid = [d['beer/ABV'] > 7 for d in dataValid]\n",
    "yTest = [d['beer/ABV'] > 7 for d in dataTest]"
   ]
  },
  {
   "cell_type": "code",
   "execution_count": 644,
   "id": "a7712018-f883-4a4c-9ba0-9ae9287c6b31",
   "metadata": {},
   "outputs": [],
   "source": [
    "categoryCounts = defaultdict(int)\n",
    "for d in data:\n",
    "    categoryCounts[d['beer/style']] += 1"
   ]
  },
  {
   "cell_type": "code",
   "execution_count": 645,
   "id": "e82da2c2-43a6-4269-87a3-5fd5ef92f3b0",
   "metadata": {},
   "outputs": [],
   "source": [
    "categories = [c for c in categoryCounts if categoryCounts[c] > 1000]"
   ]
  },
  {
   "cell_type": "code",
   "execution_count": 646,
   "id": "1c838c5c-6c59-4049-8201-68c376dd4295",
   "metadata": {},
   "outputs": [],
   "source": [
    "catID = dict(zip(list(categories),range(len(categories))))"
   ]
  },
  {
   "cell_type": "code",
   "execution_count": 647,
   "id": "c08c39d6",
   "metadata": {},
   "outputs": [],
   "source": [
    "max_len = 0\n",
    "for datum in dataTrain:\n",
    "    if len(datum['review/text']) > max_len:\n",
    "        max_len = len(datum['review/text'])"
   ]
  },
  {
   "cell_type": "code",
   "execution_count": 648,
   "id": "7dbd03fa-5329-405f-9023-7690f9a45c86",
   "metadata": {},
   "outputs": [],
   "source": [
    "def feat(d, includeCat = True, includeReview = True, includeLength = True):\n",
    "    # In my solution, I wrote a reusable function that takes parameters to generate features for each question\n",
    "    # Feel free to keep or discard\n",
    "\n",
    "    output_feat = []\n",
    "\n",
    "    if includeCat:\n",
    "        cat_feat = [0]*len(catID)\n",
    "        cat = d['beer/style']\n",
    "        if cat in categories:\n",
    "            cat_feat[catID[cat]] = 1\n",
    "        output_feat += cat_feat\n",
    "    \n",
    "    if includeReview:\n",
    "        rev_feat = [d['review/aroma'], d['review/overall'], d['review/appearance'], \\\n",
    "            d['review/taste'], d['review/palate']]\n",
    "        output_feat += rev_feat\n",
    "\n",
    "    if includeLength:\n",
    "        len_feat = len(d['review/text']) / max_len\n",
    "        output_feat += [len_feat]\n",
    "    \n",
    "    return [1] + output_feat"
   ]
  },
  {
   "cell_type": "code",
   "execution_count": 649,
   "id": "a5d6f37f",
   "metadata": {},
   "outputs": [
    {
     "data": {
      "text/plain": [
       "2"
      ]
     },
     "execution_count": 649,
     "metadata": {},
     "output_type": "execute_result"
    }
   ],
   "source": [
    "# sanity check\n",
    "\n",
    "test = np.array([1, 1, 2])\n",
    "test1 = np.array([1, 1, 3])\n",
    "sum(test==test1)"
   ]
  },
  {
   "cell_type": "code",
   "execution_count": 650,
   "id": "35221df5",
   "metadata": {},
   "outputs": [
    {
     "data": {
      "text/plain": [
       "[[1,\n",
       "  0,\n",
       "  0,\n",
       "  0,\n",
       "  0,\n",
       "  0,\n",
       "  0,\n",
       "  0,\n",
       "  0,\n",
       "  0,\n",
       "  0,\n",
       "  0,\n",
       "  0,\n",
       "  0,\n",
       "  4.0,\n",
       "  4.0,\n",
       "  4.0,\n",
       "  4.0,\n",
       "  4.0,\n",
       "  0.06333403939843253],\n",
       " [1,\n",
       "  0,\n",
       "  0,\n",
       "  0,\n",
       "  0,\n",
       "  0,\n",
       "  0,\n",
       "  0,\n",
       "  0,\n",
       "  0,\n",
       "  0,\n",
       "  0,\n",
       "  0,\n",
       "  0,\n",
       "  2.0,\n",
       "  5.0,\n",
       "  4.0,\n",
       "  3.0,\n",
       "  3.0,\n",
       "  0.07371319635670409],\n",
       " [1,\n",
       "  1,\n",
       "  0,\n",
       "  0,\n",
       "  0,\n",
       "  0,\n",
       "  0,\n",
       "  0,\n",
       "  0,\n",
       "  0,\n",
       "  0,\n",
       "  0,\n",
       "  0,\n",
       "  0,\n",
       "  3.0,\n",
       "  4.5,\n",
       "  4.0,\n",
       "  4.5,\n",
       "  5.0,\n",
       "  0.10760432111840712],\n",
       " [1,\n",
       "  0,\n",
       "  0,\n",
       "  0,\n",
       "  0,\n",
       "  0,\n",
       "  0,\n",
       "  0,\n",
       "  0,\n",
       "  0,\n",
       "  0,\n",
       "  0,\n",
       "  0,\n",
       "  0,\n",
       "  3.0,\n",
       "  3.0,\n",
       "  2.5,\n",
       "  3.0,\n",
       "  2.5,\n",
       "  0.08112687989832662],\n",
       " [1,\n",
       "  0,\n",
       "  1,\n",
       "  0,\n",
       "  0,\n",
       "  0,\n",
       "  0,\n",
       "  0,\n",
       "  0,\n",
       "  0,\n",
       "  0,\n",
       "  0,\n",
       "  0,\n",
       "  0,\n",
       "  4.0,\n",
       "  4.5,\n",
       "  4.0,\n",
       "  4.0,\n",
       "  3.0,\n",
       "  0.13408176233848762]]"
      ]
     },
     "execution_count": 650,
     "metadata": {},
     "output_type": "execute_result"
    }
   ],
   "source": [
    "# sanity check\n",
    "\n",
    "[feat(datum, True, True, True) for datum in dataTrain[:5]]"
   ]
  },
  {
   "cell_type": "code",
   "execution_count": 651,
   "id": "8f8b3562-5ca9-4648-855c-7b597273b25f",
   "metadata": {},
   "outputs": [],
   "source": [
    "def pipeline(reg, includeCat = True, includeReview = True, includeLength = True):\n",
    "    # ...\n",
    "\n",
    "    features = [feat(datum, includeCat, includeReview, includeLength) for datum in dataTrain]\n",
    "    reg = linear_model.LogisticRegression(C=reg, fit_intercept=False, class_weight='balanced').fit(features, yTrain)\n",
    "\n",
    "    # validation\n",
    "    valid_feat = [feat(datum, includeCat, includeReview, includeLength) for datum in dataValid]\n",
    "    valid_preds = reg.predict(valid_feat)\n",
    "    valid_acc = sum(valid_preds==yValid) / len(valid_preds)\n",
    "    tn, fp, fn, tp = metrics.confusion_matrix(yValid, valid_preds).ravel()\n",
    "    tpr = tp / (tp + fn)\n",
    "    fpr = fp / (fp + tn) \n",
    "    valid_ber = 0.5*(fpr + (1 - tpr))\n",
    "\n",
    "    # test\n",
    "    test_feat = [feat(datum, includeCat, includeReview, includeLength) for datum in dataTest]\n",
    "    test_preds = reg.predict(test_feat)\n",
    "    test_acc = sum(test_preds==yTest) / len(test_preds)\n",
    "    tn, fp, fn, tp = metrics.confusion_matrix(yTest, test_preds).ravel()\n",
    "    tpr = tp / (tp + fn)\n",
    "    fpr = fp / (fp + tn) \n",
    "    test_ber = 0.5*(fpr + (1 - tpr))\n",
    "\n",
    "    return reg, valid_ber, test_ber"
   ]
  },
  {
   "cell_type": "code",
   "execution_count": 652,
   "id": "14486a0e-c501-4988-abb5-ab70c1cd3e66",
   "metadata": {},
   "outputs": [],
   "source": [
    "### Question 1"
   ]
  },
  {
   "cell_type": "code",
   "execution_count": 653,
   "id": "900cb7ce-fb76-401d-a95e-66053bed0445",
   "metadata": {},
   "outputs": [],
   "source": [
    "mod, validBER, testBER = pipeline(10, True, False, False)"
   ]
  },
  {
   "cell_type": "code",
   "execution_count": 654,
   "id": "cf2571b3-6999-4714-a4aa-62dab31937bb",
   "metadata": {},
   "outputs": [],
   "source": [
    "answers['Q1'] = [validBER, testBER]"
   ]
  },
  {
   "cell_type": "code",
   "execution_count": 655,
   "id": "f899b683-3a9c-4f65-9167-54938589f12c",
   "metadata": {},
   "outputs": [],
   "source": [
    "assertFloatList(answers['Q1'], 2)"
   ]
  },
  {
   "cell_type": "code",
   "execution_count": 657,
   "id": "a5724e91-cbd9-4e44-8a20-7a8cc350c1a4",
   "metadata": {},
   "outputs": [],
   "source": [
    "### Question 2"
   ]
  },
  {
   "cell_type": "code",
   "execution_count": 658,
   "id": "f707bfa2-cdd6-43fd-8bff-724e1a28f185",
   "metadata": {},
   "outputs": [],
   "source": [
    "mod, validBER, testBER = pipeline(10, True, True, True)"
   ]
  },
  {
   "cell_type": "code",
   "execution_count": 659,
   "id": "23daba7d-3f75-4d50-b393-34992f4710cc",
   "metadata": {},
   "outputs": [],
   "source": [
    "answers['Q2'] = [validBER, testBER]"
   ]
  },
  {
   "cell_type": "code",
   "execution_count": 660,
   "id": "ecb8d0b4-d4c8-4419-a7c1-febb78fd44f5",
   "metadata": {},
   "outputs": [],
   "source": [
    "assertFloatList(answers['Q2'], 2)"
   ]
  },
  {
   "cell_type": "code",
   "execution_count": 662,
   "id": "6e65d346-5020-429b-90ed-4d52d7c97b4f",
   "metadata": {},
   "outputs": [],
   "source": [
    "### Question 3"
   ]
  },
  {
   "cell_type": "code",
   "execution_count": 663,
   "id": "c97f0b41-0914-4649-984f-252e03ff9b08",
   "metadata": {},
   "outputs": [
    {
     "name": "stdout",
     "output_type": "stream",
     "text": [
      "c = 0.001 - valid BER = 0.15432897254842565\n",
      "\n",
      "c = 0.01 - valid BER = 0.1482544084665771\n",
      "\n",
      "c = 0.1 - valid BER = 0.1423838526493911\n",
      "\n",
      "c = 1 - valid BER = 0.14184454647401384\n",
      "\n",
      "c = 10 - valid BER = 0.14164748339047073\n",
      "\n"
     ]
    }
   ],
   "source": [
    "for c in [0.001, 0.01, 0.1, 1, 10]:\n",
    "    validation_ber = pipeline(c, True, True, True)[1]\n",
    "    print(f'c = {c} - valid BER = {validation_ber}\\n')"
   ]
  },
  {
   "cell_type": "code",
   "execution_count": 664,
   "id": "0d0f5628-46f4-430d-8e84-99a97b9d81a2",
   "metadata": {},
   "outputs": [],
   "source": [
    "bestC = 10"
   ]
  },
  {
   "cell_type": "code",
   "execution_count": 665,
   "id": "06ae5223-330b-42f0-bce3-66fe2526e126",
   "metadata": {},
   "outputs": [],
   "source": [
    "mod, validBER, testBER = pipeline(10, True, True, True)"
   ]
  },
  {
   "cell_type": "code",
   "execution_count": 666,
   "id": "812e0e27-424f-4389-9a65-d19d470910cd",
   "metadata": {},
   "outputs": [],
   "source": [
    "answers['Q3'] = [bestC, validBER, testBER]"
   ]
  },
  {
   "cell_type": "code",
   "execution_count": 667,
   "id": "362bb32f-f81e-4f3e-9c8b-24b6beeee794",
   "metadata": {},
   "outputs": [],
   "source": [
    "assertFloatList(answers['Q3'], 3)"
   ]
  },
  {
   "cell_type": "code",
   "execution_count": 669,
   "id": "6e31986b-646d-4bac-b578-517c6f2c02b9",
   "metadata": {},
   "outputs": [],
   "source": [
    "### Question 4"
   ]
  },
  {
   "cell_type": "code",
   "execution_count": 670,
   "id": "41301b71",
   "metadata": {},
   "outputs": [
    {
     "data": {
      "text/plain": [
       "[[1, 0, 0, 0, 0, 0, 0, 0, 0, 0, 0, 0, 0, 0, 0.06333403939843253],\n",
       " [1, 0, 0, 0, 0, 0, 0, 0, 0, 0, 0, 0, 0, 0, 0.07371319635670409],\n",
       " [1, 1, 0, 0, 0, 0, 0, 0, 0, 0, 0, 0, 0, 0, 0.10760432111840712],\n",
       " [1, 0, 0, 0, 0, 0, 0, 0, 0, 0, 0, 0, 0, 0, 0.08112687989832662],\n",
       " [1, 0, 1, 0, 0, 0, 0, 0, 0, 0, 0, 0, 0, 0, 0.13408176233848762]]"
      ]
     },
     "execution_count": 670,
     "metadata": {},
     "output_type": "execute_result"
    }
   ],
   "source": [
    "# sanity check\n",
    "\n",
    "[feat(datum, True, False, True) for datum in dataTrain[:5]]"
   ]
  },
  {
   "cell_type": "code",
   "execution_count": 671,
   "id": "e13dfbba-c13e-4e60-b243-6f7145096dd8",
   "metadata": {},
   "outputs": [],
   "source": [
    "mod, validBER, testBER_noCat = pipeline(1, False, True, True)"
   ]
  },
  {
   "cell_type": "code",
   "execution_count": 672,
   "id": "d2c4f168-c3e6-4d1c-ad39-7804ff5a1a5f",
   "metadata": {},
   "outputs": [],
   "source": [
    "mod, validBER, testBER_noReview = pipeline(1, True, False, True)"
   ]
  },
  {
   "cell_type": "code",
   "execution_count": 673,
   "id": "bc7c86a0-2e6a-48bc-828a-8b805786a41d",
   "metadata": {},
   "outputs": [],
   "source": [
    "mod, validBER, testBER_noLength = pipeline(1, True, True, False)"
   ]
  },
  {
   "cell_type": "code",
   "execution_count": 674,
   "id": "b3f5794b-10c9-41b3-bbf4-05b346fffcfb",
   "metadata": {},
   "outputs": [],
   "source": [
    "answers['Q4'] = [testBER_noCat, testBER_noReview, testBER_noLength]"
   ]
  },
  {
   "cell_type": "code",
   "execution_count": 675,
   "id": "0c3a712d-90cd-4a67-afe1-cca63b84e498",
   "metadata": {},
   "outputs": [],
   "source": [
    "assertFloatList(answers['Q4'], 3)"
   ]
  },
  {
   "cell_type": "code",
   "execution_count": 677,
   "id": "614e7747-143a-43e5-a0bd-1709c3bc4b50",
   "metadata": {},
   "outputs": [],
   "source": [
    "### Question 5"
   ]
  },
  {
   "cell_type": "code",
   "execution_count": 678,
   "id": "fe681798-bbd6-4d9b-ae30-f1431b9bebaf",
   "metadata": {},
   "outputs": [],
   "source": [
    "path = \"data/amazon_reviews_us_Musical_Instruments_v1_00.tsv.gz\"\n",
    "f = gzip.open(path, 'rt', encoding=\"utf8\")\n",
    "\n",
    "header = f.readline()\n",
    "header = header.strip().split('\\t')"
   ]
  },
  {
   "cell_type": "code",
   "execution_count": 679,
   "id": "36a79b1c-a4bf-4e5d-bc5d-e5e9bfd333f3",
   "metadata": {},
   "outputs": [
    {
     "data": {
      "text/plain": [
       "['marketplace',\n",
       " 'customer_id',\n",
       " 'review_id',\n",
       " 'product_id',\n",
       " 'product_parent',\n",
       " 'product_title',\n",
       " 'product_category',\n",
       " 'star_rating',\n",
       " 'helpful_votes',\n",
       " 'total_votes',\n",
       " 'vine',\n",
       " 'verified_purchase',\n",
       " 'review_headline',\n",
       " 'review_body',\n",
       " 'review_date']"
      ]
     },
     "execution_count": 679,
     "metadata": {},
     "output_type": "execute_result"
    }
   ],
   "source": [
    "header"
   ]
  },
  {
   "cell_type": "code",
   "execution_count": 680,
   "id": "01c5fd53-ddd9-4f65-b602-f33dcd411ab2",
   "metadata": {},
   "outputs": [
    {
     "name": "stdout",
     "output_type": "stream",
     "text": [
      "Skipping duplicate user/item: ('46953315', 'B00QM3CNN6')\n",
      "Skipping duplicate user/item: ('31616428', 'B0026RB0G8')\n",
      "Skipping duplicate user/item: ('47240912', 'B008I653SC')\n",
      "Skipping duplicate user/item: ('14503091', 'B003FRMRC4')\n",
      "Skipping duplicate user/item: ('38538360', 'B00HVLUR86')\n",
      "Skipping duplicate user/item: ('43448024', 'B00HVLUR86')\n",
      "Skipping duplicate user/item: ('51525270', 'B00HVLUR86')\n",
      "Skipping duplicate user/item: ('20652160', 'B004OU2IQG')\n",
      "Skipping duplicate user/item: ('10964440', 'B00HVLUR86')\n",
      "Skipping duplicate user/item: ('20043677', 'B00HVLUR86')\n",
      "Skipping duplicate user/item: ('44796499', 'B00HVLUSGM')\n",
      "Skipping duplicate user/item: ('29066899', 'B0002CZSYO')\n",
      "Skipping duplicate user/item: ('10385056', 'B004OU2IQG')\n",
      "Skipping duplicate user/item: ('1658551', 'B00HVLURL8')\n",
      "Skipping duplicate user/item: ('907433', 'B00N9Q2E5G')\n",
      "Skipping duplicate user/item: ('39412969', 'B00HVLUR86')\n",
      "Skipping duplicate user/item: ('4901688', 'B00HVLUR86')\n",
      "Skipping duplicate user/item: ('23458093', 'B005CX4GLE')\n",
      "Skipping duplicate user/item: ('38515272', 'B00HVLUSGM')\n",
      "Skipping duplicate user/item: ('11577442', 'B004OU2IQG')\n",
      "Skipping duplicate user/item: ('33123229', 'B0002CZSZ8')\n",
      "Skipping duplicate user/item: ('1473221', 'B00HVLURL8')\n",
      "Skipping duplicate user/item: ('1473221', 'B004OU2IQG')\n",
      "Skipping duplicate user/item: ('1658551', 'B004OU2IQG')\n",
      "Skipping duplicate user/item: ('43576831', 'B00MUFJXTM')\n",
      "Skipping duplicate user/item: ('31983516', 'B00HVLUR86')\n",
      "Skipping duplicate user/item: ('14312454', 'B004OU2IQG')\n",
      "Skipping duplicate user/item: ('30290991', 'B004OU2IQG')\n",
      "Skipping duplicate user/item: ('2714455', 'B003VWKPHC')\n",
      "Skipping duplicate user/item: ('19347026', 'B00B9QONQQ')\n",
      "Skipping duplicate user/item: ('44303814', 'B00HVLUSGM')\n",
      "Skipping duplicate user/item: ('7586067', 'B0002D0A82')\n",
      "Skipping duplicate user/item: ('45224935', 'B00NICSAVI')\n",
      "Skipping duplicate user/item: ('15394678', 'B00LTZTPJM')\n",
      "Skipping duplicate user/item: ('13593540', 'B0002D0CK8')\n",
      "Skipping duplicate user/item: ('4032226', 'B000BKJPQY')\n",
      "Skipping duplicate user/item: ('22561437', 'B003VWKPHC')\n",
      "Skipping duplicate user/item: ('14945376', 'B00HVLUSGM')\n",
      "Skipping duplicate user/item: ('12738423', 'B000068O3T')\n",
      "Skipping duplicate user/item: ('7081001', 'B0098VHUEG')\n",
      "Skipping duplicate user/item: ('41554871', 'B005VLWHP4')\n",
      "Skipping duplicate user/item: ('25881037', 'B003OG9NH8')\n",
      "Skipping duplicate user/item: ('52621298', 'B000A6ASSS')\n",
      "Skipping duplicate user/item: ('10125876', 'B008U1P9QG')\n",
      "Skipping duplicate user/item: ('50181160', 'B0002E3FBA')\n",
      "Skipping duplicate user/item: ('44622391', 'B003OT9N48')\n",
      "Skipping duplicate user/item: ('48408803', 'B00HVLUR86')\n",
      "Skipping duplicate user/item: ('1976244', 'B0010CP5DY')\n",
      "Skipping duplicate user/item: ('1753779', 'B0002CZVU0')\n",
      "Skipping duplicate user/item: ('17036027', 'B00267QD8S')\n",
      "Skipping duplicate user/item: ('7472528', 'B00646MZHK')\n",
      "Skipping duplicate user/item: ('26003848', 'B00CICPN0K')\n",
      "Skipping duplicate user/item: ('27819775', 'B003BNZHSI')\n",
      "Skipping duplicate user/item: ('13011180', 'B006RJRBY6')\n",
      "Skipping duplicate user/item: ('50079991', 'B0002F5544')\n",
      "Skipping duplicate user/item: ('15398248', 'B0032BYCWG')\n",
      "Skipping duplicate user/item: ('32786226', 'B003FRMRC4')\n",
      "Skipping duplicate user/item: ('47300481', 'B004Z17008')\n",
      "Skipping duplicate user/item: ('36336335', 'B002MAKE98')\n",
      "Skipping duplicate user/item: ('25504145', 'B005CX4GLE')\n",
      "Skipping duplicate user/item: ('25189829', 'B003VWJ2K8')\n",
      "Skipping duplicate user/item: ('16333305', 'B002MAMCIE')\n",
      "Skipping duplicate user/item: ('5095315', 'B003VWKPHC')\n",
      "Skipping duplicate user/item: ('19017131', 'B0002D0A7S')\n",
      "Skipping duplicate user/item: ('11330459', 'B003VWJ2K8')\n",
      "Skipping duplicate user/item: ('48076283', 'B0002D09Q0')\n",
      "Skipping duplicate user/item: ('31588426', 'B005NACC6M')\n",
      "Skipping duplicate user/item: ('35281019', 'B00646MZHK')\n",
      "Skipping duplicate user/item: ('9878929', 'B0057OIUW4')\n",
      "Skipping duplicate user/item: ('48005643', 'B003QGPCTE')\n",
      "Skipping duplicate user/item: ('49974033', 'B0002FOBJY')\n",
      "Skipping duplicate user/item: ('13906387', 'B005NACC6M')\n",
      "Skipping duplicate user/item: ('12746123', 'B005NACC6M')\n",
      "Skipping duplicate user/item: ('14064980', 'B00ALR3XH4')\n",
      "Skipping duplicate user/item: ('20797342', 'B00ATP5KF6')\n",
      "Skipping duplicate user/item: ('32368781', 'B001BM4PTI')\n",
      "Skipping duplicate user/item: ('21145462', 'B003VWJ2K8')\n",
      "Skipping duplicate user/item: ('16420980', 'B007I0EGGO')\n",
      "Skipping duplicate user/item: ('45432948', 'B003PEU5SK')\n",
      "Skipping duplicate user/item: ('13174036', 'B006RJRBY6')\n",
      "Skipping duplicate user/item: ('14812308', 'B0029PONJS')\n",
      "Skipping duplicate user/item: ('52428106', 'B000Y010WS')\n",
      "Skipping duplicate user/item: ('52896636', 'B003AYLJXU')\n",
      "Skipping duplicate user/item: ('23539660', 'B0002E518U')\n",
      "Skipping duplicate user/item: ('25740618', 'B004ZL3AEI')\n",
      "Skipping duplicate user/item: ('25740618', 'B0006SE59S')\n",
      "Skipping duplicate user/item: ('12922606', 'B000065BP9')\n",
      "Skipping duplicate user/item: ('24873662', 'B0002M6AC8')\n",
      "Skipping duplicate user/item: ('52256186', 'B0002GY7KQ')\n",
      "Skipping duplicate user/item: ('18342171', 'B0002H0OCA')\n",
      "Skipping duplicate user/item: ('49600435', 'B0002F7JPC')\n",
      "Skipping duplicate user/item: ('52390258', 'B0006HY5PI')\n",
      "Skipping duplicate user/item: ('17281475', 'B00008MIGG')\n",
      "Skipping duplicate user/item: ('32535778', 'B0000DH7IT')\n",
      "Skipping duplicate user/item: ('29480926', 'B0000TFYK2')\n",
      "Skipping duplicate user/item: ('26926367', 'B00007CWI7')\n",
      "Skipping duplicate user/item: ('26926367', 'B00007CWI7')\n",
      "Skipping duplicate user/item: ('30727166', 'B00002MZ8M')\n",
      "Skipping duplicate user/item: ('50944807', 'B00006AMBW')\n",
      "Skipping duplicate user/item: ('50944807', 'B00006AMBW')\n",
      "Skipping duplicate user/item: ('50072613', 'B00005BMSN')\n",
      "Skipping duplicate user/item: ('36831311', 'B00005OWCU')\n",
      "Skipping duplicate user/item: ('33924930', 'B00005K9CI')\n",
      "Skipping duplicate user/item: ('35957274', 'B00005BWSN')\n",
      "Skipping duplicate user/item: ('52056770', 'B000062UI4')\n",
      "Skipping duplicate user/item: ('40818529', 'B00006L57W')\n",
      "Skipping duplicate user/item: ('38182161', 'B00005S8KM')\n",
      "Skipping duplicate user/item: ('39289364', 'B00004SY4H')\n",
      "Skipping duplicate user/item: ('50683331', 'B00005S8KM')\n",
      "Skipping duplicate user/item: ('39430726', 'B00004YUWT')\n",
      "Skipping duplicate user/item: ('41535371', 'B00002F2IZ')\n",
      "Skipping duplicate user/item: ('41535371', 'B00002F2IZ')\n",
      "Skipping duplicate user/item: ('48686420', 'B00004YAHE')\n",
      "Skipping duplicate user/item: ('50707323', 'B00005OQMY')\n",
      "Skipping duplicate user/item: ('46322021', 'B00005K9DX')\n",
      "Skipping duplicate user/item: ('52835176', 'B00002F2IZ')\n",
      "Skipping duplicate user/item: ('47736173', 'B00004YUWT')\n",
      "Skipping duplicate user/item: ('49350719', 'B00002DDSF')\n"
     ]
    }
   ],
   "source": [
    "dataset = []\n",
    "\n",
    "pairsSeen = set()\n",
    "\n",
    "for line in f:\n",
    "    fields = line.strip().split('\\t')\n",
    "    d = dict(zip(header, fields))\n",
    "    ui = (d['customer_id'], d['product_id'])\n",
    "    if ui in pairsSeen:\n",
    "        print(\"Skipping duplicate user/item:\", ui)\n",
    "        continue\n",
    "    pairsSeen.add(ui)\n",
    "    d['star_rating'] = int(d['star_rating'])\n",
    "    d['helpful_votes'] = int(d['helpful_votes'])\n",
    "    d['total_votes'] = int(d['total_votes'])\n",
    "    dataset.append(d)"
   ]
  },
  {
   "cell_type": "code",
   "execution_count": 681,
   "id": "1d3c0175-41bc-4267-be22-0dd98136345a",
   "metadata": {},
   "outputs": [],
   "source": [
    "dataTrain = dataset[:int(len(dataset)*0.9)]\n",
    "dataTest = dataset[int(len(dataset)*0.9):]"
   ]
  },
  {
   "cell_type": "code",
   "execution_count": 682,
   "id": "157eb467",
   "metadata": {},
   "outputs": [
    {
     "data": {
      "text/plain": [
       "{'marketplace': 'US',\n",
       " 'customer_id': '45610553',\n",
       " 'review_id': 'RMDCHWD0Y5OZ9',\n",
       " 'product_id': 'B00HH62VB6',\n",
       " 'product_parent': '618218723',\n",
       " 'product_title': 'AGPtek® 10 Isolated Output 9V 12V 18V Guitar Pedal Board Power Supply Effect Pedals with Isolated Short Cricuit / Overcurrent Protection',\n",
       " 'product_category': 'Musical Instruments',\n",
       " 'star_rating': 3,\n",
       " 'helpful_votes': 0,\n",
       " 'total_votes': 1,\n",
       " 'vine': 'N',\n",
       " 'verified_purchase': 'N',\n",
       " 'review_headline': 'Three Stars',\n",
       " 'review_body': 'Works very good, but induces ALOT of noise.',\n",
       " 'review_date': '2015-08-31'}"
      ]
     },
     "execution_count": 682,
     "metadata": {},
     "output_type": "execute_result"
    }
   ],
   "source": [
    "dataset[0]"
   ]
  },
  {
   "cell_type": "code",
   "execution_count": 683,
   "id": "f3440cf1-2366-4d69-a4ae-a8ca5e2ea9f5",
   "metadata": {},
   "outputs": [],
   "source": [
    "# Feel free to keep or discard\n",
    "\n",
    "usersPerItem = defaultdict(set) # Maps an item to the users who rated it\n",
    "itemsPerUser = defaultdict(set) # Maps a user to the items that they rated\n",
    "itemNames = {}\n",
    "ratingDict = {} # To retrieve a rating for a specific user/item pair\n",
    "reviewsPerUser = defaultdict(list)\n",
    "\n",
    "# for d in dataTrain:\n",
    "#     user, item = d['customer_id'], d['product_id']\n",
    "#     usersPerItem[item].add(user)\n",
    "#     itemsPerUser[user].add(item)\n",
    "#     itemNames[item] = d['product_title']\n",
    "#     ratingDict[(user, item)] = d['star_rating']\n",
    "#     reviewsPerUser[user].append(d)\n",
    "\n",
    "for d in dataset:\n",
    "    user, item = d['customer_id'], d['product_id']\n",
    "    usersPerItem[item].add(user)\n",
    "    itemsPerUser[user].add(item)\n",
    "    itemNames[item] = d['product_title']\n",
    "    ratingDict[(user, item)] = d['star_rating']\n",
    "    reviewsPerUser[user].append(d)"
   ]
  },
  {
   "cell_type": "code",
   "execution_count": 684,
   "id": "62880122-0f22-43c6-afca-fdc9699e97f4",
   "metadata": {},
   "outputs": [],
   "source": [
    "userAverages = {}\n",
    "itemAverages = {}\n",
    "\n",
    "for u in itemsPerUser:\n",
    "    ratings = [ratingDict[(u, i)] for i in itemsPerUser[u]]\n",
    "    userAverages[u] = sum(ratings) / len(ratings)\n",
    "    \n",
    "for i in usersPerItem:\n",
    "    ratings = [ratingDict[(u, i)] for u in usersPerItem[i]]\n",
    "    itemAverages[i] = sum(ratings) / len(ratings)\n",
    "\n",
    "ratingMean = np.mean(list(ratingDict.values()))"
   ]
  },
  {
   "cell_type": "code",
   "execution_count": 685,
   "id": "a945a9cf",
   "metadata": {},
   "outputs": [
    {
     "data": {
      "text/plain": [
       "4.251083571824148"
      ]
     },
     "execution_count": 685,
     "metadata": {},
     "output_type": "execute_result"
    }
   ],
   "source": [
    "# sanity check\n",
    "\n",
    "sum([d['star_rating'] for d in dataset]) / len(dataset)"
   ]
  },
  {
   "cell_type": "code",
   "execution_count": 686,
   "id": "ead82c93",
   "metadata": {},
   "outputs": [
    {
     "data": {
      "text/plain": [
       "4.251083571824148"
      ]
     },
     "execution_count": 686,
     "metadata": {},
     "output_type": "execute_result"
    }
   ],
   "source": [
    "ratingMean"
   ]
  },
  {
   "cell_type": "code",
   "execution_count": 687,
   "id": "9415da7b-4a56-4093-a5bd-eea40d99e3f7",
   "metadata": {},
   "outputs": [],
   "source": [
    "def Jaccard(s1, s2):\n",
    "    numer = len(s1.intersection(s2))\n",
    "    denom = len(s1.union(s2))\n",
    "    if denom == 0:\n",
    "        return 0\n",
    "    return numer / denom"
   ]
  },
  {
   "cell_type": "code",
   "execution_count": 688,
   "id": "00dbe70a",
   "metadata": {},
   "outputs": [
    {
     "data": {
      "text/plain": [
       "4"
      ]
     },
     "execution_count": 688,
     "metadata": {},
     "output_type": "execute_result"
    }
   ],
   "source": [
    "# sanity check\n",
    "\n",
    "test = set([1, 2, 3])\n",
    "test1 = set([1, 5 ,3])\n",
    "len(test.union(test1))"
   ]
  },
  {
   "cell_type": "code",
   "execution_count": 689,
   "id": "83816a03-6c51-4d1d-ae08-9490d4d38b70",
   "metadata": {},
   "outputs": [],
   "source": [
    "def mostSimilar(i, N):\n",
    "    similarities = []\n",
    "    users = usersPerItem[i]\n",
    "    for i2 in usersPerItem:\n",
    "        if i2 == i:\n",
    "            continue\n",
    "        similarity = Jaccard(users, usersPerItem[i2])\n",
    "        similarities.append((similarity, i2))\n",
    "    similarities.sort(key = lambda x: x[0], reverse=True)\n",
    "    return similarities[:N]\n"
   ]
  },
  {
   "cell_type": "code",
   "execution_count": 690,
   "id": "5680865b-5249-4834-b019-3628857510a5",
   "metadata": {},
   "outputs": [],
   "source": [
    "query = 'B00KCHRKD6'"
   ]
  },
  {
   "cell_type": "code",
   "execution_count": 691,
   "id": "38b430ca-4e4b-4a1e-b38c-2a1c448dbdef",
   "metadata": {},
   "outputs": [],
   "source": [
    "ms = mostSimilar(query, 10)"
   ]
  },
  {
   "cell_type": "code",
   "execution_count": 692,
   "id": "2b8d21ce-2cec-460f-bbdf-e943a9cbed6a",
   "metadata": {},
   "outputs": [],
   "source": [
    "answers['Q5'] = ms"
   ]
  },
  {
   "cell_type": "code",
   "execution_count": 694,
   "id": "57b7fb52-248a-4d11-a924-b8744aecd7a1",
   "metadata": {},
   "outputs": [],
   "source": [
    "assertFloatList([m[0] for m in ms], 10)"
   ]
  },
  {
   "cell_type": "code",
   "execution_count": 695,
   "id": "1e6fe1df-9464-4dc9-a58e-b6b1a6168803",
   "metadata": {},
   "outputs": [],
   "source": [
    "### Question 6"
   ]
  },
  {
   "cell_type": "code",
   "execution_count": 696,
   "id": "fe6c50d2-22b2-44cb-b29b-e08ac999d947",
   "metadata": {},
   "outputs": [],
   "source": [
    "def MSE(y, ypred):\n",
    "    errors = [(x-y)**2 for x,y in zip(y, ypred)]\n",
    "    return sum(errors) / len(errors)"
   ]
  },
  {
   "cell_type": "code",
   "execution_count": 697,
   "id": "82fe0621",
   "metadata": {},
   "outputs": [
    {
     "data": {
      "text/plain": [
       "True"
      ]
     },
     "execution_count": 697,
     "metadata": {},
     "output_type": "execute_result"
    }
   ],
   "source": [
    "'B00KCHRKD6' in itemNames.keys()"
   ]
  },
  {
   "cell_type": "code",
   "execution_count": 698,
   "id": "bd77c3e6",
   "metadata": {},
   "outputs": [
    {
     "data": {
      "text/plain": [
       "{'marketplace': 'US',\n",
       " 'customer_id': '45610553',\n",
       " 'review_id': 'RMDCHWD0Y5OZ9',\n",
       " 'product_id': 'B00HH62VB6',\n",
       " 'product_parent': '618218723',\n",
       " 'product_title': 'AGPtek® 10 Isolated Output 9V 12V 18V Guitar Pedal Board Power Supply Effect Pedals with Isolated Short Cricuit / Overcurrent Protection',\n",
       " 'product_category': 'Musical Instruments',\n",
       " 'star_rating': 3,\n",
       " 'helpful_votes': 0,\n",
       " 'total_votes': 1,\n",
       " 'vine': 'N',\n",
       " 'verified_purchase': 'N',\n",
       " 'review_headline': 'Three Stars',\n",
       " 'review_body': 'Works very good, but induces ALOT of noise.',\n",
       " 'review_date': '2015-08-31'}"
      ]
     },
     "execution_count": 698,
     "metadata": {},
     "output_type": "execute_result"
    }
   ],
   "source": [
    "dataTrain[0]"
   ]
  },
  {
   "cell_type": "code",
   "execution_count": 699,
   "id": "e1e3b418",
   "metadata": {},
   "outputs": [],
   "source": [
    "reviewsPerUser = defaultdict(list)\n",
    "usersPerItem = defaultdict(set)\n",
    "itemAverages = {}\n",
    "\n",
    "for d in dataTrain:\n",
    "    user, item = d['customer_id'], d['product_id']\n",
    "    reviewsPerUser[user].append(d)\n",
    "    usersPerItem[item].add(user)\n",
    "\n",
    "for i in usersPerItem:\n",
    "    itemAverages[i] = np.mean([ratingDict[(u, i)] for u in usersPerItem[i]])\n"
   ]
  },
  {
   "cell_type": "code",
   "execution_count": 700,
   "id": "4558b12c",
   "metadata": {},
   "outputs": [],
   "source": [
    "averageRating = np.mean([d['star_rating'] for d in dataTrain])"
   ]
  },
  {
   "cell_type": "code",
   "execution_count": 701,
   "id": "4247a1f0-189d-44d3-80c4-a21669673f90",
   "metadata": {},
   "outputs": [],
   "source": [
    "def predictRating(user,item):\n",
    "\n",
    "    if item not in itemAverages.keys(): return averageRating\n",
    "\n",
    "    ratings = []\n",
    "    similarities = []\n",
    "    for r in reviewsPerUser[user]:\n",
    "        item2 = r['product_id']\n",
    "        if item2 == item:\n",
    "            continue\n",
    "        ratings.append(r['star_rating'] - itemAverages[item2])\n",
    "        \n",
    "        # calculating similarity between item and item2\n",
    "        similarity = Jaccard(usersPerItem[item], usersPerItem[item2])\n",
    "        similarities.append(similarity)\n",
    "    \n",
    "    if sum(similarities) > 0:\n",
    "        weightedRatings = [(x*y) for x,y in zip(ratings, similarities)]\n",
    "        return itemAverages[item] + (sum(weightedRatings) / sum(similarities))\n",
    "    else:\n",
    "        return itemAverages[item]\n",
    "    "
   ]
  },
  {
   "cell_type": "code",
   "execution_count": 702,
   "id": "cf8f4154",
   "metadata": {},
   "outputs": [],
   "source": [
    "# test = set([1])\n",
    "# test1 = set([])\n",
    "# ans = test.union(test1)\n",
    "# len(ans) is 0"
   ]
  },
  {
   "cell_type": "code",
   "execution_count": 703,
   "id": "242de977-3b55-4ffb-9300-5f0cc8c30424",
   "metadata": {},
   "outputs": [],
   "source": [
    "alwaysPredictMean = [averageRating]*len(dataTest)"
   ]
  },
  {
   "cell_type": "code",
   "execution_count": 704,
   "id": "18c2efeb",
   "metadata": {},
   "outputs": [
    {
     "data": {
      "text/plain": [
       "0.10000033162106324"
      ]
     },
     "execution_count": 704,
     "metadata": {},
     "output_type": "execute_result"
    }
   ],
   "source": [
    "# sanity check\n",
    "\n",
    "len(alwaysPredictMean) / len(dataset)"
   ]
  },
  {
   "cell_type": "code",
   "execution_count": 705,
   "id": "6dd35154-0402-44ee-be29-cab6699c2f1a",
   "metadata": {},
   "outputs": [],
   "source": [
    "simPredictions = [predictRating(d['customer_id'], d['product_id']) for d in dataTest]"
   ]
  },
  {
   "cell_type": "code",
   "execution_count": 706,
   "id": "003fa11f-0c3a-4af2-80f1-d400863c067d",
   "metadata": {},
   "outputs": [],
   "source": [
    "labels = [d['star_rating'] for d in dataTest]"
   ]
  },
  {
   "cell_type": "code",
   "execution_count": 707,
   "id": "31e6735d-4e79-4584-adfa-4c4497a84a4a",
   "metadata": {},
   "outputs": [],
   "source": [
    "answers['Q6'] = MSE(simPredictions, labels)"
   ]
  },
  {
   "cell_type": "code",
   "execution_count": 708,
   "id": "01b6b0eb-575c-4d4f-8a2a-8fefafe873f9",
   "metadata": {},
   "outputs": [],
   "source": [
    "assertFloat(answers['Q6'])"
   ]
  },
  {
   "cell_type": "code",
   "execution_count": 709,
   "id": "303d3139",
   "metadata": {},
   "outputs": [
    {
     "data": {
      "text/plain": [
       "{'Q1': [0.16130237168160536, 0.16078380246088317],\n",
       " 'Q2': [0.14164748339047073, 0.14297185466520057],\n",
       " 'Q3': [10, 0.14164748339047073, 0.14297185466520057],\n",
       " 'Q4': [0.3141591951591849, 0.16102212535390079, 0.14691521312454542],\n",
       " 'Q5': [(0.015228426395939087, 'B00H7NFDKA'),\n",
       "  (0.014492753623188406, 'B00QKVV3HC'),\n",
       "  (0.014492753623188406, 'B00GXRMD7W'),\n",
       "  (0.014084507042253521, 'B00H7ILRRI'),\n",
       "  (0.014084507042253521, 'B0057RUMPO'),\n",
       "  (0.014084507042253521, 'B000B6DTYW'),\n",
       "  (0.013888888888888888, 'B00L2708TI'),\n",
       "  (0.013513513513513514, 'B009Z1KKWI'),\n",
       "  (0.013333333333333334, 'B000VYINCW'),\n",
       "  (0.013333333333333334, 'B003F2BDZQ')],\n",
       " 'Q6': 1.7165666373341593}"
      ]
     },
     "execution_count": 709,
     "metadata": {},
     "output_type": "execute_result"
    }
   ],
   "source": [
    "answers"
   ]
  },
  {
   "cell_type": "code",
   "execution_count": 710,
   "id": "5268ae3a-b7b9-4b52-ba37-6d6363261396",
   "metadata": {},
   "outputs": [],
   "source": [
    "### Question 7 - incorporate time-weight collaborative filtering\n",
    "### (simple temporal dynamics feature for recommender systems)"
   ]
  },
  {
   "cell_type": "code",
   "execution_count": 711,
   "id": "e44f188c",
   "metadata": {},
   "outputs": [
    {
     "data": {
      "text/plain": [
       "Timestamp('2015-08-21 00:00:00')"
      ]
     },
     "execution_count": 711,
     "metadata": {},
     "output_type": "execute_result"
    }
   ],
   "source": [
    "pd.to_datetime(dataset[9999]['review_date']) "
   ]
  },
  {
   "cell_type": "code",
   "execution_count": 712,
   "id": "24f20894",
   "metadata": {},
   "outputs": [],
   "source": [
    "delta = pd.to_datetime(dataset[0]['review_date']) - pd.to_datetime(dataset[9999]['review_date'])"
   ]
  },
  {
   "cell_type": "code",
   "execution_count": 713,
   "id": "16522e48",
   "metadata": {},
   "outputs": [
    {
     "data": {
      "text/plain": [
       "10"
      ]
     },
     "execution_count": 713,
     "metadata": {},
     "output_type": "execute_result"
    }
   ],
   "source": [
    "delta.days"
   ]
  },
  {
   "cell_type": "code",
   "execution_count": 714,
   "id": "b2b3459d",
   "metadata": {},
   "outputs": [],
   "source": [
    "reviewDates = {}\n",
    "for d in dataset:\n",
    "    pair = (d['customer_id'], d['product_id'])\n",
    "    reviewDates[pair] = d['review_date']"
   ]
  },
  {
   "cell_type": "code",
   "execution_count": 715,
   "id": "f71f68cb",
   "metadata": {},
   "outputs": [],
   "source": [
    "# test = [pd.to_datetime(d['review_date']) for d in dataset]"
   ]
  },
  {
   "cell_type": "code",
   "execution_count": 716,
   "id": "c6375cd1",
   "metadata": {},
   "outputs": [],
   "source": [
    "# min(test)"
   ]
  },
  {
   "cell_type": "code",
   "execution_count": 717,
   "id": "c4f0bdc3",
   "metadata": {},
   "outputs": [],
   "source": [
    "# max(test) "
   ]
  },
  {
   "cell_type": "code",
   "execution_count": 718,
   "id": "26730309",
   "metadata": {},
   "outputs": [],
   "source": [
    "# abs(min(test)- max(test)).days / 365"
   ]
  },
  {
   "cell_type": "code",
   "execution_count": 719,
   "id": "87e54e63",
   "metadata": {},
   "outputs": [],
   "source": [
    "def predictRating_q7(user,item):\n",
    "\n",
    "    if item not in itemAverages.keys(): return averageRating\n",
    "\n",
    "    itemTimestamp = pd.to_datetime(reviewDates[(user, item)])\n",
    "\n",
    "    ratings = []\n",
    "    similarities = []\n",
    "    recency = []\n",
    "    for r in reviewsPerUser[user]:\n",
    "        item2 = r['product_id']\n",
    "        if item2 == item:\n",
    "            continue\n",
    "        ratings.append(r['star_rating'] - itemAverages[item2])\n",
    "        \n",
    "        # calculating similarity between item and item2\n",
    "        similarity = Jaccard(usersPerItem[item], usersPerItem[item2])\n",
    "        similarities.append(similarity)\n",
    "\n",
    "        # calculating time delta between review user,item2 and review user,item\n",
    "        # and determine weight/influence using decay function depending on recency\n",
    "        item2Timestamp = pd.to_datetime(reviewDates[(user, item2)])\n",
    "        timeDelta = abs(itemTimestamp - item2Timestamp)\n",
    "        recency.append(np.exp(-1/8*(timeDelta.days/365)))\n",
    "    \n",
    "    if sum([(x*y) for x,y in zip(similarities, recency)]) > 0:\n",
    "        weightedRatings = [(x*y) for x,y in zip(ratings, similarities)]\n",
    "        ratingsWithRecency = [(x*y) for x,y in zip(weightedRatings, recency)]\n",
    "        return itemAverages[item] + (sum(ratingsWithRecency) / \\\n",
    "            sum([(x*y) for x,y in zip(similarities, recency)]))\n",
    "    else:\n",
    "        return itemAverages[item]"
   ]
  },
  {
   "cell_type": "code",
   "execution_count": 720,
   "id": "50a1157a",
   "metadata": {},
   "outputs": [],
   "source": [
    "preds_q7 = [predictRating_q7(d['customer_id'], d['product_id']) for d in dataTest]"
   ]
  },
  {
   "cell_type": "code",
   "execution_count": 721,
   "id": "f50a9d82",
   "metadata": {},
   "outputs": [
    {
     "data": {
      "text/plain": [
       "1.5200635692769324e-05"
      ]
     },
     "execution_count": 721,
     "metadata": {},
     "output_type": "execute_result"
    }
   ],
   "source": [
    "MSE(preds_q7, simPredictions)"
   ]
  },
  {
   "cell_type": "code",
   "execution_count": 722,
   "id": "b11469e6",
   "metadata": {},
   "outputs": [],
   "source": [
    "actual = [d['star_rating'] for d in dataTest]"
   ]
  },
  {
   "cell_type": "code",
   "execution_count": 723,
   "id": "81dc3028-770b-4741-abf9-789205c07eb7",
   "metadata": {},
   "outputs": [],
   "source": [
    "itsMSE = MSE(preds_q7, actual)"
   ]
  },
  {
   "cell_type": "code",
   "execution_count": 724,
   "id": "5bd20307-5913-46d5-930d-53caf359f685",
   "metadata": {},
   "outputs": [],
   "source": [
    "answers['Q7'] = [\"I chose t(u, j) to represent the duration between when user u\"+\\\n",
    "    \" reviewed item i and when they reviewed item j, in years, which is then\"+\\\n",
    "    \" plugged into a decay function with lambda = -1/8. Graphically, this lambda\"+\\\n",
    "    \" parameter choice adequately captures the range of duration, or doesn't converge\"+\\\n",
    "    \" to zero too early or late.\", itsMSE]"
   ]
  },
  {
   "cell_type": "code",
   "execution_count": 725,
   "id": "98c31bb6-e8f8-4f9f-ac15-2e120f24613d",
   "metadata": {},
   "outputs": [],
   "source": [
    "assertFloat(answers['Q7'][1])"
   ]
  },
  {
   "cell_type": "code",
   "execution_count": 726,
   "id": "18f50fdc",
   "metadata": {},
   "outputs": [
    {
     "data": {
      "text/plain": [
       "{'Q1': [0.16130237168160536, 0.16078380246088317],\n",
       " 'Q2': [0.14164748339047073, 0.14297185466520057],\n",
       " 'Q3': [10, 0.14164748339047073, 0.14297185466520057],\n",
       " 'Q4': [0.3141591951591849, 0.16102212535390079, 0.14691521312454542],\n",
       " 'Q5': [(0.015228426395939087, 'B00H7NFDKA'),\n",
       "  (0.014492753623188406, 'B00QKVV3HC'),\n",
       "  (0.014492753623188406, 'B00GXRMD7W'),\n",
       "  (0.014084507042253521, 'B00H7ILRRI'),\n",
       "  (0.014084507042253521, 'B0057RUMPO'),\n",
       "  (0.014084507042253521, 'B000B6DTYW'),\n",
       "  (0.013888888888888888, 'B00L2708TI'),\n",
       "  (0.013513513513513514, 'B009Z1KKWI'),\n",
       "  (0.013333333333333334, 'B000VYINCW'),\n",
       "  (0.013333333333333334, 'B003F2BDZQ')],\n",
       " 'Q6': 1.7165666373341593,\n",
       " 'Q7': [\"I chose t(u, j) to represent the duration between when user u reviewed item i and when they reviewed item j, in years, which is then plugged into a decay function with lambda = -1/8. Graphically, this lambda parameter choice adequately captures the range of duration, or doesn't converge to zero too early or late.\",\n",
       "  1.7165626604564617]}"
      ]
     },
     "execution_count": 726,
     "metadata": {},
     "output_type": "execute_result"
    }
   ],
   "source": [
    "answers"
   ]
  },
  {
   "cell_type": "code",
   "execution_count": 727,
   "id": "a9cdbf74",
   "metadata": {},
   "outputs": [],
   "source": [
    "f = open(\"answers_hw2.txt\", 'w')\n",
    "f.write(str(answers) + '\\n')\n",
    "f.close()"
   ]
  },
  {
   "cell_type": "code",
   "execution_count": null,
   "id": "2ec77684-ccf1-4f77-abd4-526d42fb4e35",
   "metadata": {},
   "outputs": [],
   "source": []
  }
 ],
 "metadata": {
  "kernelspec": {
   "display_name": "Python 3 (ipykernel)",
   "language": "python",
   "name": "python3"
  },
  "language_info": {
   "codemirror_mode": {
    "name": "ipython",
    "version": 3
   },
   "file_extension": ".py",
   "mimetype": "text/x-python",
   "name": "python",
   "nbconvert_exporter": "python",
   "pygments_lexer": "ipython3",
   "version": "3.9.2"
  }
 },
 "nbformat": 4,
 "nbformat_minor": 5
}
