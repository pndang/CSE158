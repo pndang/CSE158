{
 "cells": [
  {
   "cell_type": "code",
   "execution_count": 8,
   "id": "8fadc0b4",
   "metadata": {},
   "outputs": [],
   "source": [
    "import json\n",
    "import gzip\n",
    "import math\n",
    "from collections import defaultdict\n",
    "import numpy as np\n",
    "from sklearn import linear_model\n",
    "import random\n",
    "import statistics"
   ]
  },
  {
   "cell_type": "code",
   "execution_count": 2,
   "id": "bcdcf1eb",
   "metadata": {},
   "outputs": [],
   "source": [
    "def assertFloat(x):\n",
    "    assert type(float(x)) == float\n",
    "\n",
    "def assertFloatList(items, N):\n",
    "    assert len(items) == N\n",
    "    assert [type(float(x)) for x in items] == [float]*N"
   ]
  },
  {
   "cell_type": "code",
   "execution_count": 3,
   "id": "42a8d119",
   "metadata": {},
   "outputs": [],
   "source": [
    "answers = {}"
   ]
  },
  {
   "cell_type": "code",
   "execution_count": 4,
   "id": "83a6d4b5",
   "metadata": {},
   "outputs": [],
   "source": [
    "z = gzip.open(\"data/train.json.gz\")"
   ]
  },
  {
   "cell_type": "code",
   "execution_count": 5,
   "id": "0d2ef14c",
   "metadata": {},
   "outputs": [],
   "source": [
    "dataset = []\n",
    "for l in z:\n",
    "    d = eval(l)\n",
    "    dataset.append(d)"
   ]
  },
  {
   "cell_type": "code",
   "execution_count": 6,
   "id": "46a06fd5",
   "metadata": {},
   "outputs": [],
   "source": [
    "z.close()"
   ]
  },
  {
   "cell_type": "code",
   "execution_count": 7,
   "id": "93e80cfe",
   "metadata": {},
   "outputs": [],
   "source": [
    "### Question 1"
   ]
  },
  {
   "cell_type": "code",
   "execution_count": 9,
   "id": "c37e48b0",
   "metadata": {},
   "outputs": [],
   "source": [
    "def MSE(y, ypred):\n",
    "    return np.sum((y-ypred)**2) / len(y)"
   ]
  },
  {
   "cell_type": "code",
   "execution_count": 13,
   "id": "85a5714b",
   "metadata": {},
   "outputs": [],
   "source": [
    "def MAE(y, ypred):\n",
    "    return np.sum(abs(y-ypred)) / len(y)"
   ]
  },
  {
   "cell_type": "code",
   "execution_count": 14,
   "id": "9313a06c",
   "metadata": {},
   "outputs": [],
   "source": [
    "reviewsPerUser = defaultdict(list)\n",
    "reviewsPerItem = defaultdict(list)\n",
    "\n",
    "for d in dataset:\n",
    "    u,i = d['userID'],d['gameID']\n",
    "    reviewsPerUser[u].append(d)\n",
    "    reviewsPerItem[i].append(d)\n",
    "    \n",
    "for u in reviewsPerUser:\n",
    "    reviewsPerUser[u].sort(key=lambda x: x['date'])\n",
    "    \n",
    "for i in reviewsPerItem:\n",
    "    reviewsPerItem[i].sort(key=lambda x: x['date'])"
   ]
  },
  {
   "cell_type": "code",
   "execution_count": 18,
   "metadata": {},
   "outputs": [
    {
     "name": "stdout",
     "output_type": "stream",
     "text": [
      "{'hours': 0.3, 'gameID': 'g35322304', 'hours_transformed': 0.37851162325372983, 'early_access': False, 'date': '2015-04-08', 'text': '+1', 'userID': 'u55351001'}\n"
     ]
    }
   ],
   "source": [
    "for d in dataset:\n",
    "    print(d)\n",
    "    break"
   ]
  },
  {
   "cell_type": "code",
   "execution_count": 19,
   "id": "d90c72f8",
   "metadata": {},
   "outputs": [],
   "source": [
    "def feat1(d):\n",
    "    feat = [1]\n",
    "    hour = d['hours']\n",
    "    return feat + [hour]"
   ]
  },
  {
   "cell_type": "code",
   "execution_count": 20,
   "id": "a4e6ec8d",
   "metadata": {},
   "outputs": [],
   "source": [
    "X = [feat1(datum) for datum in dataset]\n",
    "y = [len(datum['text']) for datum in dataset]"
   ]
  },
  {
   "cell_type": "code",
   "execution_count": 25,
   "id": "b74b4f96",
   "metadata": {},
   "outputs": [],
   "source": [
    "mod = linear_model.LinearRegression(fit_intercept=False)\n",
    "mod.fit(X,y)\n",
    "predictions = mod.predict(X)"
   ]
  },
  {
   "cell_type": "code",
   "execution_count": 49,
   "id": "01a4668f",
   "metadata": {},
   "outputs": [],
   "source": [
    "theta_1 = mod.coef_[1]\n",
    "mse_q1 = MSE(np.array(y), np.array(predictions))"
   ]
  },
  {
   "cell_type": "code",
   "execution_count": 50,
   "id": "f32ed5c0",
   "metadata": {},
   "outputs": [],
   "source": [
    "answers['Q1'] = [theta_1, mse_q1]"
   ]
  },
  {
   "cell_type": "code",
   "execution_count": 51,
   "id": "7c0b7568",
   "metadata": {},
   "outputs": [],
   "source": [
    "assertFloatList(answers['Q1'], 2)"
   ]
  },
  {
   "cell_type": "code",
   "execution_count": 52,
   "metadata": {},
   "outputs": [
    {
     "data": {
      "text/plain": [
       "{'Q1': [0.007857269704335848, 570936.2842458971]}"
      ]
     },
     "execution_count": 52,
     "metadata": {},
     "output_type": "execute_result"
    }
   ],
   "source": [
    "answers"
   ]
  },
  {
   "cell_type": "code",
   "execution_count": 53,
   "id": "6e26bb75",
   "metadata": {},
   "outputs": [],
   "source": [
    "### Question 2"
   ]
  },
  {
   "cell_type": "code",
   "execution_count": 54,
   "id": "99a2aba4",
   "metadata": {},
   "outputs": [],
   "source": [
    "medianHours = np.median([datum['hours'] for datum in dataset])"
   ]
  },
  {
   "cell_type": "code",
   "execution_count": 60,
   "metadata": {},
   "outputs": [
    {
     "data": {
      "text/plain": [
       "{'hours': 0.3,\n",
       " 'gameID': 'g35322304',\n",
       " 'hours_transformed': 0.37851162325372983,\n",
       " 'early_access': False,\n",
       " 'date': '2015-04-08',\n",
       " 'text': '+1',\n",
       " 'userID': 'u55351001'}"
      ]
     },
     "execution_count": 60,
     "metadata": {},
     "output_type": "execute_result"
    }
   ],
   "source": [
    "dataset[0]"
   ]
  },
  {
   "cell_type": "code",
   "execution_count": 62,
   "id": "7246aab0",
   "metadata": {},
   "outputs": [],
   "source": [
    "def feat2(d):\n",
    "    feat = [1]\n",
    "    hour = d['hours']\n",
    "    hourTransformed = d['hours_transformed']\n",
    "    sqrtHour = np.sqrt(hour)\n",
    "    aboveMedian = 1 if hour > medianHours else 0\n",
    "    return feat + [hour, hourTransformed, sqrtHour, aboveMedian]"
   ]
  },
  {
   "cell_type": "code",
   "execution_count": 63,
   "id": "d8786922",
   "metadata": {},
   "outputs": [],
   "source": [
    "X = [feat2(d) for d in dataset]"
   ]
  },
  {
   "cell_type": "code",
   "execution_count": 65,
   "id": "1197d1b8",
   "metadata": {},
   "outputs": [],
   "source": [
    "mod = linear_model.LinearRegression(fit_intercept=False)\n",
    "mod.fit(X,y)\n",
    "predictions = mod.predict(X)"
   ]
  },
  {
   "cell_type": "code",
   "execution_count": 66,
   "id": "2402ef0b",
   "metadata": {},
   "outputs": [],
   "source": [
    "mse_q2 = MSE(np.array(y), np.array(predictions))"
   ]
  },
  {
   "cell_type": "code",
   "execution_count": 67,
   "id": "1a5d7a44",
   "metadata": {},
   "outputs": [],
   "source": [
    "answers['Q2'] = mse_q2"
   ]
  },
  {
   "cell_type": "code",
   "execution_count": 68,
   "id": "fad4744e",
   "metadata": {},
   "outputs": [],
   "source": [
    "assertFloat(answers['Q2'])"
   ]
  },
  {
   "cell_type": "code",
   "execution_count": 70,
   "metadata": {},
   "outputs": [
    {
     "data": {
      "text/plain": [
       "{'Q1': [0.007857269704335848, 570936.2842458971], 'Q2': 565419.5340402179}"
      ]
     },
     "execution_count": 70,
     "metadata": {},
     "output_type": "execute_result"
    }
   ],
   "source": [
    "answers"
   ]
  },
  {
   "cell_type": "code",
   "execution_count": 69,
   "id": "a690f9b9",
   "metadata": {},
   "outputs": [],
   "source": [
    "### Question 3"
   ]
  },
  {
   "cell_type": "code",
   "execution_count": 71,
   "id": "8e524edb",
   "metadata": {},
   "outputs": [],
   "source": [
    "def feat3(d):\n",
    "    feat = [1]\n",
    "    hour = d['hours']\n",
    "    aboveOne = 1 if hour > 1 else 0\n",
    "    aboveFive = 1 if hour > 5 else 0\n",
    "    aboveTen = 1 if hour > 10 else 0\n",
    "    aboveHundred = 1 if hour > 100 else 0\n",
    "    aboveThousand = 1 if hour > 1000 else 0\n",
    "    return feat + [aboveOne, aboveFive, aboveTen, aboveHundred, aboveThousand]"
   ]
  },
  {
   "cell_type": "code",
   "execution_count": 72,
   "id": "da7b030d",
   "metadata": {},
   "outputs": [],
   "source": [
    "X = [feat3(d) for d in dataset]"
   ]
  },
  {
   "cell_type": "code",
   "execution_count": 74,
   "id": "44943983",
   "metadata": {},
   "outputs": [],
   "source": [
    "mod = linear_model.LinearRegression(fit_intercept=False)\n",
    "mod.fit(X,y)\n",
    "predictions = mod.predict(X)"
   ]
  },
  {
   "cell_type": "code",
   "execution_count": 75,
   "id": "4439c4e6",
   "metadata": {},
   "outputs": [],
   "source": [
    "mse_q3 = MSE(np.array(y), np.array(predictions))"
   ]
  },
  {
   "cell_type": "code",
   "execution_count": 76,
   "id": "20b470b3",
   "metadata": {},
   "outputs": [],
   "source": [
    "answers['Q3'] = mse_q3"
   ]
  },
  {
   "cell_type": "code",
   "execution_count": 77,
   "id": "3846bd87",
   "metadata": {},
   "outputs": [],
   "source": [
    "assertFloat(answers['Q3'])"
   ]
  },
  {
   "cell_type": "code",
   "execution_count": 78,
   "metadata": {},
   "outputs": [
    {
     "data": {
      "text/plain": [
       "{'Q1': [0.007857269704335848, 570936.2842458971],\n",
       " 'Q2': 565419.5340402179,\n",
       " 'Q3': 565405.4395885819}"
      ]
     },
     "execution_count": 78,
     "metadata": {},
     "output_type": "execute_result"
    }
   ],
   "source": [
    "answers"
   ]
  },
  {
   "cell_type": "code",
   "execution_count": 79,
   "id": "69de975e",
   "metadata": {},
   "outputs": [],
   "source": [
    "### Question 4"
   ]
  },
  {
   "cell_type": "code",
   "execution_count": 80,
   "id": "67b6c515",
   "metadata": {},
   "outputs": [],
   "source": [
    "def feat4(d):\n",
    "    feat = [1]\n",
    "    reviewLength = len(d['text'])\n",
    "    return feat + [reviewLength]"
   ]
  },
  {
   "cell_type": "code",
   "execution_count": 81,
   "id": "801b7a5c",
   "metadata": {},
   "outputs": [],
   "source": [
    "X = [feat4(d) for d in dataset]\n",
    "y = [datum['hours'] for datum in dataset]"
   ]
  },
  {
   "cell_type": "code",
   "execution_count": 84,
   "id": "d57f7fc8",
   "metadata": {},
   "outputs": [],
   "source": [
    "mod = linear_model.LinearRegression(fit_intercept=False)\n",
    "mod.fit(X,y)\n",
    "predictions = mod.predict(X)"
   ]
  },
  {
   "cell_type": "code",
   "execution_count": 85,
   "id": "c92c3a8d",
   "metadata": {},
   "outputs": [],
   "source": [
    "mse = MSE(np.array(y), np.array(predictions))\n",
    "mae = MAE(np.array(y), np.array(predictions))"
   ]
  },
  {
   "cell_type": "code",
   "execution_count": 89,
   "id": "eff1f9a8",
   "metadata": {},
   "outputs": [
    {
     "name": "stdout",
     "output_type": "stream",
     "text": [
      "Min error: -74.17849111189709\n",
      "Max error: 16473.699183669458\n",
      "Diff: 16547.877674781354\n"
     ]
    }
   ],
   "source": [
    "print(f'Min error: {np.min(y-predictions)}')\n",
    "print(f'Max error: {np.max(y-predictions)}')\n",
    "print(f'Diff: {np.max(y-predictions) - np.min(y-predictions)}')"
   ]
  },
  {
   "cell_type": "code",
   "execution_count": 94,
   "id": "ab2a5ddc",
   "metadata": {},
   "outputs": [],
   "source": [
    "answers['Q4'] = [mse, mae, \"Since we have a sizable range of error (16548), the MAE is better as it uses the absolute differences of errors, whereas the MSE squares errors, which exacerbates our errors, especially when the difference is large.\"]"
   ]
  },
  {
   "cell_type": "code",
   "execution_count": 95,
   "id": "44b4eba2",
   "metadata": {},
   "outputs": [],
   "source": [
    "assertFloatList(answers['Q4'][:2], 2)"
   ]
  },
  {
   "cell_type": "code",
   "execution_count": 96,
   "metadata": {},
   "outputs": [
    {
     "data": {
      "text/plain": [
       "{'Q1': [0.007857269704335848, 570936.2842458971],\n",
       " 'Q2': 565419.5340402179,\n",
       " 'Q3': 565405.4395885819,\n",
       " 'Q4': [75735.70018272949,\n",
       "  90.35613031985204,\n",
       "  'Since we have a sizable range of error (16548), the MAE is better as it uses the absolute differences of errors, whereas the MSE squares errors, which exacerbates our errors, especially when the difference is large.']}"
      ]
     },
     "execution_count": 96,
     "metadata": {},
     "output_type": "execute_result"
    }
   ],
   "source": [
    "answers"
   ]
  },
  {
   "cell_type": "code",
   "execution_count": 97,
   "id": "3d0ee44c",
   "metadata": {},
   "outputs": [],
   "source": [
    "### Question 5"
   ]
  },
  {
   "cell_type": "code",
   "execution_count": 99,
   "id": "c841e81f",
   "metadata": {},
   "outputs": [],
   "source": [
    "y_trans = [datum['hours_transformed'] for datum in dataset]"
   ]
  },
  {
   "cell_type": "code",
   "execution_count": 101,
   "id": "a8e690b6",
   "metadata": {},
   "outputs": [],
   "source": [
    "mod = linear_model.LinearRegression(fit_intercept=False)\n",
    "mod.fit(X,y_trans)\n",
    "predictions_trans = mod.predict(X)"
   ]
  },
  {
   "cell_type": "code",
   "execution_count": 102,
   "id": "6fcc3141",
   "metadata": {},
   "outputs": [],
   "source": [
    "mse_trans = MSE(np.array(y_trans), np.array(predictions_trans))"
   ]
  },
  {
   "cell_type": "code",
   "execution_count": 103,
   "id": "62185cfa",
   "metadata": {},
   "outputs": [],
   "source": [
    "predictions_untrans = (2**(np.array(predictions_trans)))-1"
   ]
  },
  {
   "cell_type": "code",
   "execution_count": 105,
   "metadata": {},
   "outputs": [
    {
     "data": {
      "text/plain": [
       "array([3.63648953, 3.65594151, 3.6802042 , ..., 3.64213688, 3.64924836,\n",
       "       3.66535376])"
      ]
     },
     "execution_count": 105,
     "metadata": {},
     "output_type": "execute_result"
    }
   ],
   "source": [
    "predictions_trans"
   ]
  },
  {
   "cell_type": "code",
   "execution_count": 104,
   "metadata": {},
   "outputs": [
    {
     "data": {
      "text/plain": [
       "array([11.43633547, 11.60515115, 11.81893227, ..., 11.48511221,\n",
       "       11.546807  , 11.68765692])"
      ]
     },
     "execution_count": 104,
     "metadata": {},
     "output_type": "execute_result"
    }
   ],
   "source": [
    "predictions_untrans"
   ]
  },
  {
   "cell_type": "code",
   "execution_count": 108,
   "id": "3b0db71f",
   "metadata": {},
   "outputs": [],
   "source": [
    "mse_untrans = MSE(np.array(y), np.array(predictions_untrans))"
   ]
  },
  {
   "cell_type": "code",
   "execution_count": 109,
   "id": "9ec7c9c7",
   "metadata": {},
   "outputs": [],
   "source": [
    "answers['Q5'] = [mse_trans, mse_untrans]"
   ]
  },
  {
   "cell_type": "code",
   "execution_count": 110,
   "id": "55ee62bb",
   "metadata": {},
   "outputs": [],
   "source": [
    "assertFloatList(answers['Q5'], 2)"
   ]
  },
  {
   "cell_type": "code",
   "execution_count": 111,
   "metadata": {},
   "outputs": [
    {
     "data": {
      "text/plain": [
       "{'Q1': [0.007857269704335848, 570936.2842458971],\n",
       " 'Q2': 565419.5340402179,\n",
       " 'Q3': 565405.4395885819,\n",
       " 'Q4': [75735.70018272949,\n",
       "  90.35613031985204,\n",
       "  'Since we have a sizable range of error (16548), the MAE is better as it uses the absolute differences of errors, whereas the MSE squares errors, which exacerbates our errors, especially when the difference is large.'],\n",
       " 'Q5': [5.255254235328314, 78668.56502956731]}"
      ]
     },
     "execution_count": 111,
     "metadata": {},
     "output_type": "execute_result"
    }
   ],
   "source": [
    "answers"
   ]
  },
  {
   "cell_type": "code",
   "execution_count": 112,
   "id": "0e41b3db",
   "metadata": {},
   "outputs": [],
   "source": [
    "### Question 6"
   ]
  },
  {
   "cell_type": "code",
   "execution_count": 124,
   "id": "b538f945",
   "metadata": {},
   "outputs": [],
   "source": [
    "def feat6(d):\n",
    "    feat = [1]\n",
    "    hourEncode = [0]*100\n",
    "    hourRoundDown = math.floor(d['hours'])\n",
    "    if hourRoundDown <= 99:\n",
    "        hourEncode[hourRoundDown] = 1\n",
    "    else: \n",
    "        hourEncode[-1] = 1\n",
    "    return feat + hourEncode"
   ]
  },
  {
   "cell_type": "code",
   "execution_count": 125,
   "id": "b530b615",
   "metadata": {},
   "outputs": [],
   "source": [
    "X = [feat6(d) for d in dataset]\n",
    "y = [len(d['text']) for d in dataset]"
   ]
  },
  {
   "cell_type": "code",
   "execution_count": 135,
   "metadata": {},
   "outputs": [
    {
     "data": {
      "text/plain": [
       "{'hours': 281.6,\n",
       " 'text': \"Kerbal Space Program is just that game that when you love space stuff, you simply have no word to describe the beauty of exploration. The challenges you have overcome to reach your goal. What about the physics? Awsome! Keep it on devs, awsome job and keep inspiring people! This isn't just a game. Big things start with small beginnings. Orbital mechanics might save your life one day, in the future ahahahah\",\n",
       " 'gameID': 'g57834425',\n",
       " 'hours_transformed': 8.142617655446577,\n",
       " 'early_access': False,\n",
       " 'user_id': '76561198155677805',\n",
       " 'date': '2016-11-18',\n",
       " 'userID': 'u47037823'}"
      ]
     },
     "execution_count": 135,
     "metadata": {},
     "output_type": "execute_result"
    }
   ],
   "source": [
    "dataset[88]"
   ]
  },
  {
   "cell_type": "code",
   "execution_count": 139,
   "id": "f3a35fff",
   "metadata": {},
   "outputs": [],
   "source": [
    "Xtrain, Xvalid, Xtest = X[:len(X)//2], X[len(X)//2:(3*len(X))//4], X[(3*len(X))//4:]\n",
    "ytrain, yvalid, ytest = y[:len(X)//2], y[len(X)//2:(3*len(X))//4], y[(3*len(X))//4:]"
   ]
  },
  {
   "cell_type": "code",
   "execution_count": 146,
   "id": "c7f5d114",
   "metadata": {},
   "outputs": [],
   "source": [
    "models = {}\n",
    "mses = {}\n",
    "bestC = None\n",
    "bestMSE = None\n",
    "\n",
    "for c in [1, 10, 100, 1000, 10000]:\n",
    "    mdl = linear_model.Ridge(alpha=c, fit_intercept=False)\n",
    "    mdl.fit(Xtrain, ytrain)\n",
    "    preds = mdl.predict(Xvalid)\n",
    "    mse = MSE(np.array(yvalid), np.array(preds))\n",
    "    models[c] = mdl\n",
    "    mses[c] = mse \n",
    "    if bestMSE is None:\n",
    "        bestMSE = mse\n",
    "        bestC = c\n",
    "    if mse < bestMSE:\n",
    "        bestMSE = mse\n",
    "        bestC = c"
   ]
  },
  {
   "cell_type": "code",
   "execution_count": 149,
   "id": "3743d2e8",
   "metadata": {},
   "outputs": [],
   "source": [
    "predictions_test = models[bestC].predict(Xtest)"
   ]
  },
  {
   "cell_type": "code",
   "execution_count": 150,
   "id": "c3fb98df",
   "metadata": {},
   "outputs": [],
   "source": [
    "mse_valid = mses[bestC]"
   ]
  },
  {
   "cell_type": "code",
   "execution_count": 151,
   "id": "db93b379",
   "metadata": {},
   "outputs": [],
   "source": [
    "mse_test = MSE(np.array(ytest), np.array(predictions_test))"
   ]
  },
  {
   "cell_type": "code",
   "execution_count": 152,
   "id": "f49bfb80",
   "metadata": {},
   "outputs": [],
   "source": [
    "answers['Q6'] = [bestC, mse_valid, mse_test]"
   ]
  },
  {
   "cell_type": "code",
   "execution_count": 153,
   "id": "8baaf741",
   "metadata": {},
   "outputs": [],
   "source": [
    "assertFloatList(answers['Q6'], 3)"
   ]
  },
  {
   "cell_type": "code",
   "execution_count": 154,
   "metadata": {},
   "outputs": [
    {
     "data": {
      "text/plain": [
       "{'Q1': [0.007857269704335848, 570936.2842458971],\n",
       " 'Q2': 565419.5340402179,\n",
       " 'Q3': 565405.4395885819,\n",
       " 'Q4': [75735.70018272949,\n",
       "  90.35613031985204,\n",
       "  'Since we have a sizable range of error (16548), the MAE is better as it uses the absolute differences of errors, whereas the MSE squares errors, which exacerbates our errors, especially when the difference is large.'],\n",
       " 'Q5': [5.255254235328314, 78668.56502956731],\n",
       " 'Q6': [100, 581556.5979507361, 560698.1850582251]}"
      ]
     },
     "execution_count": 154,
     "metadata": {},
     "output_type": "execute_result"
    }
   ],
   "source": [
    "answers"
   ]
  },
  {
   "cell_type": "code",
   "execution_count": 155,
   "id": "f0aa5b79",
   "metadata": {},
   "outputs": [],
   "source": [
    "### Question 7"
   ]
  },
  {
   "cell_type": "code",
   "execution_count": 156,
   "id": "504f6f12",
   "metadata": {},
   "outputs": [],
   "source": [
    "times = [d['hours_transformed'] for d in dataset]\n",
    "median = statistics.median(times)"
   ]
  },
  {
   "cell_type": "code",
   "execution_count": 164,
   "id": "127534da",
   "metadata": {},
   "outputs": [],
   "source": [
    "notPlayed = [datum['hours'] for datum in dataset]\n",
    "nNotPlayed = np.sum([1 for h in notPlayed if h < 1])"
   ]
  },
  {
   "cell_type": "code",
   "execution_count": 169,
   "id": "7d2bed2d",
   "metadata": {},
   "outputs": [],
   "source": [
    "answers['Q7'] = [median, nNotPlayed]"
   ]
  },
  {
   "cell_type": "code",
   "execution_count": 170,
   "id": "b1bdbec6",
   "metadata": {},
   "outputs": [],
   "source": [
    "assertFloatList(answers['Q7'], 2)"
   ]
  },
  {
   "cell_type": "code",
   "execution_count": 171,
   "metadata": {},
   "outputs": [
    {
     "data": {
      "text/plain": [
       "{'Q1': [0.007857269704335848, 570936.2842458971],\n",
       " 'Q2': 565419.5340402179,\n",
       " 'Q3': 565405.4395885819,\n",
       " 'Q4': [75735.70018272949,\n",
       "  90.35613031985204,\n",
       "  'Since we have a sizable range of error (16548), the MAE is better as it uses the absolute differences of errors, whereas the MSE squares errors, which exacerbates our errors, especially when the difference is large.'],\n",
       " 'Q5': [5.255254235328314, 78668.56502956731],\n",
       " 'Q6': [100, 581556.5979507361, 560698.1850582251],\n",
       " 'Q7': [3.4724877714627436, 19913]}"
      ]
     },
     "execution_count": 171,
     "metadata": {},
     "output_type": "execute_result"
    }
   ],
   "source": [
    "answers"
   ]
  },
  {
   "cell_type": "code",
   "execution_count": 172,
   "id": "67e8ecc1",
   "metadata": {},
   "outputs": [],
   "source": [
    "### Question 8"
   ]
  },
  {
   "cell_type": "code",
   "execution_count": 173,
   "id": "30b18d0c",
   "metadata": {},
   "outputs": [],
   "source": [
    "def feat8(d):\n",
    "    return [len(d['text'])]\n"
   ]
  },
  {
   "cell_type": "code",
   "execution_count": 174,
   "id": "04607068",
   "metadata": {},
   "outputs": [],
   "source": [
    "X = [feat8(d) for d in dataset]\n",
    "y = [d['hours_transformed'] > median for d in dataset]"
   ]
  },
  {
   "cell_type": "code",
   "execution_count": 177,
   "id": "8bad8f5c",
   "metadata": {},
   "outputs": [],
   "source": [
    "mod = linear_model.LogisticRegression(class_weight='balanced')\n",
    "mod.fit(X,y)\n",
    "predictions = mod.predict(X) # Binary vector of predictions"
   ]
  },
  {
   "cell_type": "code",
   "execution_count": 247,
   "id": "44a577ea",
   "metadata": {},
   "outputs": [],
   "source": [
    "def rates(predictions, y):\n",
    "    truePos = 0\n",
    "    numPos = 0\n",
    "    trueNeg = 0\n",
    "    numNeg = 0\n",
    "    for i in range(len(y)):\n",
    "        if y[i]:\n",
    "            numPos += 1\n",
    "        if predictions[i] and y[i]:\n",
    "            truePos += 1\n",
    "        if not y[i]:\n",
    "            numNeg += 1\n",
    "        if not predictions[i] and not y[i]:\n",
    "            trueNeg += 1\n",
    "    TP = truePos\n",
    "    FP = numNeg-trueNeg\n",
    "    TN = trueNeg\n",
    "    FN = numPos-truePos\n",
    "    return TP, TN, FP, FN"
   ]
  },
  {
   "cell_type": "code",
   "execution_count": 248,
   "id": "6b96e14a",
   "metadata": {},
   "outputs": [],
   "source": [
    "TP, TN, FP, FN = rates(predictions, y)"
   ]
  },
  {
   "cell_type": "code",
   "execution_count": 249,
   "id": "1945455a",
   "metadata": {},
   "outputs": [],
   "source": [
    "SEN = TP / (TP + FN)  # sensitivity / TPR \n",
    "FPR = FP / (FP + TN)  # FPR\n",
    "SPE = TN / (TN + FP)  # specificity / TNR\n",
    "BER = 0.5*(FPR + (1-SEN))"
   ]
  },
  {
   "cell_type": "code",
   "execution_count": 250,
   "id": "2f3004dc",
   "metadata": {},
   "outputs": [],
   "source": [
    "answers['Q8'] = [TP, TN, FP, FN, BER]"
   ]
  },
  {
   "cell_type": "code",
   "execution_count": 251,
   "id": "f3623ff7",
   "metadata": {},
   "outputs": [],
   "source": [
    "assertFloatList(answers['Q8'], 5)"
   ]
  },
  {
   "cell_type": "code",
   "execution_count": 254,
   "metadata": {},
   "outputs": [
    {
     "data": {
      "text/plain": [
       "{'Q1': [0.007857269704335848, 570936.2842458971],\n",
       " 'Q2': 565419.5340402179,\n",
       " 'Q3': 565405.4395885819,\n",
       " 'Q4': [75735.70018272949,\n",
       "  90.35613031985204,\n",
       "  'Since we have a sizable range of error (16548), the MAE is better as it uses the absolute differences of errors, whereas the MSE squares errors, which exacerbates our errors, especially when the difference is large.'],\n",
       " 'Q5': [5.255254235328314, 78668.56502956731],\n",
       " 'Q6': [100, 581556.5979507361, 560698.1850582251],\n",
       " 'Q7': [3.4724877714627436, 19913],\n",
       " 'Q8': [24656, 67811, 20007, 62526, 0.472506390561468]}"
      ]
     },
     "execution_count": 254,
     "metadata": {},
     "output_type": "execute_result"
    }
   ],
   "source": [
    "answers"
   ]
  },
  {
   "cell_type": "code",
   "execution_count": 252,
   "id": "0f0ba96b",
   "metadata": {},
   "outputs": [],
   "source": [
    "### Question 9"
   ]
  },
  {
   "cell_type": "code",
   "execution_count": null,
   "metadata": {},
   "outputs": [],
   "source": [
    "# confidences = reg_q5.decision_function(X)\n",
    "\n",
    "# sortedByConfidence = list(zip(confidences, y))\n",
    "# sortedByConfidence.sort(reverse=True)\n",
    "\n",
    "# sortedByConfidence\n",
    "\n",
    "# precs = []\n",
    "\n",
    "# for k in [1,100,1000,10000]:\n",
    "#     topK = sortedByConfidence[:k]\n",
    "#     prec = np.sum([1 if pred[1] else 0 for pred in topK]) / k\n",
    "#     precs.append(prec)"
   ]
  },
  {
   "cell_type": "code",
   "execution_count": 275,
   "id": "e16a39df",
   "metadata": {},
   "outputs": [],
   "source": [
    "precision = lambda label: np.sum([1 if label[1] else 0 for label in topK]) / len(topK)\n",
    "recall = lambda label: np.sum([1 if label[1] else 0 for label in topK]) / np.sum(y)"
   ]
  },
  {
   "cell_type": "code",
   "execution_count": 276,
   "metadata": {},
   "outputs": [],
   "source": [
    "confidences = mod.decision_function(X)\n",
    "sortedByConfidence = list(zip(confidences, y))\n",
    "sortedByConfidence.sort(reverse=True)"
   ]
  },
  {
   "cell_type": "code",
   "execution_count": 292,
   "id": "177fa669",
   "metadata": {},
   "outputs": [],
   "source": [
    "precs = []\n",
    "recs = []\n",
    "\n",
    "for i in [5, 10, 100, 1000]:\n",
    "    topK = sortedByConfidence[:i]\n",
    "    threshold = topK[-1][0]\n",
    "    k = i\n",
    "    nextVal = sortedByConfidence[k][0]\n",
    "    while nextVal == threshold:\n",
    "        topK.append(sortedByConfidence[k])\n",
    "        k += 1\n",
    "        nextVal = sortedByConfidence[k][0]\n",
    "    prec = precision(topK)\n",
    "    rec = recall(topK)\n",
    "    precs.append(prec)\n",
    "    recs.append(rec)\n"
   ]
  },
  {
   "cell_type": "code",
   "execution_count": 293,
   "id": "8a856ebb",
   "metadata": {},
   "outputs": [],
   "source": [
    "answers['Q9'] = precs"
   ]
  },
  {
   "cell_type": "code",
   "execution_count": 294,
   "id": "6d85ba8a",
   "metadata": {},
   "outputs": [],
   "source": [
    "assertFloatList(answers['Q9'], 4)"
   ]
  },
  {
   "cell_type": "code",
   "execution_count": 295,
   "metadata": {},
   "outputs": [
    {
     "data": {
      "text/plain": [
       "{'Q1': [0.007857269704335848, 570936.2842458971],\n",
       " 'Q2': 565419.5340402179,\n",
       " 'Q3': 565405.4395885819,\n",
       " 'Q4': [75735.70018272949,\n",
       "  90.35613031985204,\n",
       "  'Since we have a sizable range of error (16548), the MAE is better as it uses the absolute differences of errors, whereas the MSE squares errors, which exacerbates our errors, especially when the difference is large.'],\n",
       " 'Q5': [5.255254235328314, 78668.56502956731],\n",
       " 'Q6': [100, 581556.5979507361, 560698.1850582251],\n",
       " 'Q7': [3.4724877714627436, 19913],\n",
       " 'Q8': [24656, 67811, 20007, 62526, 0.472506390561468],\n",
       " 'Q9': [0.5454545454545454, 0.5454545454545454, 0.67, 0.685]}"
      ]
     },
     "execution_count": 295,
     "metadata": {},
     "output_type": "execute_result"
    }
   ],
   "source": [
    "answers"
   ]
  },
  {
   "cell_type": "code",
   "execution_count": 296,
   "id": "26a3af12",
   "metadata": {},
   "outputs": [],
   "source": [
    "### Question 10"
   ]
  },
  {
   "cell_type": "code",
   "execution_count": 297,
   "id": "435b494f",
   "metadata": {},
   "outputs": [],
   "source": [
    "y_trans = [d['hours_transformed'] for d in dataset]"
   ]
  },
  {
   "cell_type": "code",
   "execution_count": 298,
   "id": "4e5c9662",
   "metadata": {},
   "outputs": [],
   "source": [
    "mod = linear_model.LinearRegression(fit_intercept=False)\n",
    "mod.fit(X,y_trans)\n",
    "predictions_trans = mod.predict(X)"
   ]
  },
  {
   "cell_type": "code",
   "execution_count": 342,
   "metadata": {},
   "outputs": [
    {
     "data": {
      "text/plain": [
       "-0.217483012872894"
      ]
     },
     "execution_count": 342,
     "metadata": {},
     "output_type": "execute_result"
    }
   ],
   "source": [
    "predictions_thresh"
   ]
  },
  {
   "cell_type": "code",
   "execution_count": 363,
   "id": "3f466026",
   "metadata": {},
   "outputs": [],
   "source": [
    "predictions_thresh = np.median(predictions_trans)+0.31"
   ]
  },
  {
   "cell_type": "code",
   "execution_count": 364,
   "metadata": {},
   "outputs": [],
   "source": [
    "binaryPreds = [True if pred > predictions_thresh else False for pred in predictions_trans]"
   ]
  },
  {
   "cell_type": "code",
   "execution_count": 365,
   "id": "7f3d58fb",
   "metadata": {},
   "outputs": [],
   "source": [
    "TP, TN, FP, FN = rates(binaryPreds, y)"
   ]
  },
  {
   "cell_type": "code",
   "execution_count": 366,
   "id": "4fed01b8",
   "metadata": {},
   "outputs": [],
   "source": [
    "SEN = TP / (TP + FN)  # sensitivity / TPR \n",
    "FPR = FP / (FP + TN)  # FPR\n",
    "SPE = TN / (TN + FP)  # specificity / TNR\n",
    "BER = 0.5*(FPR + (1-SEN))"
   ]
  },
  {
   "cell_type": "code",
   "execution_count": 367,
   "metadata": {},
   "outputs": [
    {
     "data": {
      "text/plain": [
       "0.47126979143658965"
      ]
     },
     "execution_count": 367,
     "metadata": {},
     "output_type": "execute_result"
    }
   ],
   "source": [
    "BER"
   ]
  },
  {
   "cell_type": "code",
   "execution_count": 369,
   "metadata": {},
   "outputs": [],
   "source": [
    "your_threshold = predictions_thresh"
   ]
  },
  {
   "cell_type": "code",
   "execution_count": 370,
   "id": "7846fa89",
   "metadata": {},
   "outputs": [],
   "source": [
    "answers['Q10'] = [your_threshold, BER]"
   ]
  },
  {
   "cell_type": "code",
   "execution_count": 371,
   "id": "9c718e55",
   "metadata": {},
   "outputs": [],
   "source": [
    "assertFloatList(answers['Q10'], 2)"
   ]
  },
  {
   "cell_type": "code",
   "execution_count": 372,
   "metadata": {},
   "outputs": [
    {
     "data": {
      "text/plain": [
       "{'Q1': [0.007857269704335848, 570936.2842458971],\n",
       " 'Q2': 565419.5340402179,\n",
       " 'Q3': 565405.4395885819,\n",
       " 'Q4': [75735.70018272949,\n",
       "  90.35613031985204,\n",
       "  'Since we have a sizable range of error (16548), the MAE is better as it uses the absolute differences of errors, whereas the MSE squares errors, which exacerbates our errors, especially when the difference is large.'],\n",
       " 'Q5': [5.255254235328314, 78668.56502956731],\n",
       " 'Q6': [100, 581556.5979507361, 560698.1850582251],\n",
       " 'Q7': [3.4724877714627436, 19913],\n",
       " 'Q8': [24656, 67811, 20007, 62526, 0.472506390561468],\n",
       " 'Q9': [0.5454545454545454, 0.5454545454545454, 0.67, 0.685],\n",
       " 'Q10': [0.592516987127106, 0.47126979143658965]}"
      ]
     },
     "execution_count": 372,
     "metadata": {},
     "output_type": "execute_result"
    }
   ],
   "source": [
    "answers"
   ]
  },
  {
   "cell_type": "code",
   "execution_count": 373,
   "id": "0795d286",
   "metadata": {},
   "outputs": [],
   "source": [
    "### Question 11"
   ]
  },
  {
   "cell_type": "code",
   "execution_count": 374,
   "id": "3b66ab1e",
   "metadata": {},
   "outputs": [],
   "source": [
    "dataTrain = dataset[:int(len(dataset)*0.9)]\n",
    "dataTest = dataset[int(len(dataset)*0.9):]"
   ]
  },
  {
   "cell_type": "code",
   "execution_count": 375,
   "id": "fb03b18b",
   "metadata": {},
   "outputs": [],
   "source": [
    "userMedian = defaultdict(list)\n",
    "itemMedian = defaultdict(list)\n",
    "\n",
    "# Compute medians on training data"
   ]
  },
  {
   "cell_type": "code",
   "execution_count": 377,
   "metadata": {},
   "outputs": [
    {
     "data": {
      "text/plain": [
       "{'hours': 0.3,\n",
       " 'gameID': 'g35322304',\n",
       " 'hours_transformed': 0.37851162325372983,\n",
       " 'early_access': False,\n",
       " 'date': '2015-04-08',\n",
       " 'text': '+1',\n",
       " 'userID': 'u55351001'}"
      ]
     },
     "execution_count": 377,
     "metadata": {},
     "output_type": "execute_result"
    }
   ],
   "source": [
    "dataTrain[0]"
   ]
  },
  {
   "cell_type": "code",
   "execution_count": 381,
   "id": "c359fc4c",
   "metadata": {},
   "outputs": [],
   "source": [
    "for datum in dataTrain:\n",
    "    u, i = datum['userID'], datum['gameID']\n",
    "    userMedian[u].append(datum['hours'])\n",
    "    itemMedian[i].append(datum['hours'])\n",
    "\n",
    "for u in userMedian:\n",
    "    userMedian[u] = np.median(userMedian[u])\n",
    "\n",
    "for i in itemMedian:\n",
    "    itemMedian[i] = np.median(itemMedian[i])"
   ]
  },
  {
   "cell_type": "code",
   "execution_count": 382,
   "id": "416c32c6",
   "metadata": {},
   "outputs": [],
   "source": [
    "answers['Q11'] = [itemMedian['g35322304'], userMedian['u55351001']]"
   ]
  },
  {
   "cell_type": "code",
   "execution_count": 383,
   "id": "841df3e0",
   "metadata": {},
   "outputs": [],
   "source": [
    "assertFloatList(answers['Q11'], 2)"
   ]
  },
  {
   "cell_type": "code",
   "execution_count": 387,
   "metadata": {},
   "outputs": [
    {
     "data": {
      "text/plain": [
       "{'Q1': [0.007857269704335848, 570936.2842458971],\n",
       " 'Q2': 565419.5340402179,\n",
       " 'Q3': 565405.4395885819,\n",
       " 'Q4': [75735.70018272949,\n",
       "  90.35613031985204,\n",
       "  'Since we have a sizable range of error (16548), the MAE is better as it uses the absolute differences of errors, whereas the MSE squares errors, which exacerbates our errors, especially when the difference is large.'],\n",
       " 'Q5': [5.255254235328314, 78668.56502956731],\n",
       " 'Q6': [100, 581556.5979507361, 560698.1850582251],\n",
       " 'Q7': [3.4724877714627436, 19913],\n",
       " 'Q8': [24656, 67811, 20007, 62526, 0.472506390561468],\n",
       " 'Q9': [0.5454545454545454, 0.5454545454545454, 0.67, 0.685],\n",
       " 'Q10': [0.592516987127106, 0.47126979143658965],\n",
       " 'Q11': [0.5, 3.9]}"
      ]
     },
     "execution_count": 387,
     "metadata": {},
     "output_type": "execute_result"
    }
   ],
   "source": [
    "answers"
   ]
  },
  {
   "cell_type": "code",
   "execution_count": 386,
   "id": "19378bc4",
   "metadata": {},
   "outputs": [],
   "source": [
    "### Question 12"
   ]
  },
  {
   "cell_type": "code",
   "execution_count": 388,
   "metadata": {},
   "outputs": [],
   "source": [
    "globalMedian = np.median([datum['hours'] for datum in dataTrain])"
   ]
  },
  {
   "cell_type": "code",
   "execution_count": 398,
   "id": "db5612a9",
   "metadata": {},
   "outputs": [],
   "source": [
    "def f12(u,i):\n",
    "    # Function returns a single value (0 or 1)\n",
    "    if i in list(itemMedian.keys()):\n",
    "        return 1 if itemMedian[i] > globalMedian else 0\n",
    "    return 1 if userMedian[u] > globalMedian else 0"
   ]
  },
  {
   "cell_type": "code",
   "execution_count": 399,
   "id": "91c6f925",
   "metadata": {},
   "outputs": [],
   "source": [
    "preds = [f12(d['userID'], d['gameID']) for d in dataTest]"
   ]
  },
  {
   "cell_type": "code",
   "execution_count": 402,
   "id": "4b2a0191",
   "metadata": {},
   "outputs": [],
   "source": [
    "testMedian = np.median([datum['hours'] for datum in dataTest])\n",
    "y = [1 if datum['hours'] > testMedian else 0 for datum in dataTest]"
   ]
  },
  {
   "cell_type": "code",
   "execution_count": 411,
   "id": "d98b7500",
   "metadata": {},
   "outputs": [],
   "source": [
    "accuracy = np.sum(np.array(preds)==np.array(y)) / len(y)"
   ]
  },
  {
   "cell_type": "code",
   "execution_count": 412,
   "id": "fc9a4ae3",
   "metadata": {},
   "outputs": [],
   "source": [
    "answers['Q12'] = accuracy"
   ]
  },
  {
   "cell_type": "code",
   "execution_count": 413,
   "id": "4f139511",
   "metadata": {},
   "outputs": [],
   "source": [
    "assertFloat(answers['Q12'])"
   ]
  },
  {
   "cell_type": "code",
   "execution_count": 414,
   "metadata": {},
   "outputs": [
    {
     "data": {
      "text/plain": [
       "{'Q1': [0.007857269704335848, 570936.2842458971],\n",
       " 'Q2': 565419.5340402179,\n",
       " 'Q3': 565405.4395885819,\n",
       " 'Q4': [75735.70018272949,\n",
       "  90.35613031985204,\n",
       "  'Since we have a sizable range of error (16548), the MAE is better as it uses the absolute differences of errors, whereas the MSE squares errors, which exacerbates our errors, especially when the difference is large.'],\n",
       " 'Q5': [5.255254235328314, 78668.56502956731],\n",
       " 'Q6': [100, 581556.5979507361, 560698.1850582251],\n",
       " 'Q7': [3.4724877714627436, 19913],\n",
       " 'Q8': [24656, 67811, 20007, 62526, 0.472506390561468],\n",
       " 'Q9': [0.5454545454545454, 0.5454545454545454, 0.67, 0.685],\n",
       " 'Q10': [0.592516987127106, 0.47126979143658965],\n",
       " 'Q11': [0.5, 3.9],\n",
       " 'Q12': 0.7410857142857142}"
      ]
     },
     "execution_count": 414,
     "metadata": {},
     "output_type": "execute_result"
    }
   ],
   "source": [
    "answers"
   ]
  },
  {
   "cell_type": "code",
   "execution_count": 415,
   "id": "4b356b97",
   "metadata": {},
   "outputs": [],
   "source": [
    "### Question 13"
   ]
  },
  {
   "cell_type": "code",
   "execution_count": 416,
   "id": "483a29b8",
   "metadata": {},
   "outputs": [],
   "source": [
    "usersPerItem = defaultdict(set) # Maps an item to the users who rated it\n",
    "itemsPerUser = defaultdict(set) # Maps a user to the items that they rated\n",
    "itemNames = {}\n",
    "\n",
    "for d in dataset:\n",
    "    user,item = d['userID'], d['gameID']\n",
    "    usersPerItem[item].add(user)\n",
    "    itemsPerUser[user].add(item)"
   ]
  },
  {
   "cell_type": "code",
   "execution_count": 418,
   "id": "225d6855",
   "metadata": {},
   "outputs": [],
   "source": [
    "def Jaccard(s1, s2):\n",
    "    numer = len(s1.intersection(s2))\n",
    "    denom = len(s1.union(s2))\n",
    "    if denom == 0:\n",
    "        return 0\n",
    "    return numer / denom"
   ]
  },
  {
   "cell_type": "code",
   "execution_count": 471,
   "id": "2b0799c0",
   "metadata": {},
   "outputs": [],
   "source": [
    "def mostSimilar(i, func, N):\n",
    "    similarities = []\n",
    "    for i2 in usersPerItem:\n",
    "        if i2 == i:\n",
    "            continue\n",
    "        simmilarity = func(usersPerItem[i], usersPerItem[i2])\n",
    "        similarities.append((simmilarity, i2))\n",
    "    similarities.sort(reverse=True)\n",
    "    return similarities[:N]"
   ]
  },
  {
   "cell_type": "code",
   "execution_count": 472,
   "id": "5a644542",
   "metadata": {},
   "outputs": [],
   "source": [
    "ms = mostSimilar(dataset[0]['gameID'], Jaccard, 10)"
   ]
  },
  {
   "cell_type": "code",
   "execution_count": 473,
   "id": "d2202e12",
   "metadata": {},
   "outputs": [],
   "source": [
    "answers['Q13'] = [ms[0][0], ms[-1][0]]"
   ]
  },
  {
   "cell_type": "code",
   "execution_count": 474,
   "id": "df55cc6d",
   "metadata": {},
   "outputs": [],
   "source": [
    "assertFloatList(answers['Q13'], 2)"
   ]
  },
  {
   "cell_type": "code",
   "execution_count": 475,
   "metadata": {},
   "outputs": [
    {
     "data": {
      "text/plain": [
       "{'Q1': [0.007857269704335848, 570936.2842458971],\n",
       " 'Q2': 565419.5340402179,\n",
       " 'Q3': 565405.4395885819,\n",
       " 'Q4': [75735.70018272949,\n",
       "  90.35613031985204,\n",
       "  'Since we have a sizable range of error (16548), the MAE is better as it uses the absolute differences of errors, whereas the MSE squares errors, which exacerbates our errors, especially when the difference is large.'],\n",
       " 'Q5': [5.255254235328314, 78668.56502956731],\n",
       " 'Q6': [100, 581556.5979507361, 560698.1850582251],\n",
       " 'Q7': [3.4724877714627436, 19913],\n",
       " 'Q8': [24656, 67811, 20007, 62526, 0.472506390561468],\n",
       " 'Q9': [0.5454545454545454, 0.5454545454545454, 0.67, 0.685],\n",
       " 'Q10': [0.592516987127106, 0.47126979143658965],\n",
       " 'Q11': [0.5, 3.9],\n",
       " 'Q12': 0.7410857142857142,\n",
       " 'Q13': [0.07988165680473373, 0.04390243902439024]}"
      ]
     },
     "execution_count": 475,
     "metadata": {},
     "output_type": "execute_result"
    }
   ],
   "source": [
    "answers"
   ]
  },
  {
   "cell_type": "code",
   "execution_count": 476,
   "id": "a266cafb",
   "metadata": {},
   "outputs": [],
   "source": [
    "### Question 14"
   ]
  },
  {
   "cell_type": "code",
   "execution_count": 477,
   "id": "b15f52a4",
   "metadata": {},
   "outputs": [],
   "source": [
    "def mostSimilar14(i, func, N):\n",
    "    similarities = []\n",
    "    for i2 in usersPerItem:\n",
    "        if i2 == i:\n",
    "            continue\n",
    "        simmilarity = func(i, i2)\n",
    "        similarities.append((simmilarity, i2))\n",
    "    similarities.sort(reverse=True)\n",
    "    return similarities[:N]"
   ]
  },
  {
   "cell_type": "code",
   "execution_count": 478,
   "metadata": {},
   "outputs": [],
   "source": [
    "median = np.median([datum['hours'] for datum in dataset])"
   ]
  },
  {
   "cell_type": "code",
   "execution_count": 479,
   "id": "5325d790",
   "metadata": {},
   "outputs": [],
   "source": [
    "ratingDict = {}\n",
    "\n",
    "for d in dataset:\n",
    "    u,i = d['userID'], d['gameID']\n",
    "    lab = 1 if d['hours'] > median else -1\n",
    "    ratingDict[(u,i)] = lab"
   ]
  },
  {
   "cell_type": "code",
   "execution_count": 488,
   "id": "bdc9cf7e",
   "metadata": {},
   "outputs": [],
   "source": [
    "def Cosine(i1, i2):\n",
    "    # Between two items\n",
    "    inter = usersPerItem[i1].intersection(usersPerItem[i2])\n",
    "    numer = np.sum([ratingDict[(u, i1)]*ratingDict[(u, i2)] for u in inter])\n",
    "    norm1 = np.sum([ratingDict[(u, i1)]**2 for u in usersPerItem[i1]])\n",
    "    norm2 = np.sum([ratingDict[(u, i2)]**2 for u in usersPerItem[i2]])\n",
    "    denom = math.sqrt(norm1) * math.sqrt(norm2)\n",
    "    if denom == 0:\n",
    "        return 0\n",
    "    return numer / denom"
   ]
  },
  {
   "cell_type": "code",
   "execution_count": 489,
   "id": "55c82dbc",
   "metadata": {},
   "outputs": [],
   "source": [
    "ms = mostSimilar14(dataset[0]['gameID'], Cosine, 10)"
   ]
  },
  {
   "cell_type": "code",
   "execution_count": 490,
   "id": "5fed0ed3",
   "metadata": {},
   "outputs": [],
   "source": [
    "answers['Q14'] = [ms[0][0], ms[-1][0]]"
   ]
  },
  {
   "cell_type": "code",
   "execution_count": 491,
   "id": "8308daf9",
   "metadata": {},
   "outputs": [],
   "source": [
    "assertFloatList(answers['Q14'], 2)"
   ]
  },
  {
   "cell_type": "code",
   "execution_count": 492,
   "metadata": {},
   "outputs": [
    {
     "data": {
      "text/plain": [
       "{'Q1': [0.007857269704335848, 570936.2842458971],\n",
       " 'Q2': 565419.5340402179,\n",
       " 'Q3': 565405.4395885819,\n",
       " 'Q4': [75735.70018272949,\n",
       "  90.35613031985204,\n",
       "  'Since we have a sizable range of error (16548), the MAE is better as it uses the absolute differences of errors, whereas the MSE squares errors, which exacerbates our errors, especially when the difference is large.'],\n",
       " 'Q5': [5.255254235328314, 78668.56502956731],\n",
       " 'Q6': [100, 581556.5979507361, 560698.1850582251],\n",
       " 'Q7': [3.4724877714627436, 19913],\n",
       " 'Q8': [24656, 67811, 20007, 62526, 0.472506390561468],\n",
       " 'Q9': [0.5454545454545454, 0.5454545454545454, 0.67, 0.685],\n",
       " 'Q10': [0.592516987127106, 0.47126979143658965],\n",
       " 'Q11': [0.5, 3.9],\n",
       " 'Q12': 0.7410857142857142,\n",
       " 'Q13': [0.07988165680473373, 0.04390243902439024],\n",
       " 'Q14': [0.10251693271055495, 0.061667331307041336]}"
      ]
     },
     "execution_count": 492,
     "metadata": {},
     "output_type": "execute_result"
    }
   ],
   "source": [
    "answers"
   ]
  },
  {
   "cell_type": "code",
   "execution_count": 485,
   "id": "61c3358a",
   "metadata": {},
   "outputs": [],
   "source": [
    "### Question 15"
   ]
  },
  {
   "cell_type": "code",
   "execution_count": 493,
   "id": "63a5a945",
   "metadata": {},
   "outputs": [],
   "source": [
    "ratingDict = {}\n",
    "\n",
    "for d in dataset:\n",
    "    u,i = d['userID'], d['gameID']\n",
    "    lab = d['hours_transformed']\n",
    "    ratingDict[(u,i)] = lab"
   ]
  },
  {
   "cell_type": "code",
   "execution_count": 495,
   "id": "95406dc3",
   "metadata": {},
   "outputs": [],
   "source": [
    "ms = mostSimilar14(dataset[0]['gameID'], Cosine, 10)"
   ]
  },
  {
   "cell_type": "code",
   "execution_count": 496,
   "id": "ae95f22d",
   "metadata": {},
   "outputs": [],
   "source": [
    "answers['Q15'] = [ms[0][0], ms[-1][0]]"
   ]
  },
  {
   "cell_type": "code",
   "execution_count": 497,
   "id": "eac38017",
   "metadata": {},
   "outputs": [],
   "source": [
    "assertFloatList(answers['Q15'], 2)"
   ]
  },
  {
   "cell_type": "code",
   "execution_count": 498,
   "metadata": {},
   "outputs": [
    {
     "data": {
      "text/plain": [
       "{'Q1': [0.007857269704335848, 570936.2842458971],\n",
       " 'Q2': 565419.5340402179,\n",
       " 'Q3': 565405.4395885819,\n",
       " 'Q4': [75735.70018272949,\n",
       "  90.35613031985204,\n",
       "  'Since we have a sizable range of error (16548), the MAE is better as it uses the absolute differences of errors, whereas the MSE squares errors, which exacerbates our errors, especially when the difference is large.'],\n",
       " 'Q5': [5.255254235328314, 78668.56502956731],\n",
       " 'Q6': [100, 581556.5979507361, 560698.1850582251],\n",
       " 'Q7': [3.4724877714627436, 19913],\n",
       " 'Q8': [24656, 67811, 20007, 62526, 0.472506390561468],\n",
       " 'Q9': [0.5454545454545454, 0.5454545454545454, 0.67, 0.685],\n",
       " 'Q10': [0.592516987127106, 0.47126979143658965],\n",
       " 'Q11': [0.5, 3.9],\n",
       " 'Q12': 0.7410857142857142,\n",
       " 'Q13': [0.07988165680473373, 0.04390243902439024],\n",
       " 'Q14': [0.10251693271055495, 0.061667331307041336],\n",
       " 'Q15': [0.3301567230633553, 0.12290154232706592]}"
      ]
     },
     "execution_count": 498,
     "metadata": {},
     "output_type": "execute_result"
    }
   ],
   "source": [
    "answers"
   ]
  },
  {
   "cell_type": "code",
   "execution_count": 499,
   "id": "436d2691",
   "metadata": {},
   "outputs": [],
   "source": [
    "f = open(\"answers_midterm.txt\", 'w')\n",
    "f.write(str(answers) + '\\n')\n",
    "f.close()"
   ]
  },
  {
   "cell_type": "code",
   "execution_count": null,
   "id": "b53acc41",
   "metadata": {},
   "outputs": [],
   "source": []
  }
 ],
 "metadata": {
  "kernelspec": {
   "display_name": "Python 3 (ipykernel)",
   "language": "python",
   "name": "python3"
  },
  "language_info": {
   "codemirror_mode": {
    "name": "ipython",
    "version": 3
   },
   "file_extension": ".py",
   "mimetype": "text/x-python",
   "name": "python",
   "nbconvert_exporter": "python",
   "pygments_lexer": "ipython3",
   "version": "3.9.2"
  }
 },
 "nbformat": 4,
 "nbformat_minor": 5
}
