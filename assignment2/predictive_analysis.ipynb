{
 "cells": [
  {
   "cell_type": "code",
   "execution_count": 2291,
   "metadata": {},
   "outputs": [],
   "source": [
    "import pandas as pd\n",
    "import numpy as np \n",
    "import math\n",
    "from matplotlib import pyplot as plt, patches\n",
    "import matplotlib as mpl\n",
    "import seaborn as sns\n",
    "from sklearn import linear_model\n",
    "from collections import defaultdict\n",
    "import torch\n",
    "import torch.nn as nn "
   ]
  },
  {
   "cell_type": "code",
   "execution_count": 2292,
   "metadata": {},
   "outputs": [
    {
     "data": {
      "text/html": [
       "<div>\n",
       "<style scoped>\n",
       "    .dataframe tbody tr th:only-of-type {\n",
       "        vertical-align: middle;\n",
       "    }\n",
       "\n",
       "    .dataframe tbody tr th {\n",
       "        vertical-align: top;\n",
       "    }\n",
       "\n",
       "    .dataframe thead th {\n",
       "        text-align: right;\n",
       "    }\n",
       "</style>\n",
       "<table border=\"1\" class=\"dataframe\">\n",
       "  <thead>\n",
       "    <tr style=\"text-align: right;\">\n",
       "      <th></th>\n",
       "      <th>timestamp</th>\n",
       "      <th>indoor_co2 [ppm]</th>\n",
       "      <th>wifi_connected_devices [number]</th>\n",
       "      <th>occupant_count [number]</th>\n",
       "      <th>0</th>\n",
       "      <th>1</th>\n",
       "      <th>2</th>\n",
       "      <th>3</th>\n",
       "      <th>hour_sin</th>\n",
       "      <th>hour_cos</th>\n",
       "    </tr>\n",
       "  </thead>\n",
       "  <tbody>\n",
       "    <tr>\n",
       "      <th>0</th>\n",
       "      <td>2021-09-07 08:50:00+08:00</td>\n",
       "      <td>480.066681</td>\n",
       "      <td>4</td>\n",
       "      <td>1</td>\n",
       "      <td>0.227173</td>\n",
       "      <td>0.953840</td>\n",
       "      <td>0.542007</td>\n",
       "      <td>0.041682</td>\n",
       "      <td>0.866025</td>\n",
       "      <td>-0.500000</td>\n",
       "    </tr>\n",
       "    <tr>\n",
       "      <th>1</th>\n",
       "      <td>2021-09-07 08:55:00+08:00</td>\n",
       "      <td>481.166656</td>\n",
       "      <td>6</td>\n",
       "      <td>2</td>\n",
       "      <td>0.227173</td>\n",
       "      <td>0.953840</td>\n",
       "      <td>0.542007</td>\n",
       "      <td>0.041682</td>\n",
       "      <td>0.866025</td>\n",
       "      <td>-0.500000</td>\n",
       "    </tr>\n",
       "    <tr>\n",
       "      <th>2</th>\n",
       "      <td>2021-09-07 09:00:00+08:00</td>\n",
       "      <td>477.533325</td>\n",
       "      <td>7</td>\n",
       "      <td>4</td>\n",
       "      <td>0.144319</td>\n",
       "      <td>0.858028</td>\n",
       "      <td>0.690382</td>\n",
       "      <td>0.075178</td>\n",
       "      <td>0.707107</td>\n",
       "      <td>-0.707107</td>\n",
       "    </tr>\n",
       "    <tr>\n",
       "      <th>3</th>\n",
       "      <td>2021-09-07 09:05:00+08:00</td>\n",
       "      <td>474.233337</td>\n",
       "      <td>6</td>\n",
       "      <td>4</td>\n",
       "      <td>0.144319</td>\n",
       "      <td>0.858028</td>\n",
       "      <td>0.690382</td>\n",
       "      <td>0.075178</td>\n",
       "      <td>0.707107</td>\n",
       "      <td>-0.707107</td>\n",
       "    </tr>\n",
       "    <tr>\n",
       "      <th>4</th>\n",
       "      <td>2021-09-07 09:10:00+08:00</td>\n",
       "      <td>477.866669</td>\n",
       "      <td>9</td>\n",
       "      <td>7</td>\n",
       "      <td>0.144319</td>\n",
       "      <td>0.858028</td>\n",
       "      <td>0.690382</td>\n",
       "      <td>0.075178</td>\n",
       "      <td>0.707107</td>\n",
       "      <td>-0.707107</td>\n",
       "    </tr>\n",
       "  </tbody>\n",
       "</table>\n",
       "</div>"
      ],
      "text/plain": [
       "                  timestamp  indoor_co2 [ppm]  \\\n",
       "0 2021-09-07 08:50:00+08:00        480.066681   \n",
       "1 2021-09-07 08:55:00+08:00        481.166656   \n",
       "2 2021-09-07 09:00:00+08:00        477.533325   \n",
       "3 2021-09-07 09:05:00+08:00        474.233337   \n",
       "4 2021-09-07 09:10:00+08:00        477.866669   \n",
       "\n",
       "   wifi_connected_devices [number]  occupant_count [number]         0  \\\n",
       "0                                4                        1  0.227173   \n",
       "1                                6                        2  0.227173   \n",
       "2                                7                        4  0.144319   \n",
       "3                                6                        4  0.144319   \n",
       "4                                9                        7  0.144319   \n",
       "\n",
       "          1         2         3  hour_sin  hour_cos  \n",
       "0  0.953840  0.542007  0.041682  0.866025 -0.500000  \n",
       "1  0.953840  0.542007  0.041682  0.866025 -0.500000  \n",
       "2  0.858028  0.690382  0.075178  0.707107 -0.707107  \n",
       "3  0.858028  0.690382  0.075178  0.707107 -0.707107  \n",
       "4  0.858028  0.690382  0.075178  0.707107 -0.707107  "
      ]
     },
     "execution_count": 2292,
     "metadata": {},
     "output_type": "execute_result"
    }
   ],
   "source": [
    "# Importing preprocessed dataset\n",
    "\n",
    "df = pd.read_csv('data/dfFinal.csv')\n",
    "df.timestamp = pd.to_datetime(df.timestamp)\n",
    "df.head()"
   ]
  },
  {
   "cell_type": "code",
   "execution_count": 2293,
   "metadata": {},
   "outputs": [],
   "source": [
    "# Create an index for every hour value for one-hot encoding\n",
    "\n",
    "hours = [t.hour for t in df.timestamp]\n",
    "hoursIdx = dict(zip(list(set(hours))[:-1], range(len(set(hours))-1)))"
   ]
  },
  {
   "cell_type": "code",
   "execution_count": 2294,
   "metadata": {},
   "outputs": [
    {
     "data": {
      "text/plain": [
       "{8: 0,\n",
       " 9: 1,\n",
       " 10: 2,\n",
       " 11: 3,\n",
       " 12: 4,\n",
       " 13: 5,\n",
       " 14: 6,\n",
       " 15: 7,\n",
       " 16: 8,\n",
       " 17: 9,\n",
       " 18: 10,\n",
       " 19: 11,\n",
       " 20: 12}"
      ]
     },
     "execution_count": 2294,
     "metadata": {},
     "output_type": "execute_result"
    }
   ],
   "source": [
    "hoursIdx"
   ]
  },
  {
   "cell_type": "code",
   "execution_count": 2295,
   "metadata": {},
   "outputs": [],
   "source": [
    "# Calculate means and standard deviations to standardize attributes\n",
    "\n",
    "indoorCO2Mean = np.mean(df['indoor_co2 [ppm]'])\n",
    "indoorCO2Std = np.std(df['indoor_co2 [ppm]'])\n",
    "\n",
    "wifiDevicesMean = np.mean(df['wifi_connected_devices [number]'])\n",
    "wifiDevicesStd = np.std(df['wifi_connected_devices [number]'])"
   ]
  },
  {
   "cell_type": "code",
   "execution_count": 2296,
   "metadata": {},
   "outputs": [],
   "source": [
    "X = []\n",
    "y = []\n",
    "\n",
    "def feat(row, hourEncoding):\n",
    "\n",
    "    if hourEncoding == 'one-hot':\n",
    "        # One-hot encode\n",
    "        hourEncode = [0]*13 \n",
    "        hour = row['timestamp'].hour\n",
    "        if hour in hoursIdx.keys():\n",
    "            hourEncode[hoursIdx[hour]] = 1\n",
    "    elif hourEncoding == 'sin/cos':\n",
    "        hourEncode = [row['hour_sin'], row['hour_cos']]\n",
    "    else:\n",
    "        hourEncode = [row['0'], row['1'], row['2'], row['3']]\n",
    "    \n",
    "    # Standardization\n",
    "    indoorCO2, wifiDevices = row['indoor_co2 [ppm]'], row['wifi_connected_devices [number]']\n",
    "    indoorCO2 = (indoorCO2-indoorCO2Mean) / indoorCO2Std\n",
    "    wifiDevices = (wifiDevices-wifiDevicesMean) / wifiDevicesStd\n",
    "\n",
    "    X.append([1]+hourEncode+[indoorCO2]+[wifiDevices])\n",
    "    y.append(row['occupant_count [number]'])\n",
    "\n",
    "    return None\n",
    "\n",
    "def RMSE(actuals, preds):\n",
    "    sqrdErrors = [(p[0]-p[1])**2 for p in zip(actuals, preds)]\n",
    "    return np.sqrt(sum(sqrdErrors) / len(sqrdErrors))\n"
   ]
  },
  {
   "cell_type": "code",
   "execution_count": 2297,
   "metadata": {},
   "outputs": [],
   "source": [
    "df.apply(feat, hourEncoding='one-hot', axis=1);"
   ]
  },
  {
   "cell_type": "code",
   "execution_count": 2298,
   "metadata": {},
   "outputs": [
    {
     "data": {
      "text/plain": [
       "True"
      ]
     },
     "execution_count": 2298,
     "metadata": {},
     "output_type": "execute_result"
    }
   ],
   "source": [
    "# sanity check\n",
    "\n",
    "len(X) == len(y)"
   ]
  },
  {
   "cell_type": "code",
   "execution_count": 2299,
   "metadata": {},
   "outputs": [],
   "source": [
    "# variable to store all models' performance\n",
    "\n",
    "lrPerformance = defaultdict(float)\n",
    "lrTrainPerformance = defaultdict(float)"
   ]
  },
  {
   "cell_type": "code",
   "execution_count": 2300,
   "metadata": {},
   "outputs": [],
   "source": [
    "# Train / test split\n",
    "\n",
    "threshold = int(len(X)*0.75)\n",
    "\n",
    "XTrain = X[:threshold]\n",
    "XTest = X[threshold:]\n",
    "yTrain = y[:threshold]\n",
    "yTest = y[threshold:]"
   ]
  },
  {
   "cell_type": "code",
   "execution_count": 2301,
   "metadata": {},
   "outputs": [
    {
     "name": "stdout",
     "output_type": "stream",
     "text": [
      "True\n",
      "True\n"
     ]
    }
   ],
   "source": [
    "# sanity check\n",
    "\n",
    "print(len(XTrain) + len(XTest) == len(X))\n",
    "print(len(yTrain) + len(yTest) == len(y))"
   ]
  },
  {
   "cell_type": "markdown",
   "metadata": {},
   "source": [
    "#### <b>Linear Regression</b> - stand alone ex. with one-hot encoding (sin/cos and RBF transformations done in a loop)"
   ]
  },
  {
   "cell_type": "code",
   "execution_count": 2302,
   "metadata": {},
   "outputs": [
    {
     "data": {
      "text/html": [
       "<style>#sk-container-id-9 {color: black;background-color: white;}#sk-container-id-9 pre{padding: 0;}#sk-container-id-9 div.sk-toggleable {background-color: white;}#sk-container-id-9 label.sk-toggleable__label {cursor: pointer;display: block;width: 100%;margin-bottom: 0;padding: 0.3em;box-sizing: border-box;text-align: center;}#sk-container-id-9 label.sk-toggleable__label-arrow:before {content: \"▸\";float: left;margin-right: 0.25em;color: #696969;}#sk-container-id-9 label.sk-toggleable__label-arrow:hover:before {color: black;}#sk-container-id-9 div.sk-estimator:hover label.sk-toggleable__label-arrow:before {color: black;}#sk-container-id-9 div.sk-toggleable__content {max-height: 0;max-width: 0;overflow: hidden;text-align: left;background-color: #f0f8ff;}#sk-container-id-9 div.sk-toggleable__content pre {margin: 0.2em;color: black;border-radius: 0.25em;background-color: #f0f8ff;}#sk-container-id-9 input.sk-toggleable__control:checked~div.sk-toggleable__content {max-height: 200px;max-width: 100%;overflow: auto;}#sk-container-id-9 input.sk-toggleable__control:checked~label.sk-toggleable__label-arrow:before {content: \"▾\";}#sk-container-id-9 div.sk-estimator input.sk-toggleable__control:checked~label.sk-toggleable__label {background-color: #d4ebff;}#sk-container-id-9 div.sk-label input.sk-toggleable__control:checked~label.sk-toggleable__label {background-color: #d4ebff;}#sk-container-id-9 input.sk-hidden--visually {border: 0;clip: rect(1px 1px 1px 1px);clip: rect(1px, 1px, 1px, 1px);height: 1px;margin: -1px;overflow: hidden;padding: 0;position: absolute;width: 1px;}#sk-container-id-9 div.sk-estimator {font-family: monospace;background-color: #f0f8ff;border: 1px dotted black;border-radius: 0.25em;box-sizing: border-box;margin-bottom: 0.5em;}#sk-container-id-9 div.sk-estimator:hover {background-color: #d4ebff;}#sk-container-id-9 div.sk-parallel-item::after {content: \"\";width: 100%;border-bottom: 1px solid gray;flex-grow: 1;}#sk-container-id-9 div.sk-label:hover label.sk-toggleable__label {background-color: #d4ebff;}#sk-container-id-9 div.sk-serial::before {content: \"\";position: absolute;border-left: 1px solid gray;box-sizing: border-box;top: 0;bottom: 0;left: 50%;z-index: 0;}#sk-container-id-9 div.sk-serial {display: flex;flex-direction: column;align-items: center;background-color: white;padding-right: 0.2em;padding-left: 0.2em;position: relative;}#sk-container-id-9 div.sk-item {position: relative;z-index: 1;}#sk-container-id-9 div.sk-parallel {display: flex;align-items: stretch;justify-content: center;background-color: white;position: relative;}#sk-container-id-9 div.sk-item::before, #sk-container-id-9 div.sk-parallel-item::before {content: \"\";position: absolute;border-left: 1px solid gray;box-sizing: border-box;top: 0;bottom: 0;left: 50%;z-index: -1;}#sk-container-id-9 div.sk-parallel-item {display: flex;flex-direction: column;z-index: 1;position: relative;background-color: white;}#sk-container-id-9 div.sk-parallel-item:first-child::after {align-self: flex-end;width: 50%;}#sk-container-id-9 div.sk-parallel-item:last-child::after {align-self: flex-start;width: 50%;}#sk-container-id-9 div.sk-parallel-item:only-child::after {width: 0;}#sk-container-id-9 div.sk-dashed-wrapped {border: 1px dashed gray;margin: 0 0.4em 0.5em 0.4em;box-sizing: border-box;padding-bottom: 0.4em;background-color: white;}#sk-container-id-9 div.sk-label label {font-family: monospace;font-weight: bold;display: inline-block;line-height: 1.2em;}#sk-container-id-9 div.sk-label-container {text-align: center;}#sk-container-id-9 div.sk-container {/* jupyter's `normalize.less` sets `[hidden] { display: none; }` but bootstrap.min.css set `[hidden] { display: none !important; }` so we also need the `!important` here to be able to override the default hidden behavior on the sphinx rendered scikit-learn.org. See: https://github.com/scikit-learn/scikit-learn/issues/21755 */display: inline-block !important;position: relative;}#sk-container-id-9 div.sk-text-repr-fallback {display: none;}</style><div id=\"sk-container-id-9\" class=\"sk-top-container\"><div class=\"sk-text-repr-fallback\"><pre>LinearRegression(fit_intercept=False)</pre><b>In a Jupyter environment, please rerun this cell to show the HTML representation or trust the notebook. <br />On GitHub, the HTML representation is unable to render, please try loading this page with nbviewer.org.</b></div><div class=\"sk-container\" hidden><div class=\"sk-item\"><div class=\"sk-estimator sk-toggleable\"><input class=\"sk-toggleable__control sk-hidden--visually\" id=\"sk-estimator-id-9\" type=\"checkbox\" checked><label for=\"sk-estimator-id-9\" class=\"sk-toggleable__label sk-toggleable__label-arrow\">LinearRegression</label><div class=\"sk-toggleable__content\"><pre>LinearRegression(fit_intercept=False)</pre></div></div></div></div></div>"
      ],
      "text/plain": [
       "LinearRegression(fit_intercept=False)"
      ]
     },
     "execution_count": 2302,
     "metadata": {},
     "output_type": "execute_result"
    }
   ],
   "source": [
    "# Model initiation and fit\n",
    "\n",
    "lrModel = linear_model.LinearRegression(fit_intercept=False)\n",
    "lrModel.fit(XTrain, yTrain)"
   ]
  },
  {
   "cell_type": "code",
   "execution_count": 2303,
   "metadata": {},
   "outputs": [
    {
     "data": {
      "text/plain": [
       "2.2334939506347933"
      ]
     },
     "execution_count": 2303,
     "metadata": {},
     "output_type": "execute_result"
    }
   ],
   "source": [
    "# Make predictions and get RMSE\n",
    "\n",
    "preds = lrModel.predict(XTest)\n",
    "lrRMSE = RMSE(yTest, preds)\n",
    "lrRMSE"
   ]
  },
  {
   "cell_type": "code",
   "execution_count": 2304,
   "metadata": {},
   "outputs": [
    {
     "data": {
      "text/plain": [
       "array([2.51017815, 0.14027575, 0.45693332, 1.37661187, 1.87173858,\n",
       "       1.86087422, 2.44248679, 3.27343789, 3.4271599 , 3.40350706,\n",
       "       2.29825606, 1.79139328, 1.14432045, 0.63069239, 0.62363237,\n",
       "       0.99554744])"
      ]
     },
     "execution_count": 2304,
     "metadata": {},
     "output_type": "execute_result"
    }
   ],
   "source": [
    "# Get model specs\n",
    "\n",
    "lrModel.coef_"
   ]
  },
  {
   "cell_type": "code",
   "execution_count": 2305,
   "metadata": {},
   "outputs": [
    {
     "data": {
      "image/png": "[encoded data removed]",
      "text/plain": [
       "<Figure size 432x288 with 1 Axes>"
      ]
     },
     "metadata": {},
     "output_type": "display_data"
    }
   ],
   "source": [
    "mpl.style.use('seaborn-whitegrid')\n",
    "sns.lineplot(x=hours, y=df['occupant_count [number]'])\n",
    "plt.title('Distribution of occupant count across hour of day')\n",
    "ax = plt.gca()\n",
    "ax.add_patch(patches.Rectangle((13.3, 5.4), 3.1, 0.7, edgecolor='orange', \\\n",
    "    facecolor='none', linewidth=2))\n",
    "plt.ylabel('occupant count')\n",
    "plt.xlabel('hour of day')\n",
    "plt.show();"
   ]
  },
  {
   "cell_type": "code",
   "execution_count": 2306,
   "metadata": {},
   "outputs": [
    {
     "name": "stdout",
     "output_type": "stream",
     "text": [
      "[[1.        0.4428711]\n",
      " [0.4428711 1.       ]]\n"
     ]
    },
    {
     "data": {
      "image/png": "[encoded data removed]",
      "text/plain": [
       "<Figure size 432x288 with 1 Axes>"
      ]
     },
     "metadata": {},
     "output_type": "display_data"
    }
   ],
   "source": [
    "# sanity check\n",
    "\n",
    "arr1 = (df['indoor_co2 [ppm]']-indoorCO2Mean)/indoorCO2Std\n",
    "arr2 = (df['wifi_connected_devices [number]']-wifiDevicesMean)/wifiDevicesStd\n",
    "\n",
    "print(np.corrcoef(arr1, arr2))\n",
    "line = np.linspace(-1.8, 4.6, 100)\n",
    "mdl = np.poly1d(np.polyfit(arr1, arr2, 1))\n",
    "mdl3 = np.poly1d(np.polyfit(arr1, arr2, 3))\n",
    "\n",
    "# mpl.style.use('seaborn-dark-palette')\n",
    "# mpl.style.use('seaborn-darkgrid')\n",
    "# mpl.style.use('seaborn-deep')\n",
    "mpl.style.use('seaborn-dark')\n",
    "\n",
    "sns.lineplot(x=arr1, y=arr2, alpha=0.55)\n",
    "plt.plot(line, mdl3(line))\n",
    "plt.plot(line, mdl(line))\n",
    "\n",
    "plt.title(f'Feature correlation (multicollinearity check), corr={np.round(mdl.coef[0], 2)}');"
   ]
  },
  {
   "cell_type": "code",
   "execution_count": 2307,
   "metadata": {},
   "outputs": [],
   "source": [
    "lrPerformance[('lin-reg', 'one-hot')] = lrRMSE"
   ]
  },
  {
   "cell_type": "code",
   "execution_count": 2371,
   "metadata": {},
   "outputs": [
    {
     "name": "stdout",
     "output_type": "stream",
     "text": [
      "Model - lin-reg, one-hot\n",
      "Learning feature sample: [1, 1, 0, 0, 0, 0, 0, 0, 0, 0, 0, 0, 0, 0, 0.288331218068863, 0.20005668386070682]\n",
      "coefficients: [2.51017815 0.14027575 0.45693332 1.37661187 1.87173858 1.86087422\n",
      " 2.44248679 3.27343789 3.4271599  3.40350706 2.29825606 1.79139328\n",
      " 1.14432045 0.63069239 0.62363237 0.99554744]\n",
      "\n",
      "Model - lin-reg, sin/cos\n",
      "Learning feature sample: [1, 0.8660254037844387, -0.4999999999999998, 0.288331218068863, 0.20005668386070682]\n",
      "coefficients: [ 2.59559811 -1.90356412 -2.35367418  0.56816412  1.01537706]\n",
      "\n",
      "Model - lin-reg, rbf\n",
      "Learning feature sample: [1, 0.2271734201167346, 0.95384034078631, 0.5420069956565414, 0.041681672223569, 0.288331218068863, 0.20005668386070682]\n",
      "coefficients: [-124.02729455   68.55032542   70.57850723   73.96893252   74.02193929\n",
      "    0.6221681     0.9940373 ]\n",
      "\n"
     ]
    }
   ],
   "source": [
    "# Repeat for sin/cos and RBF hour transformations (Linear regression)\n",
    "\n",
    "# Record prediction values for each model examine their distribution\n",
    "model = []\n",
    "predVal = []\n",
    "\n",
    "for trans in ['one-hot', 'sin/cos', 'rbf']:\n",
    "    X = []\n",
    "    y = []\n",
    "    df.apply(feat, hourEncoding=trans, axis=1)\n",
    "\n",
    "    threshold = int(len(X)*0.75)\n",
    "    XTrain = X[:threshold]\n",
    "    XTest = X[threshold:]\n",
    "    yTrain = y[:threshold]\n",
    "    yTest = y[threshold:]\n",
    "    featSample = X[0]\n",
    "\n",
    "    # Model initiation and fit\n",
    "    mdl = linear_model.LinearRegression(fit_intercept=False)\n",
    "    mdl.fit(XTrain, yTrain)\n",
    "\n",
    "    # Make predictions and get RMSE\n",
    "    trainPreds = mdl.predict(XTrain)\n",
    "    trainRMSE = RMSE(yTrain, trainPreds)\n",
    "    testPreds = mdl.predict(XTest)\n",
    "    testRMSE = RMSE(yTest, testPreds)\n",
    "\n",
    "    lrPerformance[('lin-reg', trans)] = testRMSE\n",
    "    lrTrainPerformance[('lin-reg', trans)] = trainRMSE\n",
    "    model += [f'lin-reg, {trans}']*len(testPreds)\n",
    "    predVal += list(testPreds)\n",
    "\n",
    "    # Examine model\n",
    "    print(f'Model - lin-reg, {trans}')\n",
    "    print(f'Learning feature sample: {featSample}')\n",
    "    # print(f'{featSample}')\n",
    "    print(f'coefficients: {mdl.coef_}')\n",
    "    # print(f'{mdl.coef_}')\n",
    "    print('')\n"
   ]
  },
  {
   "cell_type": "code",
   "execution_count": 2372,
   "metadata": {},
   "outputs": [
    {
     "data": {
      "image/png": "[encoded data removed]",
      "text/plain": [
       "<Figure size 432x288 with 1 Axes>"
      ]
     },
     "metadata": {},
     "output_type": "display_data"
    }
   ],
   "source": [
    "# Plot distribution of prediction values\n",
    "\n",
    "predVariety = pd.DataFrame(data={'model': model, 'predVal': predVal})\n",
    "sns.histplot(data=predVariety, x='predVal', hue='model', kde=True, alpha=0.46);\n",
    "plt.title('Lin-reg models prediction values')\n",
    "plt.xlabel('predicted occupancy');"
   ]
  },
  {
   "cell_type": "code",
   "execution_count": 2373,
   "metadata": {},
   "outputs": [
    {
     "data": {
      "text/plain": [
       "defaultdict(float,\n",
       "            {('lin-reg', 'one-hot'): 2.2334939506347933,\n",
       "             ('lin-reg', 'sin/cos'): 2.243164827500044,\n",
       "             ('lin-reg', 'rbf'): 2.2266253252047497})"
      ]
     },
     "execution_count": 2373,
     "metadata": {},
     "output_type": "execute_result"
    }
   ],
   "source": [
    "lrPerformance"
   ]
  },
  {
   "cell_type": "code",
   "execution_count": 2374,
   "metadata": {},
   "outputs": [
    {
     "data": {
      "text/plain": [
       "defaultdict(float,\n",
       "            {('lin-reg', 'one-hot'): 2.3504687786936733,\n",
       "             ('lin-reg', 'sin/cos'): 2.3696494143564286,\n",
       "             ('lin-reg', 'rbf'): 2.3559523957528716})"
      ]
     },
     "execution_count": 2374,
     "metadata": {},
     "output_type": "execute_result"
    }
   ],
   "source": [
    "lrTrainPerformance"
   ]
  },
  {
   "cell_type": "markdown",
   "metadata": {},
   "source": [
    "#### <b>Auto-regression</b>"
   ]
  },
  {
   "cell_type": "code",
   "execution_count": 2542,
   "metadata": {},
   "outputs": [],
   "source": [
    "data = list(df['occupant_count [number]'])"
   ]
  },
  {
   "cell_type": "code",
   "execution_count": 2543,
   "metadata": {},
   "outputs": [
    {
     "name": "stdout",
     "output_type": "stream",
     "text": [
      "X shape (5747, 12) Y shape (5747, 1)\n"
     ]
    }
   ],
   "source": [
    "# Building the dataset, use T past values to predict the next value\n",
    "\n",
    "T = 12\n",
    "X = []\n",
    "y = []\n",
    "for t in range(len(data)-T):\n",
    "    X.append(data[t:t+T])\n",
    "    y.append(data[t+T])\n",
    "\n",
    "X = np.array(X).reshape(-1, T)\n",
    "y = np.array(y).reshape(-1, 1)\n",
    "N = len(X)\n",
    "print(\"X shape\", X.shape, \"Y shape\", y.shape)"
   ]
  },
  {
   "cell_type": "code",
   "execution_count": 2544,
   "metadata": {},
   "outputs": [
    {
     "data": {
      "text/plain": [
       "array([1, 2, 4, 4, 7, 4, 4, 2, 5, 3, 2, 2])"
      ]
     },
     "execution_count": 2544,
     "metadata": {},
     "output_type": "execute_result"
    }
   ],
   "source": [
    "X[0]"
   ]
  },
  {
   "cell_type": "code",
   "execution_count": 2545,
   "metadata": {},
   "outputs": [
    {
     "data": {
      "text/plain": [
       "array([2])"
      ]
     },
     "execution_count": 2545,
     "metadata": {},
     "output_type": "execute_result"
    }
   ],
   "source": [
    "y[0]"
   ]
  },
  {
   "cell_type": "code",
   "execution_count": 2546,
   "metadata": {},
   "outputs": [],
   "source": [
    "# Instantiate autoregression model\n",
    "\n",
    "agModel = nn.Linear(T, 1)"
   ]
  },
  {
   "cell_type": "code",
   "execution_count": 2547,
   "metadata": {},
   "outputs": [],
   "source": [
    "# Loss and optimizer\n",
    "\n",
    "criterion = nn.MSELoss()\n",
    "optimizer = torch.optim.Adam(agModel.parameters(), lr=0.01)"
   ]
  },
  {
   "cell_type": "code",
   "execution_count": 2548,
   "metadata": {},
   "outputs": [],
   "source": [
    "# Make inputs and targets\n",
    "\n",
    "threshold = int(len(X)*0.5)\n",
    "XTrain = torch.from_numpy(X[:threshold].astype(np.float32))\n",
    "yTrain = torch.from_numpy(y[:threshold].astype(np.float32))\n",
    "XTest = torch.from_numpy(X[threshold:].astype(np.float32))\n",
    "yTest = torch.from_numpy(y[threshold:].astype(np.float32))"
   ]
  },
  {
   "cell_type": "code",
   "execution_count": 2549,
   "metadata": {},
   "outputs": [
    {
     "data": {
      "text/plain": [
       "tensor([[1., 2., 4., 4., 7., 4., 4., 2., 5., 3., 2., 2.],\n",
       "        [2., 4., 4., 7., 4., 4., 2., 5., 3., 2., 2., 2.]])"
      ]
     },
     "execution_count": 2549,
     "metadata": {},
     "output_type": "execute_result"
    }
   ],
   "source": [
    "# sanity check\n",
    "\n",
    "XTrain[:2]"
   ]
  },
  {
   "cell_type": "code",
   "execution_count": 2550,
   "metadata": {},
   "outputs": [
    {
     "data": {
      "text/plain": [
       "tensor([[2.],\n",
       "        [2.]])"
      ]
     },
     "execution_count": 2550,
     "metadata": {},
     "output_type": "execute_result"
    }
   ],
   "source": [
    "yTrain[:2]"
   ]
  },
  {
   "cell_type": "code",
   "execution_count": 2551,
   "metadata": {},
   "outputs": [],
   "source": [
    "# Training\n",
    "\n",
    "def gradient_descent(model,\n",
    "                     criterion,\n",
    "                     optimizer,\n",
    "                     XTrain,\n",
    "                     yTrain,\n",
    "                     XTest,\n",
    "                     yTest,\n",
    "                    #  tol=0.001,\n",
    "                     epochs=200):\n",
    "    \n",
    "    trainLosses, testLosses = np.zeros(epochs), np.zeros(epochs)\n",
    "    \n",
    "    lastLoss = None\n",
    "    for ite in range(epochs):\n",
    "        # zero the parameter gradients\n",
    "        optimizer.zero_grad()\n",
    "\n",
    "        # forward pass\n",
    "        outputs = model(XTrain)\n",
    "        loss = torch.sqrt(criterion(outputs, yTrain))\n",
    "\n",
    "        # backward and optimize\n",
    "        loss.backward()\n",
    "        optimizer.step()\n",
    "\n",
    "        # save loss\n",
    "        trainLosses[ite] = loss.item()\n",
    "\n",
    "        # Attempted a stop criterion using a tolerance but didn't seem to work \n",
    "        # (strange behavior in loss trend)\n",
    "            # if lastLoss is None:\n",
    "            #     lastLoss = loss.item()\n",
    "            # elif lastLoss and abs(lastLoss-loss.item()) < tol:\n",
    "            #     break\n",
    "\n",
    "            # print(abs(lastLoss-loss.item()))\n",
    "\n",
    "\n",
    "        # test loss\n",
    "        testOutputs = model(XTest)\n",
    "        testLoss = torch.sqrt(criterion(testOutputs, yTest))\n",
    "        testLosses[ite] = testLoss.item()\n",
    "\n",
    "        if (ite+1) % 5 == 0:\n",
    "            print(f\"Epoch {ite+1}/{epochs}, Train loss: {loss.item():.4f}, Test loss: {testLoss.item():.4f}\")\n",
    "\n",
    "        lastLoss = loss.item()\n",
    "    \n",
    "    return trainLosses, testLosses"
   ]
  },
  {
   "cell_type": "code",
   "execution_count": 2552,
   "metadata": {},
   "outputs": [
    {
     "name": "stdout",
     "output_type": "stream",
     "text": [
      "Epoch 5/200, Train loss: 1.5073, Test loss: 1.3148\n",
      "Epoch 10/200, Train loss: 1.4714, Test loss: 1.0918\n",
      "Epoch 15/200, Train loss: 1.4779, Test loss: 1.1614\n",
      "Epoch 20/200, Train loss: 1.3478, Test loss: 1.0468\n",
      "Epoch 25/200, Train loss: 1.3663, Test loss: 1.0465\n",
      "Epoch 30/200, Train loss: 1.3124, Test loss: 1.0193\n",
      "Epoch 35/200, Train loss: 1.2820, Test loss: 0.9828\n",
      "Epoch 40/200, Train loss: 1.2672, Test loss: 0.9714\n",
      "Epoch 45/200, Train loss: 1.2389, Test loss: 0.9507\n",
      "Epoch 50/200, Train loss: 1.2159, Test loss: 0.9303\n",
      "Epoch 55/200, Train loss: 1.1982, Test loss: 0.9143\n",
      "Epoch 60/200, Train loss: 1.1801, Test loss: 0.8993\n",
      "Epoch 65/200, Train loss: 1.1622, Test loss: 0.8856\n",
      "Epoch 70/200, Train loss: 1.1458, Test loss: 0.8712\n",
      "Epoch 75/200, Train loss: 1.1309, Test loss: 0.8590\n",
      "Epoch 80/200, Train loss: 1.1170, Test loss: 0.8473\n",
      "Epoch 85/200, Train loss: 1.1041, Test loss: 0.8366\n",
      "Epoch 90/200, Train loss: 1.0922, Test loss: 0.8271\n",
      "Epoch 95/200, Train loss: 1.0813, Test loss: 0.8179\n",
      "Epoch 100/200, Train loss: 1.0713, Test loss: 0.8101\n",
      "Epoch 105/200, Train loss: 1.0622, Test loss: 0.8025\n",
      "Epoch 110/200, Train loss: 1.0540, Test loss: 0.7961\n",
      "Epoch 115/200, Train loss: 1.0465, Test loss: 0.7900\n",
      "Epoch 120/200, Train loss: 1.0397, Test loss: 0.7848\n",
      "Epoch 125/200, Train loss: 1.0336, Test loss: 0.7799\n",
      "Epoch 130/200, Train loss: 1.0281, Test loss: 0.7756\n",
      "Epoch 135/200, Train loss: 1.0230, Test loss: 0.7716\n",
      "Epoch 140/200, Train loss: 1.0184, Test loss: 0.7680\n",
      "Epoch 145/200, Train loss: 1.0142, Test loss: 0.7648\n",
      "Epoch 150/200, Train loss: 1.0103, Test loss: 0.7618\n",
      "Epoch 155/200, Train loss: 1.0068, Test loss: 0.7591\n",
      "Epoch 160/200, Train loss: 1.0036, Test loss: 0.7566\n",
      "Epoch 165/200, Train loss: 1.0006, Test loss: 0.7543\n",
      "Epoch 170/200, Train loss: 0.9978, Test loss: 0.7522\n",
      "Epoch 175/200, Train loss: 0.9953, Test loss: 0.7503\n",
      "Epoch 180/200, Train loss: 0.9929, Test loss: 0.7485\n",
      "Epoch 185/200, Train loss: 0.9907, Test loss: 0.7468\n",
      "Epoch 190/200, Train loss: 0.9887, Test loss: 0.7452\n",
      "Epoch 195/200, Train loss: 0.9868, Test loss: 0.7438\n",
      "Epoch 200/200, Train loss: 0.9850, Test loss: 0.7425\n"
     ]
    }
   ],
   "source": [
    "trainLosses, testLosses = gradient_descent(agModel,\n",
    "                                           criterion,\n",
    "                                           optimizer,\n",
    "                                           XTrain,\n",
    "                                           yTrain,\n",
    "                                           XTest,\n",
    "                                           yTest)"
   ]
  },
  {
   "cell_type": "code",
   "execution_count": 2553,
   "metadata": {},
   "outputs": [
    {
     "data": {
      "image/png": "[encoded data removed]",
      "text/plain": [
       "<Figure size 432x288 with 1 Axes>"
      ]
     },
     "metadata": {},
     "output_type": "display_data"
    }
   ],
   "source": [
    "# Plot loss per iteration\n",
    "\n",
    "plt.plot(trainLosses, label='train loss')\n",
    "plt.plot(testLosses, label='test loss')\n",
    "plt.title('Auto-regressive model loss per iteration')\n",
    "plt.xlabel('epoch')\n",
    "plt.ylabel('loss (RMSE)')\n",
    "plt.legend()\n",
    "plt.show()"
   ]
  },
  {
   "cell_type": "code",
   "execution_count": 2554,
   "metadata": {},
   "outputs": [],
   "source": [
    "# Make predictions and get RMSE\n",
    "\n",
    "agPreds = []\n",
    "\n",
    "# last train input\n",
    "lastX = torch.from_numpy(np.array(XTrain[-1]).astype(np.float32))\n",
    "\n",
    "while len(agPreds) < len(yTest):\n",
    "    input_ = lastX.view(1, -1)\n",
    "    pred = agModel(input_)\n",
    "\n",
    "    agPreds.append(pred[0,0].item())\n",
    "\n",
    "    # next input\n",
    "    lastX = torch.cat((lastX[1:], pred[0]))"
   ]
  },
  {
   "cell_type": "code",
   "execution_count": 2555,
   "metadata": {},
   "outputs": [],
   "source": [
    "y_test = np.array(yTest).reshape(1, -1)[0]\n",
    "agRMSE = RMSE(y_test, agPreds)"
   ]
  },
  {
   "cell_type": "code",
   "execution_count": 2556,
   "metadata": {},
   "outputs": [
    {
     "data": {
      "text/plain": [
       "3.0081398487941824"
      ]
     },
     "execution_count": 2556,
     "metadata": {},
     "output_type": "execute_result"
    }
   ],
   "source": [
    "agRMSE"
   ]
  },
  {
   "cell_type": "code",
   "execution_count": 2557,
   "metadata": {},
   "outputs": [
    {
     "data": {
      "image/png": "[encoded data removed]",
      "text/plain": [
       "<Figure size 432x288 with 1 Axes>"
      ]
     },
     "metadata": {},
     "output_type": "display_data"
    }
   ],
   "source": [
    "# Plot actual and predicted values\n",
    "\n",
    "plt.plot(y_test, label='actual')\n",
    "plt.plot(agPreds, label='prediction')\n",
    "plt.title('Auto-reg prediction and actual values')\n",
    "plt.ylabel('occupant count')\n",
    "plt.xlabel('test instance')\n",
    "plt.legend();"
   ]
  },
  {
   "cell_type": "code",
   "execution_count": 2558,
   "metadata": {},
   "outputs": [],
   "source": [
    "# Experiment with \"wrong\" forecast using true targets\n",
    "\n",
    "preds_ = []\n",
    "i = 0 # index of first test input\n",
    "while len(preds_) < len(yTest):\n",
    "    input_ = XTest[i].view(1, -1)\n",
    "    pred_ = agModel(input_)[0,0].item()\n",
    "    i += 1\n",
    "\n",
    "    preds_.append(pred_)"
   ]
  },
  {
   "cell_type": "code",
   "execution_count": 2559,
   "metadata": {},
   "outputs": [
    {
     "data": {
      "text/plain": [
       "0.7424532670448717"
      ]
     },
     "execution_count": 2559,
     "metadata": {},
     "output_type": "execute_result"
    }
   ],
   "source": [
    "y_test = np.array(yTest).reshape(1, -1)[0]\n",
    "RMSE(y_test, preds_)"
   ]
  },
  {
   "cell_type": "code",
   "execution_count": 2560,
   "metadata": {},
   "outputs": [
    {
     "data": {
      "image/png": "[encoded data removed]",
      "text/plain": [
       "<Figure size 432x288 with 1 Axes>"
      ]
     },
     "metadata": {},
     "output_type": "display_data"
    }
   ],
   "source": [
    "plt.plot(y_test, label='target')\n",
    "plt.plot(preds_, label='prediction')\n",
    "plt.title('**WRONG FORECASTING**')\n",
    "plt.legend();"
   ]
  },
  {
   "cell_type": "code",
   "execution_count": 2561,
   "metadata": {},
   "outputs": [
    {
     "name": "stdout",
     "output_type": "stream",
     "text": [
      "weight Parameter containing:\n",
      "tensor([[-0.0574,  0.1160, -0.1021,  0.0780, -0.1016,  0.0548,  0.0229,  0.0122,\n",
      "         -0.0338,  0.0866,  0.2538,  0.6284]], requires_grad=True)\n",
      "bias Parameter containing:\n",
      "tensor([0.2086], requires_grad=True)\n"
     ]
    }
   ],
   "source": [
    "for name, param in agModel.named_parameters():\n",
    "    print(name, param)"
   ]
  },
  {
   "cell_type": "code",
   "execution_count": 2671,
   "metadata": {},
   "outputs": [
    {
     "name": "stdout",
     "output_type": "stream",
     "text": [
      "('weight', Parameter containing:\n",
      "tensor([[-0.0574,  0.1160, -0.1021,  0.0780, -0.1016,  0.0548,  0.0229,  0.0122,\n",
      "         -0.0338,  0.0866,  0.2538,  0.6284]], requires_grad=True))\n",
      "('bias', Parameter containing:\n",
      "tensor([0.2086], requires_grad=True))\n"
     ]
    }
   ],
   "source": [
    "# Get auto-regression model params\n",
    "\n",
    "for _ in agModel.named_parameters():\n",
    "    print(_)"
   ]
  },
  {
   "cell_type": "code",
   "execution_count": 2674,
   "metadata": {},
   "outputs": [
    {
     "data": {
      "text/plain": [
       "tensor([ 9.,  8.,  9.,  8.,  8., 11., 11., 12., 11., 13., 11., 12.])"
      ]
     },
     "execution_count": 2674,
     "metadata": {},
     "output_type": "execute_result"
    }
   ],
   "source": [
    "XTest[0]"
   ]
  },
  {
   "cell_type": "code",
   "execution_count": 2743,
   "metadata": {},
   "outputs": [],
   "source": [
    "# sanity check (match param weight with time for interpretation)\n",
    "\n",
    "agWeights = None\n",
    "agBias = None\n",
    "for _ in agModel.named_parameters():\n",
    "    if _[0] == 'weight':\n",
    "        agWeights = _[1][0]\n",
    "    else: \n",
    "        agBias = _[1][0]\n",
    "\n",
    "firstTestPred = torch.sum(agWeights*XTest[0])+agBias"
   ]
  },
  {
   "cell_type": "code",
   "execution_count": 2744,
   "metadata": {},
   "outputs": [
    {
     "data": {
      "text/plain": [
       "tensor(11.6002, grad_fn=<AddBackward0>)"
      ]
     },
     "execution_count": 2744,
     "metadata": {},
     "output_type": "execute_result"
    }
   ],
   "source": [
    "firstTestPred"
   ]
  },
  {
   "cell_type": "code",
   "execution_count": 2745,
   "metadata": {},
   "outputs": [
    {
     "data": {
      "text/plain": [
       "11.60018539428711"
      ]
     },
     "execution_count": 2745,
     "metadata": {},
     "output_type": "execute_result"
    }
   ],
   "source": [
    "preds_[0]"
   ]
  },
  {
   "cell_type": "markdown",
   "metadata": {},
   "source": [
    "#### <b>Recurrent neural network</b>"
   ]
  },
  {
   "cell_type": "code",
   "execution_count": 3440,
   "metadata": {},
   "outputs": [
    {
     "name": "stdout",
     "output_type": "stream",
     "text": [
      "cpu\n"
     ]
    }
   ],
   "source": [
    "# Set device GPU\n",
    "device = torch.device(\"cuda:0\" if torch.cuda.is_available() else \"cpu\")\n",
    "print(device)"
   ]
  },
  {
   "cell_type": "code",
   "execution_count": 3441,
   "metadata": {},
   "outputs": [
    {
     "data": {
      "text/plain": [
       "tensor([[ 1.,  2.,  4.,  ...,  3.,  2.,  2.],\n",
       "        [ 2.,  4.,  4.,  ...,  2.,  2.,  2.],\n",
       "        [ 4.,  4.,  7.,  ...,  2.,  2.,  2.],\n",
       "        ...,\n",
       "        [ 9.,  9.,  9.,  ..., 11., 12., 11.],\n",
       "        [ 9.,  9.,  9.,  ..., 12., 11., 13.],\n",
       "        [ 9.,  9.,  8.,  ..., 11., 13., 11.]])"
      ]
     },
     "execution_count": 3441,
     "metadata": {},
     "output_type": "execute_result"
    }
   ],
   "source": [
    "XTrain"
   ]
  },
  {
   "cell_type": "code",
   "execution_count": 3442,
   "metadata": {},
   "outputs": [
    {
     "name": "stdout",
     "output_type": "stream",
     "text": [
      "X shape (5747, 12, 1) Y shape (5747, 1)\n"
     ]
    }
   ],
   "source": [
    "# Build and reshape dataset\n",
    "\n",
    "T = 12\n",
    "X = []\n",
    "y = []\n",
    "for t in range(len(data)-T):\n",
    "    X.append(data[t:t+T])\n",
    "    y.append(data[t+T])\n",
    "\n",
    "X = np.array(X).reshape(-1, T, 1)\n",
    "y = np.array(y).reshape(-1, 1)\n",
    "N = len(X)\n",
    "print(\"X shape\", X.shape, \"Y shape\", y.shape)"
   ]
  },
  {
   "cell_type": "code",
   "execution_count": 3443,
   "metadata": {},
   "outputs": [],
   "source": [
    "# Define simple RNN\n",
    "\n",
    "class SimpleRNN(nn.Module):\n",
    "    def __init__(self, n_inputs, n_hidden, n_rnnLayers, n_outputs):\n",
    "        super(SimpleRNN, self).__init__()\n",
    "        self.D = n_inputs\n",
    "        self.M = n_hidden \n",
    "        self.K = n_outputs \n",
    "        self.L = n_rnnLayers \n",
    "\n",
    "        # Note: batch_first=True \n",
    "        # applies the convention that our data will be of shape:\n",
    "        # (num_samples, sequence_length, num_features)\n",
    "        # rather than:\n",
    "        # (sequence_length, num_samples, num_features)\n",
    "        self.rnn = nn.RNN(\n",
    "            input_size=self.D,\n",
    "            hidden_size=self.M,\n",
    "            num_layers=self.L,\n",
    "            nonlinearity='relu',\n",
    "            batch_first=True\n",
    "        )\n",
    "\n",
    "        # Dense layer\n",
    "        self.fc = nn.Linear(self.M, self.K)\n",
    "    \n",
    "    def forward(self, X):\n",
    "        # Initial hidden state \n",
    "        h0 = torch.zeros(self.L, X.size(0), self.M).to(device)\n",
    "\n",
    "        # Get RNN unit output\n",
    "        # out is of size (N, T, M)\n",
    "        # 2nd return val is hidden state at each hidden layer (no need now)\n",
    "        # 1st return val is hidden state at each time instance\n",
    "        out, _ = self.rnn(X, h0)\n",
    "\n",
    "        # We only want h(t) at the final time step\n",
    "        # N x M -> N x K\n",
    "        out = self.fc(out[:, -1, :])\n",
    "\n",
    "        return out\n",
    "    \n",
    "    def get_hidden(self, X):\n",
    "        # Initial hidden state \n",
    "        h0 = torch.zeros(self.L, X.size(0), self.M).to(device)\n",
    "\n",
    "        out, _ = self.rnn(X, h0)\n",
    "\n",
    "        return out"
   ]
  },
  {
   "cell_type": "code",
   "execution_count": 3444,
   "metadata": {},
   "outputs": [
    {
     "data": {
      "text/plain": [
       "SimpleRNN(\n",
       "  (rnn): RNN(1, 5, batch_first=True)\n",
       "  (fc): Linear(in_features=5, out_features=1, bias=True)\n",
       ")"
      ]
     },
     "execution_count": 3444,
     "metadata": {},
     "output_type": "execute_result"
    }
   ],
   "source": [
    "# Instantiate model\n",
    "\n",
    "rnnModel = SimpleRNN(n_inputs=1, n_hidden=5, n_rnnLayers=1, n_outputs=1)\n",
    "rnnModel.to(device)"
   ]
  },
  {
   "cell_type": "code",
   "execution_count": 3445,
   "metadata": {},
   "outputs": [],
   "source": [
    "# Loss and optimizer\n",
    "\n",
    "criterion = nn.MSELoss()\n",
    "optimizer = torch.optim.Adam(rnnModel.parameters(), lr=0.1)"
   ]
  },
  {
   "cell_type": "code",
   "execution_count": 3446,
   "metadata": {},
   "outputs": [],
   "source": [
    "# Make inputs and targets\n",
    "\n",
    "threshold = int(len(X)*0.5)\n",
    "X_train = torch.from_numpy(X[:threshold].astype(np.float32))\n",
    "y_train = torch.from_numpy(y[:threshold].astype(np.float32))\n",
    "X_test = torch.from_numpy(X[threshold:].astype(np.float32))\n",
    "y_test = torch.from_numpy(y[threshold:].astype(np.float32))"
   ]
  },
  {
   "cell_type": "code",
   "execution_count": 3447,
   "metadata": {},
   "outputs": [],
   "source": [
    "# Move data to device\n",
    "\n",
    "X_train, y_train = X_train.to(device), y_train.to(device)\n",
    "X_test, y_test = X_test.to(device), y_test.to(device)"
   ]
  },
  {
   "cell_type": "code",
   "execution_count": 3448,
   "metadata": {},
   "outputs": [
    {
     "data": {
      "text/plain": [
       "(torch.Size([2873, 12, 1]),\n",
       " torch.Size([2873, 1]),\n",
       " torch.Size([2874, 12, 1]),\n",
       " torch.Size([2874, 1]))"
      ]
     },
     "execution_count": 3448,
     "metadata": {},
     "output_type": "execute_result"
    }
   ],
   "source": [
    "# sanity check\n",
    "\n",
    "X_train.shape, y_train.shape, X_test.shape, y_test.shape"
   ]
  },
  {
   "cell_type": "code",
   "execution_count": 3449,
   "metadata": {},
   "outputs": [],
   "source": [
    "# Training\n",
    "\n",
    "def rnnGradientDescent(model,\n",
    "                       criterion,\n",
    "                       optimizer,\n",
    "                       X_train,\n",
    "                       y_train,\n",
    "                       X_test,\n",
    "                       y_test,\n",
    "                       epochs=200):\n",
    "\n",
    "    train_losses = np.zeros(epochs)\n",
    "    test_losses = np.zeros(epochs)\n",
    "\n",
    "    for ite in range(epochs):\n",
    "        # zero the parameter gradients\n",
    "        optimizer.zero_grad()\n",
    "\n",
    "        # forward pass\n",
    "        outputs = model(X_train)\n",
    "        loss = torch.sqrt(criterion(outputs, y_train))\n",
    "\n",
    "        # backward and optimize\n",
    "        loss.backward()\n",
    "        optimizer.step()\n",
    "\n",
    "        # save loss\n",
    "        train_losses[ite] = loss.item()\n",
    "\n",
    "        # test loss\n",
    "        test_outputs = model(X_test)\n",
    "        test_loss = torch.sqrt(criterion(test_outputs, y_test))\n",
    "        test_losses[ite] = test_loss.item()\n",
    "\n",
    "        if (ite + 1) % 5 == 0:\n",
    "            print(f'Epoch {ite+1}/{epochs}, Train Loss: {loss.item():.4f}, Test Loss: {test_loss.item():.4f}')\n",
    "        \n",
    "    return train_losses, test_losses"
   ]
  },
  {
   "cell_type": "code",
   "execution_count": 3450,
   "metadata": {},
   "outputs": [
    {
     "name": "stdout",
     "output_type": "stream",
     "text": [
      "Epoch 5/200, Train Loss: 1.5001, Test Loss: 1.8810\n",
      "Epoch 10/200, Train Loss: 1.4008, Test Loss: 1.0446\n",
      "Epoch 15/200, Train Loss: 1.0994, Test Loss: 0.9549\n",
      "Epoch 20/200, Train Loss: 1.0778, Test Loss: 0.9109\n",
      "Epoch 25/200, Train Loss: 1.0615, Test Loss: 0.7597\n",
      "Epoch 30/200, Train Loss: 1.0085, Test Loss: 0.7449\n",
      "Epoch 35/200, Train Loss: 1.0091, Test Loss: 0.7585\n",
      "Epoch 40/200, Train Loss: 1.0043, Test Loss: 0.7313\n"
     ]
    },
    {
     "name": "stdout",
     "output_type": "stream",
     "text": [
      "Epoch 45/200, Train Loss: 0.9789, Test Loss: 0.7317\n",
      "Epoch 50/200, Train Loss: 0.9790, Test Loss: 0.7308\n",
      "Epoch 55/200, Train Loss: 0.9723, Test Loss: 0.7353\n",
      "Epoch 60/200, Train Loss: 0.9669, Test Loss: 0.7271\n",
      "Epoch 65/200, Train Loss: 0.9655, Test Loss: 0.7213\n",
      "Epoch 70/200, Train Loss: 0.9651, Test Loss: 0.7202\n",
      "Epoch 75/200, Train Loss: 0.9643, Test Loss: 0.7210\n",
      "Epoch 80/200, Train Loss: 0.9638, Test Loss: 0.7225\n",
      "Epoch 85/200, Train Loss: 0.9637, Test Loss: 0.7229\n",
      "Epoch 90/200, Train Loss: 0.9635, Test Loss: 0.7216\n",
      "Epoch 95/200, Train Loss: 0.9633, Test Loss: 0.7204\n",
      "Epoch 100/200, Train Loss: 0.9632, Test Loss: 0.7200\n",
      "Epoch 105/200, Train Loss: 0.9631, Test Loss: 0.7203\n",
      "Epoch 110/200, Train Loss: 0.9631, Test Loss: 0.7207\n",
      "Epoch 115/200, Train Loss: 0.9630, Test Loss: 0.7207\n",
      "Epoch 120/200, Train Loss: 0.9630, Test Loss: 0.7204\n",
      "Epoch 125/200, Train Loss: 0.9630, Test Loss: 0.7202\n",
      "Epoch 130/200, Train Loss: 0.9630, Test Loss: 0.7204\n",
      "Epoch 135/200, Train Loss: 0.9630, Test Loss: 0.7206\n",
      "Epoch 140/200, Train Loss: 0.9630, Test Loss: 0.7205\n",
      "Epoch 145/200, Train Loss: 0.9630, Test Loss: 0.7205\n",
      "Epoch 150/200, Train Loss: 0.9630, Test Loss: 0.7205\n",
      "Epoch 155/200, Train Loss: 0.9630, Test Loss: 0.7205\n",
      "Epoch 160/200, Train Loss: 0.9630, Test Loss: 0.7205\n",
      "Epoch 165/200, Train Loss: 0.9630, Test Loss: 0.7205\n",
      "Epoch 170/200, Train Loss: 0.9630, Test Loss: 0.7205\n",
      "Epoch 175/200, Train Loss: 0.9630, Test Loss: 0.7205\n",
      "Epoch 180/200, Train Loss: 0.9630, Test Loss: 0.7205\n",
      "Epoch 185/200, Train Loss: 0.9630, Test Loss: 0.7205\n",
      "Epoch 190/200, Train Loss: 0.9630, Test Loss: 0.7205\n",
      "Epoch 195/200, Train Loss: 0.9630, Test Loss: 0.7205\n",
      "Epoch 200/200, Train Loss: 0.9630, Test Loss: 0.7205\n"
     ]
    }
   ],
   "source": [
    "train_losses, test_losses = rnnGradientDescent(rnnModel,\n",
    "                                               criterion,\n",
    "                                               optimizer,\n",
    "                                               X_train,\n",
    "                                               y_train,\n",
    "                                               X_test,\n",
    "                                               y_test)"
   ]
  },
  {
   "cell_type": "code",
   "execution_count": 3451,
   "metadata": {},
   "outputs": [
    {
     "data": {
      "image/png": "[encoded data removed]",
      "text/plain": [
       "<Figure size 432x288 with 1 Axes>"
      ]
     },
     "metadata": {},
     "output_type": "display_data"
    }
   ],
   "source": [
    "# Plot loss per iteration\n",
    "\n",
    "plt.plot(train_losses, label='train loss')\n",
    "plt.plot(test_losses, label='test loss')\n",
    "plt.title('Recurrent Neural Nets model loss per iteration')\n",
    "plt.xlabel('epoch')\n",
    "plt.ylabel('loss (RMSE)')\n",
    "plt.legend()\n",
    "plt.show()"
   ]
  },
  {
   "cell_type": "code",
   "execution_count": 3452,
   "metadata": {},
   "outputs": [],
   "source": [
    "# Make predictions and get RMSE\n",
    "\n",
    "rnnPreds = []\n",
    "\n",
    "# last train input\n",
    "lastX = X_test[0].view(T)\n",
    "\n",
    "while len(rnnPreds) < len(y_test):\n",
    "    input_ = lastX.view(1, T, 1)\n",
    "    pred = rnnModel(input_)\n",
    "\n",
    "    rnnPreds.append(pred[0,0].item())\n",
    "\n",
    "    # next input\n",
    "    lastX = torch.cat((lastX[1:], pred[0]))"
   ]
  },
  {
   "cell_type": "code",
   "execution_count": 3453,
   "metadata": {},
   "outputs": [],
   "source": [
    "y_test = np.array(y_test).reshape(1, -1)[0]\n",
    "rnnRMSE = RMSE(y_test, rnnPreds)"
   ]
  },
  {
   "cell_type": "code",
   "execution_count": 3454,
   "metadata": {},
   "outputs": [
    {
     "data": {
      "text/plain": [
       "3.0083512454717454"
      ]
     },
     "execution_count": 3454,
     "metadata": {},
     "output_type": "execute_result"
    }
   ],
   "source": [
    "rnnRMSE"
   ]
  },
  {
   "cell_type": "code",
   "execution_count": 3455,
   "metadata": {},
   "outputs": [
    {
     "data": {
      "image/png": "[encoded data removed]",
      "text/plain": [
       "<Figure size 432x288 with 1 Axes>"
      ]
     },
     "metadata": {},
     "output_type": "display_data"
    }
   ],
   "source": [
    "# Plot actual and predicted values\n",
    "\n",
    "plt.plot(y_test, label='actual')\n",
    "plt.plot(rnnPreds, label='prediction')\n",
    "plt.title('Recurrent Neural Nets prediction and actual values')\n",
    "plt.ylabel('occupant count')\n",
    "plt.xlabel('test instance')\n",
    "plt.legend();"
   ]
  },
  {
   "cell_type": "code",
   "execution_count": 3456,
   "metadata": {},
   "outputs": [
    {
     "name": "stdout",
     "output_type": "stream",
     "text": [
      "Parameter containing:\n",
      "tensor([[ 0.9194],\n",
      "        [-0.2277],\n",
      "        [ 0.4249],\n",
      "        [-0.3714],\n",
      "        [-0.6009]], requires_grad=True)\n",
      "Parameter containing:\n",
      "tensor([[-0.1843,  0.0819, -0.1114,  0.9942,  0.1622],\n",
      "        [-0.3677,  0.0763, -0.2335,  0.1125,  0.2229],\n",
      "        [ 0.2756,  0.2017,  0.4176,  0.3320,  0.3392],\n",
      "        [-0.7259,  0.1788, -0.3653, -0.4653, -0.3939],\n",
      "        [-0.5700,  0.1325, -1.0081, -0.4150, -0.6631]], requires_grad=True)\n",
      "Parameter containing:\n",
      "tensor([ 0.1960,  0.3518, -0.1551, -0.9538, -0.6351], requires_grad=True)\n",
      "Parameter containing:\n",
      "tensor([ 0.2176, -0.2857, -0.3849, -0.8217, -0.4359], requires_grad=True)\n"
     ]
    }
   ],
   "source": [
    "# Get RNN model params\n",
    "\n",
    "for _ in rnnModel.rnn.parameters():\n",
    "    print(_)"
   ]
  },
  {
   "cell_type": "code",
   "execution_count": 3457,
   "metadata": {},
   "outputs": [],
   "source": [
    "W_xh, W_hh, b_xh, b_hh = rnnModel.rnn.parameters()\n",
    "\n",
    "W_xh = W_xh.data.numpy()\n",
    "W_hh = W_hh.data.numpy()\n",
    "b_xh = b_xh.data.numpy()\n",
    "b_hh = b_hh.data.numpy()"
   ]
  },
  {
   "cell_type": "code",
   "execution_count": 3458,
   "metadata": {},
   "outputs": [
    {
     "data": {
      "text/plain": [
       "((5, 1), (5,), (5, 5), (5,))"
      ]
     },
     "execution_count": 3458,
     "metadata": {},
     "output_type": "execute_result"
    }
   ],
   "source": [
    "W_xh.shape, b_xh.shape, W_hh.shape, b_hh.shape"
   ]
  },
  {
   "cell_type": "code",
   "execution_count": 3459,
   "metadata": {},
   "outputs": [],
   "source": [
    "Wo, bo = rnnModel.fc.parameters()"
   ]
  },
  {
   "cell_type": "code",
   "execution_count": 3460,
   "metadata": {},
   "outputs": [
    {
     "data": {
      "text/plain": [
       "((1, 5), (1,))"
      ]
     },
     "execution_count": 3460,
     "metadata": {},
     "output_type": "execute_result"
    }
   ],
   "source": [
    "Wo = Wo.data.numpy()\n",
    "bo = bo.data.numpy()\n",
    "Wo.shape, bo.shape     "
   ]
  },
  {
   "cell_type": "code",
   "execution_count": 3481,
   "metadata": {},
   "outputs": [
    {
     "name": "stdout",
     "output_type": "stream",
     "text": [
      "[[ 7.4111107 ]\n",
      " [ 7.32631089]\n",
      " [ 8.52708425]\n",
      " [ 7.91191162]\n",
      " [ 7.92273531]\n",
      " [10.27465969]\n",
      " [10.52750674]\n",
      " [11.48793181]\n",
      " [10.83229757]\n",
      " [12.40779987]\n",
      " [10.96222246]\n",
      " [11.68805247]]\n"
     ]
    }
   ],
   "source": [
    "# sanity check\n",
    "\n",
    "# hidden = 0\n",
    "# for _ in rnnModel.named_parameters():\n",
    "#     if 'rnn.weight_ih' in _[0]:\n",
    "#         hidden += _[1][0]*X_test[0]\n",
    "#     elif 'rnn.weight_hh' in _[0]:\n",
    "#         prev_hidden = rnnModel.get_hidden(X_train[-1].view(1, T, 1))\n",
    "#         hidden = hidden + _[1][0]*prev_hidden\n",
    "#     elif 'rnn.bias' in _[0]:\n",
    "#         hidden += _[1][0]\n",
    "#     elif 'fc.weight' in _[0]:\n",
    "#         prediction = _[1][0]*hidden[:, -1, :]\n",
    "#     else:\n",
    "#         prediction += _[1][0]\n",
    "\n",
    "h_last = np.zeros(5) \n",
    "x = X[threshold].reshape(T, -1) # X_test[0].data.numpy()\n",
    "Yhats = np.zeros((T, 1))\n",
    "\n",
    "for t in range(T):\n",
    "    h = x[t].dot(W_xh.T) + b_xh + h_last.dot(W_hh.T) + b_hh\n",
    "    h = np.array([_ if _ > 0 else 0 for _ in h]) # ReLU \n",
    "    y = h.dot(Wo.T) + bo  # we only care about this value on last iteration\n",
    "    Yhats[t] = y\n",
    "    h_last = h\n",
    "    \n",
    "print(Yhats) "
   ]
  },
  {
   "cell_type": "code",
   "execution_count": 3482,
   "metadata": {},
   "outputs": [
    {
     "data": {
      "text/plain": [
       "tensor([[11.6881],\n",
       "        [11.6917],\n",
       "        [11.7261],\n",
       "        ...,\n",
       "        [ 2.1085],\n",
       "        [ 2.1088],\n",
       "        [ 2.1089]], grad_fn=<AddmmBackward0>)"
      ]
     },
     "execution_count": 3482,
     "metadata": {},
     "output_type": "execute_result"
    }
   ],
   "source": [
    "# Get model output \n",
    "\n",
    "inputs = torch.from_numpy(X[threshold:].astype(np.float32))\n",
    "out = rnnModel(inputs)\n",
    "out"
   ]
  },
  {
   "cell_type": "code",
   "execution_count": 3483,
   "metadata": {},
   "outputs": [],
   "source": [
    "Yhats_torch = out.detach().numpy()"
   ]
  },
  {
   "cell_type": "code",
   "execution_count": 3489,
   "metadata": {},
   "outputs": [
    {
     "data": {
      "text/plain": [
       "True"
      ]
     },
     "execution_count": 3489,
     "metadata": {},
     "output_type": "execute_result"
    }
   ],
   "source": [
    "# Check\n",
    "\n",
    "np.allclose(Yhats[-1], Yhats_torch[0][0])"
   ]
  },
  {
   "cell_type": "markdown",
   "metadata": {},
   "source": [
    "--> Our calculation of the prediction for the first test instance indeed\n",
    " matches the model's output \n",
    " - Yhats[-1] == Yhats_torch[0][0]"
   ]
  },
  {
   "cell_type": "code",
   "execution_count": null,
   "metadata": {},
   "outputs": [],
   "source": []
  }
 ],
 "metadata": {
  "kernelspec": {
   "display_name": "Python 3",
   "language": "python",
   "name": "python3"
  },
  "language_info": {
   "codemirror_mode": {
    "name": "ipython",
    "version": 3
   },
   "file_extension": ".py",
   "mimetype": "text/x-python",
   "name": "python",
   "nbconvert_exporter": "python",
   "pygments_lexer": "ipython3",
   "version": "3.9.2"
  }
 },
 "nbformat": 4,
 "nbformat_minor": 2
}
