{
 "cells": [
  {
   "cell_type": "code",
   "execution_count": 182,
   "metadata": {},
   "outputs": [],
   "source": [
    "import pandas as pd\n",
    "import numpy as np \n",
    "import math\n",
    "from matplotlib import pyplot as plt, patches\n",
    "import matplotlib as mpl\n",
    "import seaborn as sns\n",
    "from sklearn import linear_model\n",
    "from collections import defaultdict"
   ]
  },
  {
   "cell_type": "code",
   "execution_count": 10,
   "metadata": {},
   "outputs": [
    {
     "data": {
      "text/html": [
       "<div>\n",
       "<style scoped>\n",
       "    .dataframe tbody tr th:only-of-type {\n",
       "        vertical-align: middle;\n",
       "    }\n",
       "\n",
       "    .dataframe tbody tr th {\n",
       "        vertical-align: top;\n",
       "    }\n",
       "\n",
       "    .dataframe thead th {\n",
       "        text-align: right;\n",
       "    }\n",
       "</style>\n",
       "<table border=\"1\" class=\"dataframe\">\n",
       "  <thead>\n",
       "    <tr style=\"text-align: right;\">\n",
       "      <th></th>\n",
       "      <th>timestamp</th>\n",
       "      <th>indoor_co2 [ppm]</th>\n",
       "      <th>wifi_connected_devices [number]</th>\n",
       "      <th>occupant_count [number]</th>\n",
       "      <th>0</th>\n",
       "      <th>1</th>\n",
       "      <th>2</th>\n",
       "      <th>3</th>\n",
       "      <th>hour_sin</th>\n",
       "      <th>hour_cos</th>\n",
       "    </tr>\n",
       "  </thead>\n",
       "  <tbody>\n",
       "    <tr>\n",
       "      <th>0</th>\n",
       "      <td>2021-09-07 08:50:00+08:00</td>\n",
       "      <td>480.066681</td>\n",
       "      <td>4</td>\n",
       "      <td>1</td>\n",
       "      <td>0.227173</td>\n",
       "      <td>0.953840</td>\n",
       "      <td>0.542007</td>\n",
       "      <td>0.041682</td>\n",
       "      <td>0.866025</td>\n",
       "      <td>-0.500000</td>\n",
       "    </tr>\n",
       "    <tr>\n",
       "      <th>1</th>\n",
       "      <td>2021-09-07 08:55:00+08:00</td>\n",
       "      <td>481.166656</td>\n",
       "      <td>6</td>\n",
       "      <td>2</td>\n",
       "      <td>0.227173</td>\n",
       "      <td>0.953840</td>\n",
       "      <td>0.542007</td>\n",
       "      <td>0.041682</td>\n",
       "      <td>0.866025</td>\n",
       "      <td>-0.500000</td>\n",
       "    </tr>\n",
       "    <tr>\n",
       "      <th>2</th>\n",
       "      <td>2021-09-07 09:00:00+08:00</td>\n",
       "      <td>477.533325</td>\n",
       "      <td>7</td>\n",
       "      <td>4</td>\n",
       "      <td>0.144319</td>\n",
       "      <td>0.858028</td>\n",
       "      <td>0.690382</td>\n",
       "      <td>0.075178</td>\n",
       "      <td>0.707107</td>\n",
       "      <td>-0.707107</td>\n",
       "    </tr>\n",
       "    <tr>\n",
       "      <th>3</th>\n",
       "      <td>2021-09-07 09:05:00+08:00</td>\n",
       "      <td>474.233337</td>\n",
       "      <td>6</td>\n",
       "      <td>4</td>\n",
       "      <td>0.144319</td>\n",
       "      <td>0.858028</td>\n",
       "      <td>0.690382</td>\n",
       "      <td>0.075178</td>\n",
       "      <td>0.707107</td>\n",
       "      <td>-0.707107</td>\n",
       "    </tr>\n",
       "    <tr>\n",
       "      <th>4</th>\n",
       "      <td>2021-09-07 09:10:00+08:00</td>\n",
       "      <td>477.866669</td>\n",
       "      <td>9</td>\n",
       "      <td>7</td>\n",
       "      <td>0.144319</td>\n",
       "      <td>0.858028</td>\n",
       "      <td>0.690382</td>\n",
       "      <td>0.075178</td>\n",
       "      <td>0.707107</td>\n",
       "      <td>-0.707107</td>\n",
       "    </tr>\n",
       "  </tbody>\n",
       "</table>\n",
       "</div>"
      ],
      "text/plain": [
       "                  timestamp  indoor_co2 [ppm]  \\\n",
       "0 2021-09-07 08:50:00+08:00        480.066681   \n",
       "1 2021-09-07 08:55:00+08:00        481.166656   \n",
       "2 2021-09-07 09:00:00+08:00        477.533325   \n",
       "3 2021-09-07 09:05:00+08:00        474.233337   \n",
       "4 2021-09-07 09:10:00+08:00        477.866669   \n",
       "\n",
       "   wifi_connected_devices [number]  occupant_count [number]         0  \\\n",
       "0                                4                        1  0.227173   \n",
       "1                                6                        2  0.227173   \n",
       "2                                7                        4  0.144319   \n",
       "3                                6                        4  0.144319   \n",
       "4                                9                        7  0.144319   \n",
       "\n",
       "          1         2         3  hour_sin  hour_cos  \n",
       "0  0.953840  0.542007  0.041682  0.866025 -0.500000  \n",
       "1  0.953840  0.542007  0.041682  0.866025 -0.500000  \n",
       "2  0.858028  0.690382  0.075178  0.707107 -0.707107  \n",
       "3  0.858028  0.690382  0.075178  0.707107 -0.707107  \n",
       "4  0.858028  0.690382  0.075178  0.707107 -0.707107  "
      ]
     },
     "execution_count": 10,
     "metadata": {},
     "output_type": "execute_result"
    }
   ],
   "source": [
    "# Importing preprocessed dataset\n",
    "\n",
    "df = pd.read_csv('data/dfFinal.csv')\n",
    "df.timestamp = pd.to_datetime(df.timestamp)\n",
    "df.head()"
   ]
  },
  {
   "cell_type": "code",
   "execution_count": 19,
   "metadata": {},
   "outputs": [],
   "source": [
    "# Create an index for every hour value for one-hot encoding\n",
    "\n",
    "hours = [t.hour for t in df.timestamp]\n",
    "hoursIdx = dict(zip(list(set(hours))[:-1], range(len(set(hours))-1)))"
   ]
  },
  {
   "cell_type": "code",
   "execution_count": 20,
   "metadata": {},
   "outputs": [
    {
     "data": {
      "text/plain": [
       "{8: 0,\n",
       " 9: 1,\n",
       " 10: 2,\n",
       " 11: 3,\n",
       " 12: 4,\n",
       " 13: 5,\n",
       " 14: 6,\n",
       " 15: 7,\n",
       " 16: 8,\n",
       " 17: 9,\n",
       " 18: 10,\n",
       " 19: 11,\n",
       " 20: 12}"
      ]
     },
     "execution_count": 20,
     "metadata": {},
     "output_type": "execute_result"
    }
   ],
   "source": [
    "hoursIdx"
   ]
  },
  {
   "cell_type": "code",
   "execution_count": 40,
   "metadata": {},
   "outputs": [],
   "source": [
    "# Calculate means and standard deviations to standardize attributes\n",
    "\n",
    "indoorCO2Mean = np.mean(df['indoor_co2 [ppm]'])\n",
    "indoorCO2Std = np.std(df['indoor_co2 [ppm]'])\n",
    "\n",
    "wifiDevicesMean = np.mean(df['wifi_connected_devices [number]'])\n",
    "wifiDevicesStd = np.std(df['wifi_connected_devices [number]'])"
   ]
  },
  {
   "cell_type": "code",
   "execution_count": 230,
   "metadata": {},
   "outputs": [],
   "source": [
    "X = []\n",
    "y = []\n",
    "\n",
    "def feat(row, hourEncoding):\n",
    "\n",
    "    if hourEncoding == 'one-hot':\n",
    "        # One-hot encode\n",
    "        hourEncode = [0]*13 \n",
    "        hour = row['timestamp'].hour\n",
    "        if hour in hoursIdx.keys():\n",
    "            hourEncode[hoursIdx[hour]] = 1\n",
    "    elif hourEncoding == 'sin/cos':\n",
    "        hourEncode = [row['hour_sin'], row['hour_cos']]\n",
    "    else:\n",
    "        hourEncode = [row['0'], row['1'], row['2'], row['3']]\n",
    "    \n",
    "    # Standardization\n",
    "    indoorCO2, wifiDevices = row['indoor_co2 [ppm]'], row['wifi_connected_devices [number]']\n",
    "    indoorCO2 = (indoorCO2-indoorCO2Mean) / indoorCO2Std\n",
    "    wifiDevices = (wifiDevices-wifiDevicesMean) / wifiDevicesStd\n",
    "\n",
    "    X.append([1]+hourEncode+[indoorCO2]+[wifiDevices])\n",
    "    y.append(row['occupant_count [number]'])\n",
    "\n",
    "    return None\n",
    "\n",
    "def RMSE(actuals, preds):\n",
    "    sqrdErrors = [(p[0]-p[1])**2 for p in zip(actuals, preds)]\n",
    "    return np.sqrt(sum(sqrdErrors) / len(sqrdErrors))\n"
   ]
  },
  {
   "cell_type": "code",
   "execution_count": 186,
   "metadata": {},
   "outputs": [],
   "source": [
    "df.apply(feat, hourEncoding='one-hot', axis=1);"
   ]
  },
  {
   "cell_type": "code",
   "execution_count": 187,
   "metadata": {},
   "outputs": [
    {
     "data": {
      "text/plain": [
       "True"
      ]
     },
     "execution_count": 187,
     "metadata": {},
     "output_type": "execute_result"
    }
   ],
   "source": [
    "# sanity check\n",
    "\n",
    "len(X) == len(y)"
   ]
  },
  {
   "cell_type": "code",
   "execution_count": 294,
   "metadata": {},
   "outputs": [],
   "source": [
    "# variable to store all models' performance\n",
    "\n",
    "lrPerformance = defaultdict(float)\n",
    "lrTrainPerformance = defaultdict(float)"
   ]
  },
  {
   "cell_type": "code",
   "execution_count": 189,
   "metadata": {},
   "outputs": [],
   "source": [
    "# Train / test split\n",
    "\n",
    "threshold = int(len(X)*0.75)\n",
    "\n",
    "XTrain = X[:threshold]\n",
    "XTest = X[threshold:]\n",
    "yTrain = y[:threshold]\n",
    "yTest = y[threshold:]"
   ]
  },
  {
   "cell_type": "code",
   "execution_count": 190,
   "metadata": {},
   "outputs": [
    {
     "name": "stdout",
     "output_type": "stream",
     "text": [
      "True\n",
      "True\n"
     ]
    }
   ],
   "source": [
    "# sanity check\n",
    "\n",
    "print(len(XTrain) + len(XTest) == len(X))\n",
    "print(len(yTrain) + len(yTest) == len(y))"
   ]
  },
  {
   "cell_type": "markdown",
   "metadata": {},
   "source": [
    "#### <b>Linear Regression</b> - stand alone ex. with one-hot encoding (sin/cos and RBF transformations done in a loop)"
   ]
  },
  {
   "cell_type": "code",
   "execution_count": 269,
   "metadata": {},
   "outputs": [
    {
     "data": {
      "text/html": [
       "<style>#sk-container-id-6 {color: black;background-color: white;}#sk-container-id-6 pre{padding: 0;}#sk-container-id-6 div.sk-toggleable {background-color: white;}#sk-container-id-6 label.sk-toggleable__label {cursor: pointer;display: block;width: 100%;margin-bottom: 0;padding: 0.3em;box-sizing: border-box;text-align: center;}#sk-container-id-6 label.sk-toggleable__label-arrow:before {content: \"▸\";float: left;margin-right: 0.25em;color: #696969;}#sk-container-id-6 label.sk-toggleable__label-arrow:hover:before {color: black;}#sk-container-id-6 div.sk-estimator:hover label.sk-toggleable__label-arrow:before {color: black;}#sk-container-id-6 div.sk-toggleable__content {max-height: 0;max-width: 0;overflow: hidden;text-align: left;background-color: #f0f8ff;}#sk-container-id-6 div.sk-toggleable__content pre {margin: 0.2em;color: black;border-radius: 0.25em;background-color: #f0f8ff;}#sk-container-id-6 input.sk-toggleable__control:checked~div.sk-toggleable__content {max-height: 200px;max-width: 100%;overflow: auto;}#sk-container-id-6 input.sk-toggleable__control:checked~label.sk-toggleable__label-arrow:before {content: \"▾\";}#sk-container-id-6 div.sk-estimator input.sk-toggleable__control:checked~label.sk-toggleable__label {background-color: #d4ebff;}#sk-container-id-6 div.sk-label input.sk-toggleable__control:checked~label.sk-toggleable__label {background-color: #d4ebff;}#sk-container-id-6 input.sk-hidden--visually {border: 0;clip: rect(1px 1px 1px 1px);clip: rect(1px, 1px, 1px, 1px);height: 1px;margin: -1px;overflow: hidden;padding: 0;position: absolute;width: 1px;}#sk-container-id-6 div.sk-estimator {font-family: monospace;background-color: #f0f8ff;border: 1px dotted black;border-radius: 0.25em;box-sizing: border-box;margin-bottom: 0.5em;}#sk-container-id-6 div.sk-estimator:hover {background-color: #d4ebff;}#sk-container-id-6 div.sk-parallel-item::after {content: \"\";width: 100%;border-bottom: 1px solid gray;flex-grow: 1;}#sk-container-id-6 div.sk-label:hover label.sk-toggleable__label {background-color: #d4ebff;}#sk-container-id-6 div.sk-serial::before {content: \"\";position: absolute;border-left: 1px solid gray;box-sizing: border-box;top: 0;bottom: 0;left: 50%;z-index: 0;}#sk-container-id-6 div.sk-serial {display: flex;flex-direction: column;align-items: center;background-color: white;padding-right: 0.2em;padding-left: 0.2em;position: relative;}#sk-container-id-6 div.sk-item {position: relative;z-index: 1;}#sk-container-id-6 div.sk-parallel {display: flex;align-items: stretch;justify-content: center;background-color: white;position: relative;}#sk-container-id-6 div.sk-item::before, #sk-container-id-6 div.sk-parallel-item::before {content: \"\";position: absolute;border-left: 1px solid gray;box-sizing: border-box;top: 0;bottom: 0;left: 50%;z-index: -1;}#sk-container-id-6 div.sk-parallel-item {display: flex;flex-direction: column;z-index: 1;position: relative;background-color: white;}#sk-container-id-6 div.sk-parallel-item:first-child::after {align-self: flex-end;width: 50%;}#sk-container-id-6 div.sk-parallel-item:last-child::after {align-self: flex-start;width: 50%;}#sk-container-id-6 div.sk-parallel-item:only-child::after {width: 0;}#sk-container-id-6 div.sk-dashed-wrapped {border: 1px dashed gray;margin: 0 0.4em 0.5em 0.4em;box-sizing: border-box;padding-bottom: 0.4em;background-color: white;}#sk-container-id-6 div.sk-label label {font-family: monospace;font-weight: bold;display: inline-block;line-height: 1.2em;}#sk-container-id-6 div.sk-label-container {text-align: center;}#sk-container-id-6 div.sk-container {/* jupyter's `normalize.less` sets `[hidden] { display: none; }` but bootstrap.min.css set `[hidden] { display: none !important; }` so we also need the `!important` here to be able to override the default hidden behavior on the sphinx rendered scikit-learn.org. See: https://github.com/scikit-learn/scikit-learn/issues/21755 */display: inline-block !important;position: relative;}#sk-container-id-6 div.sk-text-repr-fallback {display: none;}</style><div id=\"sk-container-id-6\" class=\"sk-top-container\"><div class=\"sk-text-repr-fallback\"><pre>LinearRegression(fit_intercept=False)</pre><b>In a Jupyter environment, please rerun this cell to show the HTML representation or trust the notebook. <br />On GitHub, the HTML representation is unable to render, please try loading this page with nbviewer.org.</b></div><div class=\"sk-container\" hidden><div class=\"sk-item\"><div class=\"sk-estimator sk-toggleable\"><input class=\"sk-toggleable__control sk-hidden--visually\" id=\"sk-estimator-id-6\" type=\"checkbox\" checked><label for=\"sk-estimator-id-6\" class=\"sk-toggleable__label sk-toggleable__label-arrow\">LinearRegression</label><div class=\"sk-toggleable__content\"><pre>LinearRegression(fit_intercept=False)</pre></div></div></div></div></div>"
      ],
      "text/plain": [
       "LinearRegression(fit_intercept=False)"
      ]
     },
     "execution_count": 269,
     "metadata": {},
     "output_type": "execute_result"
    }
   ],
   "source": [
    "# Model initiation and fit\n",
    "\n",
    "lrModel = linear_model.LinearRegression(fit_intercept=False)\n",
    "lrModel.fit(XTrain, yTrain)"
   ]
  },
  {
   "cell_type": "code",
   "execution_count": 270,
   "metadata": {},
   "outputs": [
    {
     "data": {
      "text/plain": [
       "2.2266253252047497"
      ]
     },
     "execution_count": 270,
     "metadata": {},
     "output_type": "execute_result"
    }
   ],
   "source": [
    "# Make predictions and get RMSE\n",
    "\n",
    "preds = lrModel.predict(XTest)\n",
    "lrRMSE = RMSE(yTest, preds)\n",
    "lrRMSE"
   ]
  },
  {
   "cell_type": "code",
   "execution_count": 271,
   "metadata": {},
   "outputs": [
    {
     "data": {
      "text/plain": [
       "array([-124.02729455,   68.55032542,   70.57850723,   73.96893252,\n",
       "         74.02193929,    0.6221681 ,    0.9940373 ])"
      ]
     },
     "execution_count": 271,
     "metadata": {},
     "output_type": "execute_result"
    }
   ],
   "source": [
    "# Get model specs\n",
    "\n",
    "lrModel.coef_"
   ]
  },
  {
   "cell_type": "code",
   "execution_count": 272,
   "metadata": {},
   "outputs": [
    {
     "data": {
      "image/png": "[encoded data removed]",
      "text/plain": [
       "<Figure size 432x288 with 1 Axes>"
      ]
     },
     "metadata": {},
     "output_type": "display_data"
    }
   ],
   "source": [
    "mpl.style.use('seaborn-whitegrid')\n",
    "sns.lineplot(x=hours, y=df['occupant_count [number]'])\n",
    "plt.title('Distribution of occupant count across hour of day')\n",
    "ax = plt.gca()\n",
    "ax.add_patch(patches.Rectangle((13.3, 5.4), 3.1, 0.7, edgecolor='orange', \\\n",
    "    facecolor='none', linewidth=2))\n",
    "plt.ylabel('occupant count')\n",
    "plt.xlabel('hour of day')\n",
    "plt.show();"
   ]
  },
  {
   "cell_type": "code",
   "execution_count": 273,
   "metadata": {},
   "outputs": [
    {
     "name": "stdout",
     "output_type": "stream",
     "text": [
      "[[1.        0.4428711]\n",
      " [0.4428711 1.       ]]\n"
     ]
    },
    {
     "data": {
      "image/png": "[encoded data removed]",
      "text/plain": [
       "<Figure size 432x288 with 1 Axes>"
      ]
     },
     "metadata": {},
     "output_type": "display_data"
    }
   ],
   "source": [
    "# sanity check\n",
    "\n",
    "arr1 = (df['indoor_co2 [ppm]']-indoorCO2Mean)/indoorCO2Std\n",
    "arr2 = (df['wifi_connected_devices [number]']-wifiDevicesMean)/wifiDevicesStd\n",
    "\n",
    "print(np.corrcoef(arr1, arr2))\n",
    "line = np.linspace(-1.8, 4.6, 100)\n",
    "mdl = np.poly1d(np.polyfit(arr1, arr2, 1))\n",
    "mdl3 = np.poly1d(np.polyfit(arr1, arr2, 3))\n",
    "\n",
    "# mpl.style.use('seaborn-dark-palette')\n",
    "# mpl.style.use('seaborn-darkgrid')\n",
    "# mpl.style.use('seaborn-deep')\n",
    "mpl.style.use('seaborn-dark')\n",
    "\n",
    "sns.lineplot(x=arr1, y=arr2, alpha=0.55)\n",
    "plt.plot(line, mdl3(line))\n",
    "plt.plot(line, mdl(line))\n",
    "\n",
    "plt.title(f'Feature correlation (multicollinearity check), corr={np.round(mdl.coef[0], 2)}');"
   ]
  },
  {
   "cell_type": "code",
   "execution_count": 274,
   "metadata": {},
   "outputs": [],
   "source": [
    "lrPerformance[('lin-reg', 'one-hot')] = lrRMSE"
   ]
  },
  {
   "cell_type": "code",
   "execution_count": 295,
   "metadata": {},
   "outputs": [
    {
     "name": "stdout",
     "output_type": "stream",
     "text": [
      "Model - lin-reg, one-hot\n",
      "Learning feature sample: [1, 1, 0, 0, 0, 0, 0, 0, 0, 0, 0, 0, 0, 0, 0.288331218068863, 0.20005668386070682]\n",
      "coefficients: [2.51017815 0.14027575 0.45693332 1.37661187 1.87173858 1.86087422\n",
      " 2.44248679 3.27343789 3.4271599  3.40350706 2.29825606 1.79139328\n",
      " 1.14432045 0.63069239 0.62363237 0.99554744]\n",
      "\n",
      "Model - lin-reg, sin/cos\n",
      "Learning feature sample: [1, 0.8660254037844387, -0.4999999999999998, 0.288331218068863, 0.20005668386070682]\n",
      "coefficients: [ 2.59559811 -1.90356412 -2.35367418  0.56816412  1.01537706]\n",
      "\n",
      "Model - lin-reg, rbf\n",
      "Learning feature sample: [1, 0.2271734201167346, 0.95384034078631, 0.5420069956565414, 0.041681672223569, 0.288331218068863, 0.20005668386070682]\n",
      "coefficients: [-124.02729455   68.55032542   70.57850723   73.96893252   74.02193929\n",
      "    0.6221681     0.9940373 ]\n",
      "\n"
     ]
    }
   ],
   "source": [
    "# Repeat for sin/cos and RBF hour transformations (Linear regression)\n",
    "\n",
    "# Record prediction values for each model examine their distribution\n",
    "model = []\n",
    "predVal = []\n",
    "\n",
    "for trans in ['one-hot', 'sin/cos', 'rbf']:\n",
    "    X = []\n",
    "    y = []\n",
    "    df.apply(feat, hourEncoding=trans, axis=1)\n",
    "\n",
    "    threshold = int(len(X)*0.75)\n",
    "    XTrain = X[:threshold]\n",
    "    XTest = X[threshold:]\n",
    "    yTrain = y[:threshold]\n",
    "    yTest = y[threshold:]\n",
    "    featSample = X[0]\n",
    "\n",
    "    # Model initiation and fit\n",
    "    mdl = linear_model.LinearRegression(fit_intercept=False)\n",
    "    mdl.fit(XTrain, yTrain)\n",
    "\n",
    "    # Make predictions and get RMSE\n",
    "    trainPreds = mdl.predict(XTrain)\n",
    "    trainRMSE = RMSE(yTrain, trainPreds)\n",
    "    testPreds = mdl.predict(XTest)\n",
    "    testRMSE = RMSE(yTest, testPreds)\n",
    "\n",
    "    lrPerformance[('lin-reg', trans)] = testRMSE\n",
    "    lrTrainPerformance[('lin-reg', trans)] = trainRMSE\n",
    "    model += [f'lin-reg, {trans}']*len(testPreds)\n",
    "    predVal += list(preds)\n",
    "\n",
    "    # Examine model\n",
    "    print(f'Model - lin-reg, {trans}')\n",
    "    print(f'Learning feature sample: {featSample}')\n",
    "    # print(f'{featSample}')\n",
    "    print(f'coefficients: {mdl.coef_}')\n",
    "    # print(f'{mdl.coef_}')\n",
    "    print('')\n"
   ]
  },
  {
   "cell_type": "code",
   "execution_count": 293,
   "metadata": {},
   "outputs": [
    {
     "data": {
      "image/png": "[encoded data removed]",
      "text/plain": [
       "<Figure size 432x288 with 1 Axes>"
      ]
     },
     "metadata": {},
     "output_type": "display_data"
    }
   ],
   "source": [
    "# Plot distribution of prediction values\n",
    "\n",
    "predVariety = pd.DataFrame(data={'model': model, 'predVal': predVal})\n",
    "sns.histplot(data=predVariety, x='predVal', hue='model', kde=True, alpha=0.46);\n",
    "plt.title('Lin-reg models prediction values')\n",
    "plt.xlabel('predicted occupancy');"
   ]
  },
  {
   "cell_type": "code",
   "execution_count": 296,
   "metadata": {},
   "outputs": [
    {
     "data": {
      "text/plain": [
       "defaultdict(float,\n",
       "            {('lin-reg', 'one-hot'): 2.2334939506347933,\n",
       "             ('lin-reg', 'sin/cos'): 2.243164827500044,\n",
       "             ('lin-reg', 'rbf'): 2.2266253252047497})"
      ]
     },
     "execution_count": 296,
     "metadata": {},
     "output_type": "execute_result"
    }
   ],
   "source": [
    "lrPerformance"
   ]
  },
  {
   "cell_type": "code",
   "execution_count": 297,
   "metadata": {},
   "outputs": [
    {
     "data": {
      "text/plain": [
       "defaultdict(float,\n",
       "            {('lin-reg', 'one-hot'): 2.3504687786936733,\n",
       "             ('lin-reg', 'sin/cos'): 2.3696494143564286,\n",
       "             ('lin-reg', 'rbf'): 2.3559523957528716})"
      ]
     },
     "execution_count": 297,
     "metadata": {},
     "output_type": "execute_result"
    }
   ],
   "source": [
    "lrTrainPerformance"
   ]
  },
  {
   "cell_type": "code",
   "execution_count": null,
   "metadata": {},
   "outputs": [],
   "source": []
  }
 ],
 "metadata": {
  "kernelspec": {
   "display_name": "Python 3",
   "language": "python",
   "name": "python3"
  },
  "language_info": {
   "codemirror_mode": {
    "name": "ipython",
    "version": 3
   },
   "file_extension": ".py",
   "mimetype": "text/x-python",
   "name": "python",
   "nbconvert_exporter": "python",
   "pygments_lexer": "ipython3",
   "version": "3.9.2"
  }
 },
 "nbformat": 4,
 "nbformat_minor": 2
}
